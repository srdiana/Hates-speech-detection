{
 "cells": [
  {
   "cell_type": "code",
   "execution_count": 1,
   "id": "b5927603",
   "metadata": {
    "execution": {
     "iopub.execute_input": "2025-04-15T20:38:39.272597Z",
     "iopub.status.busy": "2025-04-15T20:38:39.272365Z",
     "iopub.status.idle": "2025-04-15T20:38:43.588821Z",
     "shell.execute_reply": "2025-04-15T20:38:43.587638Z",
     "shell.execute_reply.started": "2025-04-15T20:38:39.272574Z"
    },
    "trusted": true
   },
   "outputs": [],
   "source": [
    "import pandas as pd\n",
    "import numpy as np\n",
    "from sklearn.model_selection import train_test_split\n",
    "from sklearn.preprocessing import LabelEncoder\n",
    "from sklearn.linear_model import LogisticRegression\n",
    "from sklearn.tree import DecisionTreeClassifier\n",
    "from sklearn.metrics import classification_report\n",
    "import json"
   ]
  },
  {
   "cell_type": "code",
   "execution_count": 2,
   "id": "5616c1a6",
   "metadata": {
    "execution": {
     "iopub.execute_input": "2025-04-15T20:39:02.227727Z",
     "iopub.status.busy": "2025-04-15T20:39:02.227379Z",
     "iopub.status.idle": "2025-04-15T20:40:01.860966Z",
     "shell.execute_reply": "2025-04-15T20:40:01.859832Z",
     "shell.execute_reply.started": "2025-04-15T20:39:02.227700Z"
    },
    "trusted": true
   },
   "outputs": [],
   "source": [
    "def load_data(file_path):\n",
    "    with open(file_path, 'r') as f:\n",
    "        data = json.load(f)  \n",
    "    return pd.DataFrame(data)\n",
    "\n",
    "df = load_data('/kaggle/input/kinopoisk-embeddings/embeddings.json')"
   ]
  },
  {
   "cell_type": "code",
   "execution_count": 3,
   "id": "a513999d",
   "metadata": {
    "execution": {
     "iopub.execute_input": "2025-04-15T20:41:26.466543Z",
     "iopub.status.busy": "2025-04-15T20:41:26.464252Z",
     "iopub.status.idle": "2025-04-15T20:41:26.516940Z",
     "shell.execute_reply": "2025-04-15T20:41:26.515802Z",
     "shell.execute_reply.started": "2025-04-15T20:41:26.466487Z"
    },
    "trusted": true
   },
   "outputs": [
    {
     "data": {
      "text/html": [
       "<div>\n",
       "<style scoped>\n",
       "    .dataframe tbody tr th:only-of-type {\n",
       "        vertical-align: middle;\n",
       "    }\n",
       "\n",
       "    .dataframe tbody tr th {\n",
       "        vertical-align: top;\n",
       "    }\n",
       "\n",
       "    .dataframe thead th {\n",
       "        text-align: right;\n",
       "    }\n",
       "</style>\n",
       "<table border=\"1\" class=\"dataframe\">\n",
       "  <thead>\n",
       "    <tr style=\"text-align: right;\">\n",
       "      <th></th>\n",
       "      <th>filename</th>\n",
       "      <th>label</th>\n",
       "      <th>embedding</th>\n",
       "    </tr>\n",
       "  </thead>\n",
       "  <tbody>\n",
       "    <tr>\n",
       "      <th>0</th>\n",
       "      <td>1000083-0.txt</td>\n",
       "      <td>negative</td>\n",
       "      <td>[0.0019, 0.0049, 0.0015, 0.0018, 0.0018, 0.001...</td>\n",
       "    </tr>\n",
       "    <tr>\n",
       "      <th>1</th>\n",
       "      <td>1000083-1.txt</td>\n",
       "      <td>negative</td>\n",
       "      <td>[0.001, 0.0007, 0.0008, 0.0006, 0.0012, 0.0007...</td>\n",
       "    </tr>\n",
       "    <tr>\n",
       "      <th>2</th>\n",
       "      <td>1000125-3.txt</td>\n",
       "      <td>negative</td>\n",
       "      <td>[0.001, 0.0024, 0.0013, 0.0013, 0.0012, 0.0015...</td>\n",
       "    </tr>\n",
       "    <tr>\n",
       "      <th>3</th>\n",
       "      <td>1000125-4.txt</td>\n",
       "      <td>negative</td>\n",
       "      <td>[0.0, 0.0033, 0.0014, 0.0014, 0.0007, 0.0016, ...</td>\n",
       "    </tr>\n",
       "    <tr>\n",
       "      <th>4</th>\n",
       "      <td>1000125-6.txt</td>\n",
       "      <td>negative</td>\n",
       "      <td>[0.0004, 0.0026, 0.0004, 0.0016, 0.0036, 0.003...</td>\n",
       "    </tr>\n",
       "  </tbody>\n",
       "</table>\n",
       "</div>"
      ],
      "text/plain": [
       "        filename     label                                          embedding\n",
       "0  1000083-0.txt  negative  [0.0019, 0.0049, 0.0015, 0.0018, 0.0018, 0.001...\n",
       "1  1000083-1.txt  negative  [0.001, 0.0007, 0.0008, 0.0006, 0.0012, 0.0007...\n",
       "2  1000125-3.txt  negative  [0.001, 0.0024, 0.0013, 0.0013, 0.0012, 0.0015...\n",
       "3  1000125-4.txt  negative  [0.0, 0.0033, 0.0014, 0.0014, 0.0007, 0.0016, ...\n",
       "4  1000125-6.txt  negative  [0.0004, 0.0026, 0.0004, 0.0016, 0.0036, 0.003..."
      ]
     },
     "execution_count": 3,
     "metadata": {},
     "output_type": "execute_result"
    }
   ],
   "source": [
    "df.head()"
   ]
  },
  {
   "cell_type": "code",
   "execution_count": 4,
   "id": "e63f819f",
   "metadata": {
    "execution": {
     "iopub.execute_input": "2025-04-15T20:41:30.174985Z",
     "iopub.status.busy": "2025-04-15T20:41:30.174591Z",
     "iopub.status.idle": "2025-04-15T20:41:30.224003Z",
     "shell.execute_reply": "2025-04-15T20:41:30.223246Z",
     "shell.execute_reply.started": "2025-04-15T20:41:30.174947Z"
    },
    "trusted": true
   },
   "outputs": [],
   "source": [
    "le = LabelEncoder()\n",
    "df['label_encoded'] = le.fit_transform(df['label'])"
   ]
  },
  {
   "cell_type": "code",
   "execution_count": 5,
   "id": "8b6b0425",
   "metadata": {
    "execution": {
     "iopub.execute_input": "2025-04-15T20:41:33.577122Z",
     "iopub.status.busy": "2025-04-15T20:41:33.576593Z",
     "iopub.status.idle": "2025-04-15T20:41:52.550867Z",
     "shell.execute_reply": "2025-04-15T20:41:52.549461Z",
     "shell.execute_reply.started": "2025-04-15T20:41:33.577088Z"
    },
    "trusted": true
   },
   "outputs": [],
   "source": [
    "X = np.array(df['embedding'].tolist())\n",
    "y = df['label_encoded'].values"
   ]
  },
  {
   "cell_type": "code",
   "execution_count": 6,
   "id": "3fb564f4",
   "metadata": {
    "execution": {
     "iopub.execute_input": "2025-04-15T20:42:11.495863Z",
     "iopub.status.busy": "2025-04-15T20:42:11.495176Z",
     "iopub.status.idle": "2025-04-15T20:42:12.772051Z",
     "shell.execute_reply": "2025-04-15T20:42:12.771055Z",
     "shell.execute_reply.started": "2025-04-15T20:42:11.495801Z"
    },
    "trusted": true
   },
   "outputs": [],
   "source": [
    "X_train, X_temp, y_train, y_temp = train_test_split(X, y, test_size=0.3, random_state=42)\n",
    "X_val, X_test, y_val, y_test = train_test_split(X_temp, y_temp, test_size=0.5, random_state=42)"
   ]
  },
  {
   "cell_type": "code",
   "execution_count": 9,
   "id": "98a3ee77",
   "metadata": {},
   "outputs": [
    {
     "name": "stdout",
     "output_type": "stream",
     "text": [
      "Logistic Regression Test Results:\n",
      "              precision    recall  f1-score   support\n",
      "\n",
      "           0       0.71      0.20      0.31      2921\n",
      "           1       0.66      0.01      0.02      3780\n",
      "           2       0.69      1.00      0.81     13050\n",
      "\n",
      "    accuracy                           0.69     19751\n",
      "   macro avg       0.69      0.40      0.38     19751\n",
      "weighted avg       0.69      0.69      0.59     19751\n",
      "\n"
     ]
    }
   ],
   "source": [
    "lr = LogisticRegression(max_iter=1000)\n",
    "lr.fit(X_train, y_train)\n",
    "print(\"Logistic Regression Test Results:\")\n",
    "print(classification_report(y_test, lr.predict(X_test)))"
   ]
  },
  {
   "cell_type": "code",
   "execution_count": 10,
   "id": "a0e164ea",
   "metadata": {},
   "outputs": [
    {
     "name": "stdout",
     "output_type": "stream",
     "text": [
      "Decision Tree Test Results:\n",
      "              precision    recall  f1-score   support\n",
      "\n",
      "           0       0.30      0.29      0.29      2921\n",
      "           1       0.24      0.24      0.24      3780\n",
      "           2       0.73      0.73      0.73     13050\n",
      "\n",
      "    accuracy                           0.57     19751\n",
      "   macro avg       0.42      0.42      0.42     19751\n",
      "weighted avg       0.57      0.57      0.57     19751\n",
      "\n"
     ]
    }
   ],
   "source": [
    "dt = DecisionTreeClassifier(random_state=42)\n",
    "dt.fit(X_train, y_train)\n",
    "print(\"Decision Tree Test Results:\")\n",
    "print(classification_report(y_test, dt.predict(X_test)))"
   ]
  },
  {
   "cell_type": "code",
   "execution_count": null,
   "id": "08fda346-ee24-4053-8543-077adcb932eb",
   "metadata": {
    "execution": {
     "iopub.execute_input": "2025-04-15T20:50:13.127243Z",
     "iopub.status.busy": "2025-04-15T20:50:13.125759Z",
     "iopub.status.idle": "2025-04-15T20:50:28.685096Z",
     "shell.execute_reply": "2025-04-15T20:50:28.683727Z",
     "shell.execute_reply.started": "2025-04-15T20:50:13.127169Z"
    },
    "trusted": true
   },
   "outputs": [],
   "source": [
    "X = np.array(df['embedding'].tolist(), dtype=np.float32)  # Add dtype=np.float32\n",
    "y = df['label_encoded'].values"
   ]
  },
  {
   "cell_type": "code",
   "execution_count": 15,
   "id": "e8b6f5e6-ff12-4b90-b67b-3ae89d4ac623",
   "metadata": {
    "execution": {
     "iopub.execute_input": "2025-04-15T20:50:56.960481Z",
     "iopub.status.busy": "2025-04-15T20:50:56.959604Z",
     "iopub.status.idle": "2025-04-15T20:50:57.576767Z",
     "shell.execute_reply": "2025-04-15T20:50:57.575795Z",
     "shell.execute_reply.started": "2025-04-15T20:50:56.960449Z"
    },
    "trusted": true
   },
   "outputs": [],
   "source": [
    "X_train, X_temp, y_train, y_temp = train_test_split(X, y, test_size=0.3, random_state=42)\n",
    "X_val, X_test, y_val, y_test = train_test_split(X_temp, y_temp, test_size=0.5, random_state=42)"
   ]
  },
  {
   "cell_type": "code",
   "execution_count": 16,
   "id": "d269e8d9",
   "metadata": {
    "execution": {
     "iopub.execute_input": "2025-04-15T20:51:04.849987Z",
     "iopub.status.busy": "2025-04-15T20:51:04.849631Z",
     "iopub.status.idle": "2025-04-15T20:51:06.471333Z",
     "shell.execute_reply": "2025-04-15T20:51:06.469908Z",
     "shell.execute_reply.started": "2025-04-15T20:51:04.849961Z"
    },
    "trusted": true
   },
   "outputs": [],
   "source": [
    "import torch\n",
    "from torch import nn, optim\n",
    "from torch.utils.data import DataLoader, TensorDataset\n",
    "\n",
    "train_dataset = TensorDataset(torch.tensor(X_train), torch.tensor(y_train))\n",
    "val_dataset = TensorDataset(torch.tensor(X_val), torch.tensor(y_val))\n",
    "test_dataset = TensorDataset(torch.tensor(X_test), torch.tensor(y_test))"
   ]
  },
  {
   "cell_type": "code",
   "execution_count": 23,
   "id": "c0e53eef",
   "metadata": {
    "execution": {
     "iopub.execute_input": "2025-04-15T20:54:17.262739Z",
     "iopub.status.busy": "2025-04-15T20:54:17.261755Z",
     "iopub.status.idle": "2025-04-15T20:54:17.268428Z",
     "shell.execute_reply": "2025-04-15T20:54:17.267552Z",
     "shell.execute_reply.started": "2025-04-15T20:54:17.262708Z"
    },
    "trusted": true
   },
   "outputs": [],
   "source": [
    "class NeuralNetwork(nn.Module):\n",
    "    def __init__(self, input_size, num_classes):\n",
    "        super().__init__()\n",
    "        self.layers = nn.Sequential(\n",
    "            nn.Linear(input_size, 64),\n",
    "            nn.ReLU(),\n",
    "            nn.Dropout(0.3),\n",
    "            nn.Linear(64, 32),\n",
    "            nn.ReLU(),\n",
    "            nn.Linear(32, num_classes)\n",
    "        )\n",
    "    \n",
    "    def forward(self, x):\n",
    "        return self.layers(x)"
   ]
  },
  {
   "cell_type": "code",
   "execution_count": 24,
   "id": "6aabc4a7",
   "metadata": {
    "execution": {
     "iopub.execute_input": "2025-04-15T20:54:25.690938Z",
     "iopub.status.busy": "2025-04-15T20:54:25.690585Z",
     "iopub.status.idle": "2025-04-15T20:54:25.696133Z",
     "shell.execute_reply": "2025-04-15T20:54:25.694929Z",
     "shell.execute_reply.started": "2025-04-15T20:54:25.690913Z"
    },
    "trusted": true
   },
   "outputs": [],
   "source": [
    "input_size = X_train.shape[1]\n",
    "num_classes = len(le.classes_)\n",
    "batch_size = 32\n",
    "epochs = 20\n",
    "learning_rate = 0.001"
   ]
  },
  {
   "cell_type": "code",
   "execution_count": 25,
   "id": "6a6eb4d4",
   "metadata": {
    "execution": {
     "iopub.execute_input": "2025-04-15T20:54:28.389993Z",
     "iopub.status.busy": "2025-04-15T20:54:28.389626Z",
     "iopub.status.idle": "2025-04-15T20:54:28.398492Z",
     "shell.execute_reply": "2025-04-15T20:54:28.397182Z",
     "shell.execute_reply.started": "2025-04-15T20:54:28.389967Z"
    },
    "trusted": true
   },
   "outputs": [],
   "source": [
    "model = NeuralNetwork(input_size, num_classes)\n",
    "criterion = nn.CrossEntropyLoss()\n",
    "optimizer = optim.Adam(model.parameters(), lr=learning_rate)"
   ]
  },
  {
   "cell_type": "code",
   "execution_count": 19,
   "id": "f51a81f3",
   "metadata": {
    "execution": {
     "iopub.execute_input": "2025-04-15T20:51:19.229720Z",
     "iopub.status.busy": "2025-04-15T20:51:19.229382Z",
     "iopub.status.idle": "2025-04-15T20:51:19.380014Z",
     "shell.execute_reply": "2025-04-15T20:51:19.378925Z",
     "shell.execute_reply.started": "2025-04-15T20:51:19.229694Z"
    },
    "trusted": true
   },
   "outputs": [],
   "source": [
    "train_loader = DataLoader(train_dataset, batch_size=batch_size, shuffle=True)\n",
    "val_loader = DataLoader(val_dataset, batch_size=batch_size)\n",
    "test_loader = DataLoader(test_dataset, batch_size=batch_size)"
   ]
  },
  {
   "cell_type": "code",
   "execution_count": 26,
   "id": "36c0b4b0",
   "metadata": {
    "execution": {
     "iopub.execute_input": "2025-04-15T20:54:31.741898Z",
     "iopub.status.busy": "2025-04-15T20:54:31.741535Z",
     "iopub.status.idle": "2025-04-15T20:57:51.814439Z",
     "shell.execute_reply": "2025-04-15T20:57:51.813243Z",
     "shell.execute_reply.started": "2025-04-15T20:54:31.741864Z"
    },
    "trusted": true
   },
   "outputs": [
    {
     "name": "stdout",
     "output_type": "stream",
     "text": [
      "Epoch 1/20 | Val Accuracy: 0.7364\n",
      "Epoch 2/20 | Val Accuracy: 0.7393\n",
      "Epoch 3/20 | Val Accuracy: 0.7426\n",
      "Epoch 4/20 | Val Accuracy: 0.7482\n",
      "Epoch 5/20 | Val Accuracy: 0.7504\n",
      "Epoch 6/20 | Val Accuracy: 0.7506\n",
      "Epoch 7/20 | Val Accuracy: 0.7485\n",
      "Epoch 8/20 | Val Accuracy: 0.7471\n",
      "Epoch 9/20 | Val Accuracy: 0.7476\n",
      "Epoch 10/20 | Val Accuracy: 0.7469\n",
      "Epoch 11/20 | Val Accuracy: 0.7445\n",
      "Epoch 12/20 | Val Accuracy: 0.7427\n",
      "Epoch 13/20 | Val Accuracy: 0.7444\n",
      "Epoch 14/20 | Val Accuracy: 0.7397\n",
      "Epoch 15/20 | Val Accuracy: 0.7419\n",
      "Epoch 16/20 | Val Accuracy: 0.7394\n",
      "Epoch 17/20 | Val Accuracy: 0.7388\n",
      "Epoch 18/20 | Val Accuracy: 0.7366\n",
      "Epoch 19/20 | Val Accuracy: 0.7367\n",
      "Epoch 20/20 | Val Accuracy: 0.7333\n"
     ]
    }
   ],
   "source": [
    "for epoch in range(epochs):\n",
    "    model.train()\n",
    "    for inputs, labels in train_loader:\n",
    "        optimizer.zero_grad()\n",
    "        outputs = model(inputs)\n",
    "        loss = criterion(outputs, labels)\n",
    "        loss.backward()\n",
    "        optimizer.step()\n",
    "    \n",
    "    \n",
    "    model.eval()\n",
    "    val_loss = 0\n",
    "    correct = 0\n",
    "    with torch.no_grad():\n",
    "        for inputs, labels in val_loader:\n",
    "            outputs = model(inputs)\n",
    "            val_loss += criterion(outputs, labels).item()\n",
    "            preds = outputs.argmax(dim=1)\n",
    "            correct += (preds == labels).sum().item()\n",
    "    \n",
    "    val_acc = correct / len(val_dataset)\n",
    "    print(f\"Epoch {epoch+1}/{epochs} | Val Accuracy: {val_acc:.4f}\")"
   ]
  },
  {
   "cell_type": "code",
   "execution_count": 27,
   "id": "99d851cb",
   "metadata": {
    "execution": {
     "iopub.execute_input": "2025-04-15T20:57:56.949368Z",
     "iopub.status.busy": "2025-04-15T20:57:56.948801Z",
     "iopub.status.idle": "2025-04-15T20:57:57.585101Z",
     "shell.execute_reply": "2025-04-15T20:57:57.584220Z",
     "shell.execute_reply.started": "2025-04-15T20:57:56.949339Z"
    },
    "trusted": true
   },
   "outputs": [
    {
     "name": "stdout",
     "output_type": "stream",
     "text": [
      "\n",
      "Neural Network Test Results:\n",
      "              precision    recall  f1-score   support\n",
      "\n",
      "           0       0.61      0.59      0.60      2921\n",
      "           1       0.41      0.23      0.30      3780\n",
      "           2       0.81      0.91      0.86     13050\n",
      "\n",
      "    accuracy                           0.73     19751\n",
      "   macro avg       0.61      0.58      0.58     19751\n",
      "weighted avg       0.70      0.73      0.71     19751\n",
      "\n"
     ]
    }
   ],
   "source": [
    "model.eval()\n",
    "all_preds = []\n",
    "all_labels = []\n",
    "with torch.no_grad():\n",
    "    for inputs, labels in test_loader:\n",
    "        outputs = model(inputs)\n",
    "        preds = outputs.argmax(dim=1)\n",
    "        all_preds.extend(preds.numpy())\n",
    "        all_labels.extend(labels.numpy())\n",
    "\n",
    "print(\"\\nNeural Network Test Results:\")\n",
    "print(classification_report(all_labels, all_preds))"
   ]
  },
  {
   "cell_type": "code",
   "execution_count": 11,
   "id": "40adb638",
   "metadata": {},
   "outputs": [
    {
     "name": "stdout",
     "output_type": "stream",
     "text": [
      "\n",
      "Model Comparison:\n",
      "Logistic Regression Accuracy: 0.6888\n",
      "Decision Tree Accuracy: 0.5690\n"
     ]
    }
   ],
   "source": [
    "print(\"\\nModel Comparison:\")\n",
    "print(f\"Logistic Regression Accuracy: {lr.score(X_test, y_test):.4f}\")\n",
    "print(f\"Decision Tree Accuracy: {dt.score(X_test, y_test):.4f}\")"
   ]
  },
  {
   "cell_type": "code",
   "execution_count": null,
   "id": "04d3a328-df20-423a-8a19-403f09a7fe0b",
   "metadata": {
    "execution": {
     "iopub.execute_input": "2025-04-15T21:00:55.277078Z",
     "iopub.status.busy": "2025-04-15T21:00:55.276675Z",
     "iopub.status.idle": "2025-04-15T21:00:55.328467Z",
     "shell.execute_reply": "2025-04-15T21:00:55.327319Z",
     "shell.execute_reply.started": "2025-04-15T21:00:55.277050Z"
    },
    "trusted": true
   },
   "outputs": [
    {
     "name": "stdout",
     "output_type": "stream",
     "text": [
      "\n",
      "Neural Network Test Results:\n",
      "              precision    recall  f1-score   support\n",
      "\n",
      "           0       0.61      0.59      0.60      2921\n",
      "           1       0.41      0.23      0.30      3780\n",
      "           2       0.81      0.91      0.86     13050\n",
      "\n",
      "    accuracy                           0.73     19751\n",
      "   macro avg       0.61      0.58      0.58     19751\n",
      "weighted avg       0.70      0.73      0.71     19751\n",
      "\n",
      "Neural Network Accuracy: 0.7341\n"
     ]
    }
   ],
   "source": [
    "print(\"\\nNeural Network Test Results:\")\n",
    "print(classification_report(all_labels, all_preds))\n",
    "print(f\"Neural Network Accuracy: {(np.array(all_preds) == np.array(all_labels)).mean():.4f}\")  # Add this line"
   ]
  }
 ],
 "metadata": {
  "kaggle": {
   "accelerator": "none",
   "dataSources": [
    {
     "datasetId": 7156195,
     "sourceId": 11426138,
     "sourceType": "datasetVersion"
    }
   ],
   "dockerImageVersionId": 31012,
   "isGpuEnabled": false,
   "isInternetEnabled": true,
   "language": "python",
   "sourceType": "notebook"
  },
  "kernelspec": {
   "display_name": "Python 3",
   "language": "python",
   "name": "python3"
  },
  "language_info": {
   "codemirror_mode": {
    "name": "ipython",
    "version": 3
   },
   "file_extension": ".py",
   "mimetype": "text/x-python",
   "name": "python",
   "nbconvert_exporter": "python",
   "pygments_lexer": "ipython3",
   "version": "3.11.11"
  }
 },
 "nbformat": 4,
 "nbformat_minor": 5
}
