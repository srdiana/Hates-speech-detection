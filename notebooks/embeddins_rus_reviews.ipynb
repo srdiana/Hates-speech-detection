{
 "cells": [
  {
   "cell_type": "code",
   "execution_count": 17,
   "id": "d63bc6db",
   "metadata": {},
   "outputs": [],
   "source": [
    "import os\n",
    "import re\n",
    "import math\n",
    "import json\n",
    "from collections import defaultdict\n",
    "from tqdm import tqdm\n",
    "import psutil"
   ]
  },
  {
   "cell_type": "code",
   "execution_count": 18,
   "id": "e33c9eaa",
   "metadata": {},
   "outputs": [],
   "source": [
    "# Конфигурация\n",
    "DATASET_DIR = 'C:/Users/szlat/Hates-speech-detection/dataset'\n",
    "OUTPUT_FILE = 'embeddings.json'\n",
    "MIN_WORD_COUNT = 15      # Минимальная частота слова\n",
    "MAX_FEATURES = 2000      # Максимальный размер словаря\n",
    "CHUNK_SIZE = 500         # Размер порции обработки\n",
    "KEEP_TEXT = False        # Сохранять исходный текст"
   ]
  },
  {
   "cell_type": "code",
   "execution_count": 29,
   "id": "2d5f1107",
   "metadata": {},
   "outputs": [],
   "source": [
    "STOPWORDS = {'и', 'в', 'не', 'на', 'я', 'с'}"
   ]
  },
  {
   "cell_type": "code",
   "execution_count": null,
   "id": "4dda0924",
   "metadata": {},
   "outputs": [],
   "source": [
    "def print_memory_usage(message):\n",
    "    mem = psutil.virtual_memory()\n",
    "    print(f\"{message} - Используется памяти: {mem.used / (1024**3):.2f} GB\")"
   ]
  },
  {
   "cell_type": "code",
   "execution_count": 30,
   "id": "d4e9dc65",
   "metadata": {},
   "outputs": [],
   "source": [
    "def load_data(dataset_dir):\n",
    "    \"\"\"Загрузка данных с проверкой содержимого\"\"\"\n",
    "    data = []\n",
    "    labels_map = {'neg': 'negative', 'neu': 'neutral', 'pos': 'positive'}\n",
    "    \n",
    "    for label_dir in labels_map:\n",
    "        dir_path = os.path.join(dataset_dir, label_dir)\n",
    "        if not os.path.exists(dir_path):\n",
    "            continue\n",
    "            \n",
    "        files = [f for f in os.listdir(dir_path) if f.endswith('.txt')]\n",
    "        for filename in tqdm(files, desc=f'Loading {label_dir}'):\n",
    "            file_path = os.path.join(dir_path, filename)\n",
    "            with open(file_path, 'r', encoding='utf-8') as f:\n",
    "                text = f.read().strip()\n",
    "                if text:\n",
    "                    data.append({\n",
    "                        'text': text,\n",
    "                        'label': labels_map[label_dir],\n",
    "                        'filename': filename\n",
    "                    })\n",
    "    \n",
    "    # Вывод примера для диагностики\n",
    "    print(\"\\nПример загруженного текста:\")\n",
    "    print(data[0]['text'][:100] + \"...\")\n",
    "    return data"
   ]
  },
  {
   "cell_type": "code",
   "execution_count": 31,
   "id": "ca5f3902",
   "metadata": {},
   "outputs": [
    {
     "name": "stdout",
     "output_type": "stream",
     "text": [
      "1. Загрузка данных...\n"
     ]
    },
    {
     "name": "stderr",
     "output_type": "stream",
     "text": [
      "Loading neg: 100%|██████████| 19827/19827 [00:02<00:00, 7861.54it/s]\n",
      "Loading neu: 100%|██████████| 24704/24704 [00:03<00:00, 7778.93it/s]\n",
      "Loading pos: 100%|██████████| 87138/87138 [00:10<00:00, 8002.99it/s]"
     ]
    },
    {
     "name": "stdout",
     "output_type": "stream",
     "text": [
      "\n",
      "Пример загруженного текста:\n",
      "В 2003-ем году под руководством малоизвестного режиссёра Кларка Джонсона студия 'Columbia Pictures' ...\n",
      "Загружено документов: 131669\n"
     ]
    },
    {
     "name": "stderr",
     "output_type": "stream",
     "text": [
      "\n"
     ]
    }
   ],
   "source": [
    "print(\"1. Загрузка данных...\")\n",
    "data = load_data(DATASET_DIR)\n",
    "print(f\"Загружено документов: {len(data)}\")"
   ]
  },
  {
   "cell_type": "code",
   "execution_count": 32,
   "id": "3c6f5b3a",
   "metadata": {},
   "outputs": [],
   "source": [
    "def preprocess_text(text):\n",
    "    \"\"\"Упрощенная предобработка с диагностикой\"\"\"\n",
    "    words = re.findall(r'\\b[а-яё]+\\b', text.lower())  # Все слова без ограничения длины\n",
    "    filtered = [w for w in words if w not in STOPWORDS]\n",
    "    \n",
    "    # Диагностика\n",
    "    if len(filtered) == 0:\n",
    "        print(f\"\\nПредупреждение: все слова отфильтрованы в тексте. Пример: {words[:5]}\")\n",
    "    \n",
    "    return filtered"
   ]
  },
  {
   "cell_type": "code",
   "execution_count": 33,
   "id": "b825e3cc",
   "metadata": {},
   "outputs": [],
   "source": [
    "def build_vocabulary(data):\n",
    "    \"\"\"Построение словаря с подробной диагностикой\"\"\"\n",
    "    word_counts = defaultdict(int)\n",
    "    doc_samples = []\n",
    "    \n",
    "    for item in tqdm(data[:10000], desc=\"Анализ текстов\"):  # Обрабатываем только часть для теста\n",
    "        words = preprocess_text(item['text'])\n",
    "        for word in words:\n",
    "            word_counts[word] += 1\n",
    "        if len(doc_samples) < 5 and words:\n",
    "            doc_samples.append(words[:5])  # Сохраняем примеры слов\n",
    "    \n",
    "    print(\"\\nПримеры найденных слов:\")\n",
    "    for i, sample in enumerate(doc_samples):\n",
    "        print(f\"Документ {i+1}: {sample}\")\n",
    "    \n",
    "    # Анализ распределения частот\n",
    "    freq_dist = sorted(word_counts.items(), key=lambda x: -x[1])\n",
    "    print(\"\\nТоп-10 самых частых слов:\")\n",
    "    for word, cnt in freq_dist[:10]:\n",
    "        print(f\"{word}: {cnt}\")\n",
    "    \n",
    "    # Фильтрация\n",
    "    filtered_words = {w for w, cnt in word_counts.items() if cnt >= MIN_WORD_COUNT}\n",
    "    print(f\"\\nВсего слов до фильтрации: {len(word_counts)}\")\n",
    "    print(f\"Слов после фильтрации (частотность >= {MIN_WORD_COUNT}): {len(filtered_words)}\")\n",
    "    \n",
    "    if not filtered_words:\n",
    "        print(\"\\nКритическая ошибка: словарь пуст! Последние 10 слов:\")\n",
    "        print(freq_dist[-10:])\n",
    "        return {}\n",
    "    \n",
    "    sorted_words = sorted(filtered_words, key=lambda x: -word_counts[x])[:MAX_FEATURES]\n",
    "    return {word: idx for idx, word in enumerate(sorted_words)}"
   ]
  },
  {
   "cell_type": "code",
   "execution_count": 34,
   "id": "a7eb0c50",
   "metadata": {},
   "outputs": [
    {
     "name": "stdout",
     "output_type": "stream",
     "text": [
      "\n",
      "2. Построение словаря (тестовый режим)...\n"
     ]
    },
    {
     "name": "stderr",
     "output_type": "stream",
     "text": [
      "Анализ текстов: 100%|██████████| 10000/10000 [00:02<00:00, 4331.68it/s]"
     ]
    },
    {
     "name": "stdout",
     "output_type": "stream",
     "text": [
      "\n",
      "Примеры найденных слов:\n",
      "Документ 1: ['ем', 'году', 'под', 'руководством', 'малоизвестного']\n",
      "Документ 2: ['грустно', 'печально', 'грустно', 'от', 'того']\n",
      "Документ 3: ['давным', 'давно', 'кира', 'найтли', 'ворвалась']\n",
      "Документ 4: ['общем', 'ничего', 'против', 'уравновешенного', 'феминизма']\n",
      "Документ 5: ['измена', 'один', 'из', 'сюжетов', 'который']\n",
      "\n",
      "Топ-10 самых частых слов:\n",
      "что: 52194\n",
      "то: 31016\n",
      "но: 30293\n",
      "это: 28237\n",
      "как: 27322\n",
      "а: 26990\n",
      "из: 23370\n",
      "фильм: 21464\n",
      "по: 16513\n",
      "все: 16361\n",
      "\n",
      "Всего слов до фильтрации: 185439\n",
      "Слов после фильтрации (частотность >= 15): 18223\n",
      "Размер словаря: 2000 слов\n"
     ]
    },
    {
     "name": "stderr",
     "output_type": "stream",
     "text": [
      "\n"
     ]
    }
   ],
   "source": [
    "print(\"\\n2. Построение словаря (тестовый режим)...\")\n",
    "vocabulary = build_vocabulary(data)\n",
    "print(f\"Размер словаря: {len(vocabulary)} слов\")\n",
    "    \n",
    "if not vocabulary:\n",
    "    print(\"\\nОШИБКА: Не удалось построить словарь. Возможные причины:\")\n",
    "    print(\"- Все слова отфильтрованы стоп-словами\")\n",
    "    print(\"- Неправильная кодировка файлов (не UTF-8)\")\n",
    "    print(\"- Слишком высокий MIN_WORD_COUNT\")\n",
    "    print(\"- Ошибка в регулярном выражении для русских букв\")"
   ]
  },
  {
   "cell_type": "code",
   "execution_count": 35,
   "id": "6b7b476d",
   "metadata": {},
   "outputs": [],
   "source": [
    "def process_chunk(chunk, vocabulary, idf):\n",
    "    \"\"\"Обработка порции данных\"\"\"\n",
    "    embeddings = []\n",
    "    for item in chunk:\n",
    "        if item.get('text') is None:  # Пропускаем документы без текста\n",
    "            embeddings.append([0.0]*len(vocabulary))\n",
    "            continue\n",
    "            \n",
    "        words = preprocess_text(item['text'])\n",
    "        total_words = len(words)\n",
    "        \n",
    "        if total_words == 0:\n",
    "            embeddings.append([0.0]*len(vocabulary))\n",
    "            continue\n",
    "            \n",
    "        word_counts = defaultdict(int)\n",
    "        for word in words:\n",
    "            if word in vocabulary:\n",
    "                word_counts[word] += 1\n",
    "        \n",
    "        embedding = []\n",
    "        for word in vocabulary:\n",
    "            tf = word_counts.get(word, 0) / total_words\n",
    "            embedding.append(tf * idf.get(word, 0))\n",
    "        \n",
    "        embeddings.append(embedding)\n",
    "    return embeddings"
   ]
  },
  {
   "cell_type": "code",
   "execution_count": 36,
   "id": "4282d091",
   "metadata": {},
   "outputs": [
    {
     "name": "stdout",
     "output_type": "stream",
     "text": [
      "\n",
      "3. Расчет IDF...\n"
     ]
    },
    {
     "name": "stderr",
     "output_type": "stream",
     "text": [
      "Анализ документов:  21%|██        | 27224/131669 [00:05<00:20, 5072.73it/s]"
     ]
    },
    {
     "name": "stdout",
     "output_type": "stream",
     "text": [
      "\n",
      "Предупреждение: все слова отфильтрованы в тексте. Пример: []\n",
      "\n",
      "Предупреждение: все слова отфильтрованы в тексте. Пример: []\n"
     ]
    },
    {
     "name": "stderr",
     "output_type": "stream",
     "text": [
      "Анализ документов: 100%|██████████| 131669/131669 [00:28<00:00, 4673.27it/s]\n"
     ]
    },
    {
     "name": "stdout",
     "output_type": "stream",
     "text": [
      "\n",
      "4. Создание эмбеддингов...\n"
     ]
    },
    {
     "name": "stderr",
     "output_type": "stream",
     "text": [
      "Обработка:   0%|          | 1/264 [00:01<05:58,  1.36s/it]"
     ]
    },
    {
     "name": "stdout",
     "output_type": "stream",
     "text": [
      "Промежуточный отчет - Используется памяти: 9.64 GB\n"
     ]
    },
    {
     "name": "stderr",
     "output_type": "stream",
     "text": [
      "Обработка:   1%|          | 3/264 [00:04<05:58,  1.37s/it]"
     ]
    },
    {
     "name": "stdout",
     "output_type": "stream",
     "text": [
      "Промежуточный отчет - Используется памяти: 9.66 GB\n"
     ]
    },
    {
     "name": "stderr",
     "output_type": "stream",
     "text": [
      "Обработка:   2%|▏         | 5/264 [00:07<07:03,  1.63s/it]"
     ]
    },
    {
     "name": "stdout",
     "output_type": "stream",
     "text": [
      "Промежуточный отчет - Используется памяти: 9.66 GB\n"
     ]
    },
    {
     "name": "stderr",
     "output_type": "stream",
     "text": [
      "Обработка:   3%|▎         | 7/264 [00:10<06:18,  1.47s/it]"
     ]
    },
    {
     "name": "stdout",
     "output_type": "stream",
     "text": [
      "Промежуточный отчет - Используется памяти: 9.67 GB\n"
     ]
    },
    {
     "name": "stderr",
     "output_type": "stream",
     "text": [
      "Обработка:   3%|▎         | 9/264 [00:12<05:58,  1.41s/it]"
     ]
    },
    {
     "name": "stdout",
     "output_type": "stream",
     "text": [
      "Промежуточный отчет - Используется памяти: 9.68 GB\n"
     ]
    },
    {
     "name": "stderr",
     "output_type": "stream",
     "text": [
      "Обработка:   4%|▍         | 11/264 [00:15<05:49,  1.38s/it]"
     ]
    },
    {
     "name": "stdout",
     "output_type": "stream",
     "text": [
      "Промежуточный отчет - Используется памяти: 9.67 GB\n"
     ]
    },
    {
     "name": "stderr",
     "output_type": "stream",
     "text": [
      "Обработка:   5%|▍         | 13/264 [00:18<05:42,  1.36s/it]"
     ]
    },
    {
     "name": "stdout",
     "output_type": "stream",
     "text": [
      "Промежуточный отчет - Используется памяти: 9.67 GB\n"
     ]
    },
    {
     "name": "stderr",
     "output_type": "stream",
     "text": [
      "Обработка:   6%|▌         | 15/264 [00:21<05:35,  1.35s/it]"
     ]
    },
    {
     "name": "stdout",
     "output_type": "stream",
     "text": [
      "Промежуточный отчет - Используется памяти: 9.67 GB\n"
     ]
    },
    {
     "name": "stderr",
     "output_type": "stream",
     "text": [
      "Обработка:   6%|▋         | 17/264 [00:23<05:33,  1.35s/it]"
     ]
    },
    {
     "name": "stdout",
     "output_type": "stream",
     "text": [
      "Промежуточный отчет - Используется памяти: 9.67 GB\n"
     ]
    },
    {
     "name": "stderr",
     "output_type": "stream",
     "text": [
      "Обработка:   7%|▋         | 19/264 [00:26<05:33,  1.36s/it]"
     ]
    },
    {
     "name": "stdout",
     "output_type": "stream",
     "text": [
      "Промежуточный отчет - Используется памяти: 9.69 GB\n"
     ]
    },
    {
     "name": "stderr",
     "output_type": "stream",
     "text": [
      "Обработка:   8%|▊         | 21/264 [00:29<05:43,  1.41s/it]"
     ]
    },
    {
     "name": "stdout",
     "output_type": "stream",
     "text": [
      "Промежуточный отчет - Используется памяти: 9.72 GB\n"
     ]
    },
    {
     "name": "stderr",
     "output_type": "stream",
     "text": [
      "Обработка:   9%|▊         | 23/264 [00:32<05:59,  1.49s/it]"
     ]
    },
    {
     "name": "stdout",
     "output_type": "stream",
     "text": [
      "Промежуточный отчет - Используется памяти: 9.88 GB\n"
     ]
    },
    {
     "name": "stderr",
     "output_type": "stream",
     "text": [
      "Обработка:   9%|▉         | 25/264 [00:35<05:57,  1.50s/it]"
     ]
    },
    {
     "name": "stdout",
     "output_type": "stream",
     "text": [
      "Промежуточный отчет - Используется памяти: 9.93 GB\n"
     ]
    },
    {
     "name": "stderr",
     "output_type": "stream",
     "text": [
      "Обработка:  10%|█         | 27/264 [00:38<05:53,  1.49s/it]"
     ]
    },
    {
     "name": "stdout",
     "output_type": "stream",
     "text": [
      "Промежуточный отчет - Используется памяти: 9.95 GB\n"
     ]
    },
    {
     "name": "stderr",
     "output_type": "stream",
     "text": [
      "Обработка:  11%|█         | 29/264 [00:41<05:56,  1.52s/it]"
     ]
    },
    {
     "name": "stdout",
     "output_type": "stream",
     "text": [
      "Промежуточный отчет - Используется памяти: 10.01 GB\n"
     ]
    },
    {
     "name": "stderr",
     "output_type": "stream",
     "text": [
      "Обработка:  12%|█▏        | 31/264 [00:44<05:57,  1.53s/it]"
     ]
    },
    {
     "name": "stdout",
     "output_type": "stream",
     "text": [
      "Промежуточный отчет - Используется памяти: 9.99 GB\n"
     ]
    },
    {
     "name": "stderr",
     "output_type": "stream",
     "text": [
      "Обработка:  12%|█▎        | 33/264 [00:47<05:58,  1.55s/it]"
     ]
    },
    {
     "name": "stdout",
     "output_type": "stream",
     "text": [
      "Промежуточный отчет - Используется памяти: 10.05 GB\n"
     ]
    },
    {
     "name": "stderr",
     "output_type": "stream",
     "text": [
      "Обработка:  13%|█▎        | 35/264 [00:50<05:50,  1.53s/it]"
     ]
    },
    {
     "name": "stdout",
     "output_type": "stream",
     "text": [
      "Промежуточный отчет - Используется памяти: 10.06 GB\n"
     ]
    },
    {
     "name": "stderr",
     "output_type": "stream",
     "text": [
      "Обработка:  14%|█▍        | 37/264 [00:54<05:59,  1.59s/it]"
     ]
    },
    {
     "name": "stdout",
     "output_type": "stream",
     "text": [
      "Промежуточный отчет - Используется памяти: 10.11 GB\n"
     ]
    },
    {
     "name": "stderr",
     "output_type": "stream",
     "text": [
      "Обработка:  15%|█▍        | 39/264 [00:57<06:09,  1.64s/it]"
     ]
    },
    {
     "name": "stdout",
     "output_type": "stream",
     "text": [
      "Промежуточный отчет - Используется памяти: 10.13 GB\n"
     ]
    },
    {
     "name": "stderr",
     "output_type": "stream",
     "text": [
      "Обработка:  16%|█▌        | 41/264 [01:00<06:03,  1.63s/it]"
     ]
    },
    {
     "name": "stdout",
     "output_type": "stream",
     "text": [
      "Промежуточный отчет - Используется памяти: 10.14 GB\n"
     ]
    },
    {
     "name": "stderr",
     "output_type": "stream",
     "text": [
      "Обработка:  16%|█▋        | 43/264 [01:04<06:03,  1.64s/it]"
     ]
    },
    {
     "name": "stdout",
     "output_type": "stream",
     "text": [
      "Промежуточный отчет - Используется памяти: 10.11 GB\n"
     ]
    },
    {
     "name": "stderr",
     "output_type": "stream",
     "text": [
      "Обработка:  17%|█▋        | 45/264 [01:07<05:53,  1.61s/it]"
     ]
    },
    {
     "name": "stdout",
     "output_type": "stream",
     "text": [
      "Промежуточный отчет - Используется памяти: 10.17 GB\n"
     ]
    },
    {
     "name": "stderr",
     "output_type": "stream",
     "text": [
      "Обработка:  18%|█▊        | 47/264 [01:10<05:50,  1.61s/it]"
     ]
    },
    {
     "name": "stdout",
     "output_type": "stream",
     "text": [
      "Промежуточный отчет - Используется памяти: 10.23 GB\n"
     ]
    },
    {
     "name": "stderr",
     "output_type": "stream",
     "text": [
      "Обработка:  19%|█▊        | 49/264 [01:13<05:40,  1.58s/it]"
     ]
    },
    {
     "name": "stdout",
     "output_type": "stream",
     "text": [
      "Промежуточный отчет - Используется памяти: 10.27 GB\n"
     ]
    },
    {
     "name": "stderr",
     "output_type": "stream",
     "text": [
      "Обработка:  19%|█▉        | 51/264 [01:16<05:30,  1.55s/it]"
     ]
    },
    {
     "name": "stdout",
     "output_type": "stream",
     "text": [
      "Промежуточный отчет - Используется памяти: 10.32 GB\n"
     ]
    },
    {
     "name": "stderr",
     "output_type": "stream",
     "text": [
      "Обработка:  20%|██        | 53/264 [01:20<05:42,  1.62s/it]"
     ]
    },
    {
     "name": "stdout",
     "output_type": "stream",
     "text": [
      "Промежуточный отчет - Используется памяти: 10.36 GB\n",
      "\n",
      "Предупреждение: все слова отфильтрованы в тексте. Пример: []\n",
      "\n",
      "Предупреждение: все слова отфильтрованы в тексте. Пример: []\n"
     ]
    },
    {
     "name": "stderr",
     "output_type": "stream",
     "text": [
      "Обработка:  21%|██        | 55/264 [01:23<05:47,  1.66s/it]"
     ]
    },
    {
     "name": "stdout",
     "output_type": "stream",
     "text": [
      "Промежуточный отчет - Используется памяти: 10.43 GB\n"
     ]
    },
    {
     "name": "stderr",
     "output_type": "stream",
     "text": [
      "Обработка:  22%|██▏       | 57/264 [01:26<05:41,  1.65s/it]"
     ]
    },
    {
     "name": "stdout",
     "output_type": "stream",
     "text": [
      "Промежуточный отчет - Используется памяти: 10.52 GB\n"
     ]
    },
    {
     "name": "stderr",
     "output_type": "stream",
     "text": [
      "Обработка:  22%|██▏       | 59/264 [01:30<05:57,  1.75s/it]"
     ]
    },
    {
     "name": "stdout",
     "output_type": "stream",
     "text": [
      "Промежуточный отчет - Используется памяти: 10.65 GB\n"
     ]
    },
    {
     "name": "stderr",
     "output_type": "stream",
     "text": [
      "Обработка:  23%|██▎       | 61/264 [01:33<05:38,  1.67s/it]"
     ]
    },
    {
     "name": "stdout",
     "output_type": "stream",
     "text": [
      "Промежуточный отчет - Используется памяти: 10.55 GB\n"
     ]
    },
    {
     "name": "stderr",
     "output_type": "stream",
     "text": [
      "Обработка:  24%|██▍       | 63/264 [01:36<05:25,  1.62s/it]"
     ]
    },
    {
     "name": "stdout",
     "output_type": "stream",
     "text": [
      "Промежуточный отчет - Используется памяти: 10.62 GB\n"
     ]
    },
    {
     "name": "stderr",
     "output_type": "stream",
     "text": [
      "Обработка:  25%|██▍       | 65/264 [01:40<05:27,  1.64s/it]"
     ]
    },
    {
     "name": "stdout",
     "output_type": "stream",
     "text": [
      "Промежуточный отчет - Используется памяти: 10.53 GB\n"
     ]
    },
    {
     "name": "stderr",
     "output_type": "stream",
     "text": [
      "Обработка:  25%|██▌       | 67/264 [01:43<05:21,  1.63s/it]"
     ]
    },
    {
     "name": "stdout",
     "output_type": "stream",
     "text": [
      "Промежуточный отчет - Используется памяти: 10.71 GB\n"
     ]
    },
    {
     "name": "stderr",
     "output_type": "stream",
     "text": [
      "Обработка:  26%|██▌       | 69/264 [01:46<05:12,  1.60s/it]"
     ]
    },
    {
     "name": "stdout",
     "output_type": "stream",
     "text": [
      "Промежуточный отчет - Используется памяти: 10.76 GB\n"
     ]
    },
    {
     "name": "stderr",
     "output_type": "stream",
     "text": [
      "Обработка:  27%|██▋       | 71/264 [01:49<05:14,  1.63s/it]"
     ]
    },
    {
     "name": "stdout",
     "output_type": "stream",
     "text": [
      "Промежуточный отчет - Используется памяти: 10.76 GB\n"
     ]
    },
    {
     "name": "stderr",
     "output_type": "stream",
     "text": [
      "Обработка:  28%|██▊       | 73/264 [01:53<05:09,  1.62s/it]"
     ]
    },
    {
     "name": "stdout",
     "output_type": "stream",
     "text": [
      "Промежуточный отчет - Используется памяти: 10.80 GB\n"
     ]
    },
    {
     "name": "stderr",
     "output_type": "stream",
     "text": [
      "Обработка:  28%|██▊       | 75/264 [01:56<05:11,  1.65s/it]"
     ]
    },
    {
     "name": "stdout",
     "output_type": "stream",
     "text": [
      "Промежуточный отчет - Используется памяти: 10.80 GB\n"
     ]
    },
    {
     "name": "stderr",
     "output_type": "stream",
     "text": [
      "Обработка:  29%|██▉       | 77/264 [01:59<05:06,  1.64s/it]"
     ]
    },
    {
     "name": "stdout",
     "output_type": "stream",
     "text": [
      "Промежуточный отчет - Используется памяти: 10.59 GB\n"
     ]
    },
    {
     "name": "stderr",
     "output_type": "stream",
     "text": [
      "Обработка:  30%|██▉       | 79/264 [02:02<04:59,  1.62s/it]"
     ]
    },
    {
     "name": "stdout",
     "output_type": "stream",
     "text": [
      "Промежуточный отчет - Используется памяти: 10.91 GB\n"
     ]
    },
    {
     "name": "stderr",
     "output_type": "stream",
     "text": [
      "Обработка:  31%|███       | 81/264 [02:06<04:50,  1.59s/it]"
     ]
    },
    {
     "name": "stdout",
     "output_type": "stream",
     "text": [
      "Промежуточный отчет - Используется памяти: 10.77 GB\n"
     ]
    },
    {
     "name": "stderr",
     "output_type": "stream",
     "text": [
      "Обработка:  31%|███▏      | 83/264 [02:09<04:51,  1.61s/it]"
     ]
    },
    {
     "name": "stdout",
     "output_type": "stream",
     "text": [
      "Промежуточный отчет - Используется памяти: 11.00 GB\n"
     ]
    },
    {
     "name": "stderr",
     "output_type": "stream",
     "text": [
      "Обработка:  32%|███▏      | 85/264 [02:12<04:52,  1.63s/it]"
     ]
    },
    {
     "name": "stdout",
     "output_type": "stream",
     "text": [
      "Промежуточный отчет - Используется памяти: 10.68 GB\n"
     ]
    },
    {
     "name": "stderr",
     "output_type": "stream",
     "text": [
      "Обработка:  33%|███▎      | 87/264 [02:16<04:51,  1.65s/it]"
     ]
    },
    {
     "name": "stdout",
     "output_type": "stream",
     "text": [
      "Промежуточный отчет - Используется памяти: 11.00 GB\n"
     ]
    },
    {
     "name": "stderr",
     "output_type": "stream",
     "text": [
      "Обработка:  34%|███▎      | 89/264 [02:19<04:52,  1.67s/it]"
     ]
    },
    {
     "name": "stdout",
     "output_type": "stream",
     "text": [
      "Промежуточный отчет - Используется памяти: 10.97 GB\n"
     ]
    },
    {
     "name": "stderr",
     "output_type": "stream",
     "text": [
      "Обработка:  34%|███▍      | 91/264 [02:22<04:38,  1.61s/it]"
     ]
    },
    {
     "name": "stdout",
     "output_type": "stream",
     "text": [
      "Промежуточный отчет - Используется памяти: 11.04 GB\n"
     ]
    },
    {
     "name": "stderr",
     "output_type": "stream",
     "text": [
      "Обработка:  35%|███▌      | 93/264 [02:25<04:39,  1.63s/it]"
     ]
    },
    {
     "name": "stdout",
     "output_type": "stream",
     "text": [
      "Промежуточный отчет - Используется памяти: 11.02 GB\n"
     ]
    },
    {
     "name": "stderr",
     "output_type": "stream",
     "text": [
      "Обработка:  36%|███▌      | 95/264 [02:29<04:50,  1.72s/it]"
     ]
    },
    {
     "name": "stdout",
     "output_type": "stream",
     "text": [
      "Промежуточный отчет - Используется памяти: 11.12 GB\n"
     ]
    },
    {
     "name": "stderr",
     "output_type": "stream",
     "text": [
      "Обработка:  37%|███▋      | 97/264 [02:32<04:45,  1.71s/it]"
     ]
    },
    {
     "name": "stdout",
     "output_type": "stream",
     "text": [
      "Промежуточный отчет - Используется памяти: 11.17 GB\n"
     ]
    },
    {
     "name": "stderr",
     "output_type": "stream",
     "text": [
      "Обработка:  38%|███▊      | 99/264 [02:36<04:34,  1.66s/it]"
     ]
    },
    {
     "name": "stdout",
     "output_type": "stream",
     "text": [
      "Промежуточный отчет - Используется памяти: 11.20 GB\n"
     ]
    },
    {
     "name": "stderr",
     "output_type": "stream",
     "text": [
      "Обработка:  38%|███▊      | 101/264 [02:39<04:44,  1.74s/it]"
     ]
    },
    {
     "name": "stdout",
     "output_type": "stream",
     "text": [
      "Промежуточный отчет - Используется памяти: 11.03 GB\n"
     ]
    },
    {
     "name": "stderr",
     "output_type": "stream",
     "text": [
      "Обработка:  39%|███▉      | 103/264 [02:42<04:29,  1.67s/it]"
     ]
    },
    {
     "name": "stdout",
     "output_type": "stream",
     "text": [
      "Промежуточный отчет - Используется памяти: 11.10 GB\n"
     ]
    },
    {
     "name": "stderr",
     "output_type": "stream",
     "text": [
      "Обработка:  40%|███▉      | 105/264 [02:46<04:23,  1.66s/it]"
     ]
    },
    {
     "name": "stdout",
     "output_type": "stream",
     "text": [
      "Промежуточный отчет - Используется памяти: 10.98 GB\n"
     ]
    },
    {
     "name": "stderr",
     "output_type": "stream",
     "text": [
      "Обработка:  41%|████      | 107/264 [02:49<04:16,  1.63s/it]"
     ]
    },
    {
     "name": "stdout",
     "output_type": "stream",
     "text": [
      "Промежуточный отчет - Используется памяти: 11.28 GB\n"
     ]
    },
    {
     "name": "stderr",
     "output_type": "stream",
     "text": [
      "Обработка:  41%|████▏     | 109/264 [02:52<04:06,  1.59s/it]"
     ]
    },
    {
     "name": "stdout",
     "output_type": "stream",
     "text": [
      "Промежуточный отчет - Используется памяти: 11.28 GB\n"
     ]
    },
    {
     "name": "stderr",
     "output_type": "stream",
     "text": [
      "Обработка:  42%|████▏     | 111/264 [02:55<04:17,  1.68s/it]"
     ]
    },
    {
     "name": "stdout",
     "output_type": "stream",
     "text": [
      "Промежуточный отчет - Используется памяти: 11.28 GB\n"
     ]
    },
    {
     "name": "stderr",
     "output_type": "stream",
     "text": [
      "Обработка:  43%|████▎     | 113/264 [02:59<04:19,  1.72s/it]"
     ]
    },
    {
     "name": "stdout",
     "output_type": "stream",
     "text": [
      "Промежуточный отчет - Используется памяти: 11.19 GB\n"
     ]
    },
    {
     "name": "stderr",
     "output_type": "stream",
     "text": [
      "Обработка:  44%|████▎     | 115/264 [03:02<04:03,  1.63s/it]"
     ]
    },
    {
     "name": "stdout",
     "output_type": "stream",
     "text": [
      "Промежуточный отчет - Используется памяти: 11.06 GB\n"
     ]
    },
    {
     "name": "stderr",
     "output_type": "stream",
     "text": [
      "Обработка:  44%|████▍     | 117/264 [03:06<04:06,  1.67s/it]"
     ]
    },
    {
     "name": "stdout",
     "output_type": "stream",
     "text": [
      "Промежуточный отчет - Используется памяти: 11.44 GB\n"
     ]
    },
    {
     "name": "stderr",
     "output_type": "stream",
     "text": [
      "Обработка:  45%|████▌     | 119/264 [03:09<04:09,  1.72s/it]"
     ]
    },
    {
     "name": "stdout",
     "output_type": "stream",
     "text": [
      "Промежуточный отчет - Используется памяти: 11.68 GB\n"
     ]
    },
    {
     "name": "stderr",
     "output_type": "stream",
     "text": [
      "Обработка:  46%|████▌     | 121/264 [03:12<03:51,  1.62s/it]"
     ]
    },
    {
     "name": "stdout",
     "output_type": "stream",
     "text": [
      "Промежуточный отчет - Используется памяти: 11.25 GB\n"
     ]
    },
    {
     "name": "stderr",
     "output_type": "stream",
     "text": [
      "Обработка:  47%|████▋     | 123/264 [03:16<03:55,  1.67s/it]"
     ]
    },
    {
     "name": "stdout",
     "output_type": "stream",
     "text": [
      "Промежуточный отчет - Используется памяти: 11.87 GB\n"
     ]
    },
    {
     "name": "stderr",
     "output_type": "stream",
     "text": [
      "Обработка:  47%|████▋     | 125/264 [03:19<03:40,  1.59s/it]"
     ]
    },
    {
     "name": "stdout",
     "output_type": "stream",
     "text": [
      "Промежуточный отчет - Используется памяти: 11.45 GB\n"
     ]
    },
    {
     "name": "stderr",
     "output_type": "stream",
     "text": [
      "Обработка:  48%|████▊     | 127/264 [03:21<03:28,  1.52s/it]"
     ]
    },
    {
     "name": "stdout",
     "output_type": "stream",
     "text": [
      "Промежуточный отчет - Используется памяти: 11.61 GB\n"
     ]
    },
    {
     "name": "stderr",
     "output_type": "stream",
     "text": [
      "Обработка:  49%|████▉     | 129/264 [03:25<03:28,  1.54s/it]"
     ]
    },
    {
     "name": "stdout",
     "output_type": "stream",
     "text": [
      "Промежуточный отчет - Используется памяти: 11.48 GB\n"
     ]
    },
    {
     "name": "stderr",
     "output_type": "stream",
     "text": [
      "Обработка:  50%|████▉     | 131/264 [03:28<03:36,  1.63s/it]"
     ]
    },
    {
     "name": "stdout",
     "output_type": "stream",
     "text": [
      "Промежуточный отчет - Используется памяти: 11.61 GB\n"
     ]
    },
    {
     "name": "stderr",
     "output_type": "stream",
     "text": [
      "Обработка:  50%|█████     | 133/264 [03:31<03:32,  1.62s/it]"
     ]
    },
    {
     "name": "stdout",
     "output_type": "stream",
     "text": [
      "Промежуточный отчет - Используется памяти: 11.95 GB\n"
     ]
    },
    {
     "name": "stderr",
     "output_type": "stream",
     "text": [
      "Обработка:  51%|█████     | 135/264 [03:35<03:33,  1.66s/it]"
     ]
    },
    {
     "name": "stdout",
     "output_type": "stream",
     "text": [
      "Промежуточный отчет - Используется памяти: 11.96 GB\n"
     ]
    },
    {
     "name": "stderr",
     "output_type": "stream",
     "text": [
      "Обработка:  52%|█████▏    | 137/264 [03:38<03:30,  1.66s/it]"
     ]
    },
    {
     "name": "stdout",
     "output_type": "stream",
     "text": [
      "Промежуточный отчет - Используется памяти: 12.11 GB\n"
     ]
    },
    {
     "name": "stderr",
     "output_type": "stream",
     "text": [
      "Обработка:  53%|█████▎    | 139/264 [03:42<03:39,  1.76s/it]"
     ]
    },
    {
     "name": "stdout",
     "output_type": "stream",
     "text": [
      "Промежуточный отчет - Используется памяти: 12.44 GB\n"
     ]
    },
    {
     "name": "stderr",
     "output_type": "stream",
     "text": [
      "Обработка:  53%|█████▎    | 141/264 [03:45<03:21,  1.64s/it]"
     ]
    },
    {
     "name": "stdout",
     "output_type": "stream",
     "text": [
      "Промежуточный отчет - Используется памяти: 11.97 GB\n"
     ]
    },
    {
     "name": "stderr",
     "output_type": "stream",
     "text": [
      "Обработка:  54%|█████▍    | 143/264 [03:48<03:15,  1.62s/it]"
     ]
    },
    {
     "name": "stdout",
     "output_type": "stream",
     "text": [
      "Промежуточный отчет - Используется памяти: 12.16 GB\n"
     ]
    },
    {
     "name": "stderr",
     "output_type": "stream",
     "text": [
      "Обработка:  55%|█████▍    | 145/264 [03:51<03:13,  1.63s/it]"
     ]
    },
    {
     "name": "stdout",
     "output_type": "stream",
     "text": [
      "Промежуточный отчет - Используется памяти: 12.10 GB\n"
     ]
    },
    {
     "name": "stderr",
     "output_type": "stream",
     "text": [
      "Обработка:  56%|█████▌    | 147/264 [03:54<03:11,  1.63s/it]"
     ]
    },
    {
     "name": "stdout",
     "output_type": "stream",
     "text": [
      "Промежуточный отчет - Используется памяти: 12.29 GB\n"
     ]
    },
    {
     "name": "stderr",
     "output_type": "stream",
     "text": [
      "Обработка:  56%|█████▋    | 149/264 [03:58<03:05,  1.62s/it]"
     ]
    },
    {
     "name": "stdout",
     "output_type": "stream",
     "text": [
      "Промежуточный отчет - Используется памяти: 12.13 GB\n"
     ]
    },
    {
     "name": "stderr",
     "output_type": "stream",
     "text": [
      "Обработка:  57%|█████▋    | 151/264 [04:01<03:22,  1.79s/it]"
     ]
    },
    {
     "name": "stdout",
     "output_type": "stream",
     "text": [
      "Промежуточный отчет - Используется памяти: 11.98 GB\n"
     ]
    },
    {
     "name": "stderr",
     "output_type": "stream",
     "text": [
      "Обработка:  58%|█████▊    | 153/264 [04:05<03:17,  1.78s/it]"
     ]
    },
    {
     "name": "stdout",
     "output_type": "stream",
     "text": [
      "Промежуточный отчет - Используется памяти: 12.36 GB\n"
     ]
    },
    {
     "name": "stderr",
     "output_type": "stream",
     "text": [
      "Обработка:  59%|█████▊    | 155/264 [04:09<03:22,  1.86s/it]"
     ]
    },
    {
     "name": "stdout",
     "output_type": "stream",
     "text": [
      "Промежуточный отчет - Используется памяти: 12.12 GB\n"
     ]
    },
    {
     "name": "stderr",
     "output_type": "stream",
     "text": [
      "Обработка:  59%|█████▉    | 157/264 [04:12<03:11,  1.79s/it]"
     ]
    },
    {
     "name": "stdout",
     "output_type": "stream",
     "text": [
      "Промежуточный отчет - Используется памяти: 11.87 GB\n"
     ]
    },
    {
     "name": "stderr",
     "output_type": "stream",
     "text": [
      "Обработка:  60%|██████    | 159/264 [04:16<03:09,  1.80s/it]"
     ]
    },
    {
     "name": "stdout",
     "output_type": "stream",
     "text": [
      "Промежуточный отчет - Используется памяти: 12.25 GB\n"
     ]
    },
    {
     "name": "stderr",
     "output_type": "stream",
     "text": [
      "Обработка:  61%|██████    | 161/264 [04:19<03:01,  1.76s/it]"
     ]
    },
    {
     "name": "stdout",
     "output_type": "stream",
     "text": [
      "Промежуточный отчет - Используется памяти: 12.57 GB\n"
     ]
    },
    {
     "name": "stderr",
     "output_type": "stream",
     "text": [
      "Обработка:  62%|██████▏   | 163/264 [04:23<02:49,  1.67s/it]"
     ]
    },
    {
     "name": "stdout",
     "output_type": "stream",
     "text": [
      "Промежуточный отчет - Используется памяти: 12.46 GB\n"
     ]
    },
    {
     "name": "stderr",
     "output_type": "stream",
     "text": [
      "Обработка:  62%|██████▎   | 165/264 [04:26<02:56,  1.78s/it]"
     ]
    },
    {
     "name": "stdout",
     "output_type": "stream",
     "text": [
      "Промежуточный отчет - Используется памяти: 12.12 GB\n"
     ]
    },
    {
     "name": "stderr",
     "output_type": "stream",
     "text": [
      "Обработка:  63%|██████▎   | 167/264 [04:30<02:57,  1.83s/it]"
     ]
    },
    {
     "name": "stdout",
     "output_type": "stream",
     "text": [
      "Промежуточный отчет - Используется памяти: 12.52 GB\n"
     ]
    },
    {
     "name": "stderr",
     "output_type": "stream",
     "text": [
      "Обработка:  64%|██████▍   | 169/264 [04:34<03:01,  1.91s/it]"
     ]
    },
    {
     "name": "stdout",
     "output_type": "stream",
     "text": [
      "Промежуточный отчет - Используется памяти: 12.24 GB\n"
     ]
    },
    {
     "name": "stderr",
     "output_type": "stream",
     "text": [
      "Обработка:  65%|██████▍   | 171/264 [04:38<02:47,  1.80s/it]"
     ]
    },
    {
     "name": "stdout",
     "output_type": "stream",
     "text": [
      "Промежуточный отчет - Используется памяти: 12.58 GB\n"
     ]
    },
    {
     "name": "stderr",
     "output_type": "stream",
     "text": [
      "Обработка:  66%|██████▌   | 173/264 [04:41<02:46,  1.83s/it]"
     ]
    },
    {
     "name": "stdout",
     "output_type": "stream",
     "text": [
      "Промежуточный отчет - Используется памяти: 12.99 GB\n"
     ]
    },
    {
     "name": "stderr",
     "output_type": "stream",
     "text": [
      "Обработка:  66%|██████▋   | 175/264 [04:45<02:33,  1.73s/it]"
     ]
    },
    {
     "name": "stdout",
     "output_type": "stream",
     "text": [
      "Промежуточный отчет - Используется памяти: 12.65 GB\n"
     ]
    },
    {
     "name": "stderr",
     "output_type": "stream",
     "text": [
      "Обработка:  67%|██████▋   | 177/264 [04:48<02:40,  1.84s/it]"
     ]
    },
    {
     "name": "stdout",
     "output_type": "stream",
     "text": [
      "Промежуточный отчет - Используется памяти: 12.48 GB\n"
     ]
    },
    {
     "name": "stderr",
     "output_type": "stream",
     "text": [
      "Обработка:  68%|██████▊   | 179/264 [04:52<02:28,  1.75s/it]"
     ]
    },
    {
     "name": "stdout",
     "output_type": "stream",
     "text": [
      "Промежуточный отчет - Используется памяти: 12.73 GB\n"
     ]
    },
    {
     "name": "stderr",
     "output_type": "stream",
     "text": [
      "Обработка:  69%|██████▊   | 181/264 [04:55<02:22,  1.72s/it]"
     ]
    },
    {
     "name": "stdout",
     "output_type": "stream",
     "text": [
      "Промежуточный отчет - Используется памяти: 12.35 GB\n"
     ]
    },
    {
     "name": "stderr",
     "output_type": "stream",
     "text": [
      "Обработка:  69%|██████▉   | 183/264 [04:59<02:26,  1.80s/it]"
     ]
    },
    {
     "name": "stdout",
     "output_type": "stream",
     "text": [
      "Промежуточный отчет - Используется памяти: 12.60 GB\n"
     ]
    },
    {
     "name": "stderr",
     "output_type": "stream",
     "text": [
      "Обработка:  70%|███████   | 185/264 [05:02<02:10,  1.66s/it]"
     ]
    },
    {
     "name": "stdout",
     "output_type": "stream",
     "text": [
      "Промежуточный отчет - Используется памяти: 12.94 GB\n"
     ]
    },
    {
     "name": "stderr",
     "output_type": "stream",
     "text": [
      "Обработка:  71%|███████   | 187/264 [05:06<02:21,  1.83s/it]"
     ]
    },
    {
     "name": "stdout",
     "output_type": "stream",
     "text": [
      "Промежуточный отчет - Используется памяти: 12.71 GB\n"
     ]
    },
    {
     "name": "stderr",
     "output_type": "stream",
     "text": [
      "Обработка:  72%|███████▏  | 189/264 [05:09<02:06,  1.68s/it]"
     ]
    },
    {
     "name": "stdout",
     "output_type": "stream",
     "text": [
      "Промежуточный отчет - Используется памяти: 12.89 GB\n"
     ]
    },
    {
     "name": "stderr",
     "output_type": "stream",
     "text": [
      "Обработка:  72%|███████▏  | 191/264 [05:13<02:07,  1.74s/it]"
     ]
    },
    {
     "name": "stdout",
     "output_type": "stream",
     "text": [
      "Промежуточный отчет - Используется памяти: 13.23 GB\n"
     ]
    },
    {
     "name": "stderr",
     "output_type": "stream",
     "text": [
      "Обработка:  73%|███████▎  | 193/264 [05:17<02:10,  1.84s/it]"
     ]
    },
    {
     "name": "stdout",
     "output_type": "stream",
     "text": [
      "Промежуточный отчет - Используется памяти: 12.87 GB\n"
     ]
    },
    {
     "name": "stderr",
     "output_type": "stream",
     "text": [
      "Обработка:  74%|███████▍  | 195/264 [05:20<01:56,  1.69s/it]"
     ]
    },
    {
     "name": "stdout",
     "output_type": "stream",
     "text": [
      "Промежуточный отчет - Используется памяти: 12.81 GB\n"
     ]
    },
    {
     "name": "stderr",
     "output_type": "stream",
     "text": [
      "Обработка:  75%|███████▍  | 197/264 [05:23<01:54,  1.70s/it]"
     ]
    },
    {
     "name": "stdout",
     "output_type": "stream",
     "text": [
      "Промежуточный отчет - Используется памяти: 12.87 GB\n"
     ]
    },
    {
     "name": "stderr",
     "output_type": "stream",
     "text": [
      "Обработка:  75%|███████▌  | 199/264 [05:26<01:45,  1.62s/it]"
     ]
    },
    {
     "name": "stdout",
     "output_type": "stream",
     "text": [
      "Промежуточный отчет - Используется памяти: 12.86 GB\n"
     ]
    },
    {
     "name": "stderr",
     "output_type": "stream",
     "text": [
      "Обработка:  76%|███████▌  | 201/264 [05:29<01:42,  1.63s/it]"
     ]
    },
    {
     "name": "stdout",
     "output_type": "stream",
     "text": [
      "Промежуточный отчет - Используется памяти: 13.05 GB\n"
     ]
    },
    {
     "name": "stderr",
     "output_type": "stream",
     "text": [
      "Обработка:  77%|███████▋  | 203/264 [05:33<01:45,  1.73s/it]"
     ]
    },
    {
     "name": "stdout",
     "output_type": "stream",
     "text": [
      "Промежуточный отчет - Используется памяти: 12.94 GB\n"
     ]
    },
    {
     "name": "stderr",
     "output_type": "stream",
     "text": [
      "Обработка:  78%|███████▊  | 205/264 [05:36<01:33,  1.59s/it]"
     ]
    },
    {
     "name": "stdout",
     "output_type": "stream",
     "text": [
      "Промежуточный отчет - Используется памяти: 13.04 GB\n"
     ]
    },
    {
     "name": "stderr",
     "output_type": "stream",
     "text": [
      "Обработка:  78%|███████▊  | 207/264 [05:40<01:38,  1.73s/it]"
     ]
    },
    {
     "name": "stdout",
     "output_type": "stream",
     "text": [
      "Промежуточный отчет - Используется памяти: 12.59 GB\n"
     ]
    },
    {
     "name": "stderr",
     "output_type": "stream",
     "text": [
      "Обработка:  79%|███████▉  | 209/264 [05:43<01:35,  1.74s/it]"
     ]
    },
    {
     "name": "stdout",
     "output_type": "stream",
     "text": [
      "Промежуточный отчет - Используется памяти: 13.38 GB\n"
     ]
    },
    {
     "name": "stderr",
     "output_type": "stream",
     "text": [
      "Обработка:  80%|███████▉  | 211/264 [05:46<01:24,  1.60s/it]"
     ]
    },
    {
     "name": "stdout",
     "output_type": "stream",
     "text": [
      "Промежуточный отчет - Используется памяти: 13.34 GB\n"
     ]
    },
    {
     "name": "stderr",
     "output_type": "stream",
     "text": [
      "Обработка:  81%|████████  | 213/264 [05:49<01:18,  1.54s/it]"
     ]
    },
    {
     "name": "stdout",
     "output_type": "stream",
     "text": [
      "Промежуточный отчет - Используется памяти: 12.77 GB\n"
     ]
    },
    {
     "name": "stderr",
     "output_type": "stream",
     "text": [
      "Обработка:  81%|████████▏ | 215/264 [05:52<01:13,  1.50s/it]"
     ]
    },
    {
     "name": "stdout",
     "output_type": "stream",
     "text": [
      "Промежуточный отчет - Используется памяти: 12.95 GB\n"
     ]
    },
    {
     "name": "stderr",
     "output_type": "stream",
     "text": [
      "Обработка:  82%|████████▏ | 217/264 [05:55<01:13,  1.57s/it]"
     ]
    },
    {
     "name": "stdout",
     "output_type": "stream",
     "text": [
      "Промежуточный отчет - Используется памяти: 13.19 GB\n"
     ]
    },
    {
     "name": "stderr",
     "output_type": "stream",
     "text": [
      "Обработка:  83%|████████▎ | 219/264 [05:59<01:11,  1.59s/it]"
     ]
    },
    {
     "name": "stdout",
     "output_type": "stream",
     "text": [
      "Промежуточный отчет - Используется памяти: 13.03 GB\n"
     ]
    },
    {
     "name": "stderr",
     "output_type": "stream",
     "text": [
      "Обработка:  84%|████████▎ | 221/264 [06:01<01:05,  1.52s/it]"
     ]
    },
    {
     "name": "stdout",
     "output_type": "stream",
     "text": [
      "Промежуточный отчет - Используется памяти: 13.13 GB\n"
     ]
    },
    {
     "name": "stderr",
     "output_type": "stream",
     "text": [
      "Обработка:  84%|████████▍ | 223/264 [06:05<01:07,  1.65s/it]"
     ]
    },
    {
     "name": "stdout",
     "output_type": "stream",
     "text": [
      "Промежуточный отчет - Используется памяти: 13.41 GB\n"
     ]
    },
    {
     "name": "stderr",
     "output_type": "stream",
     "text": [
      "Обработка:  85%|████████▌ | 225/264 [06:08<01:01,  1.59s/it]"
     ]
    },
    {
     "name": "stdout",
     "output_type": "stream",
     "text": [
      "Промежуточный отчет - Используется памяти: 13.02 GB\n"
     ]
    },
    {
     "name": "stderr",
     "output_type": "stream",
     "text": [
      "Обработка:  86%|████████▌ | 227/264 [06:11<00:59,  1.60s/it]"
     ]
    },
    {
     "name": "stdout",
     "output_type": "stream",
     "text": [
      "Промежуточный отчет - Используется памяти: 13.28 GB\n"
     ]
    },
    {
     "name": "stderr",
     "output_type": "stream",
     "text": [
      "Обработка:  87%|████████▋ | 229/264 [06:15<00:57,  1.64s/it]"
     ]
    },
    {
     "name": "stdout",
     "output_type": "stream",
     "text": [
      "Промежуточный отчет - Используется памяти: 13.29 GB\n"
     ]
    },
    {
     "name": "stderr",
     "output_type": "stream",
     "text": [
      "Обработка:  88%|████████▊ | 231/264 [06:18<00:50,  1.54s/it]"
     ]
    },
    {
     "name": "stdout",
     "output_type": "stream",
     "text": [
      "Промежуточный отчет - Используется памяти: 12.95 GB\n"
     ]
    },
    {
     "name": "stderr",
     "output_type": "stream",
     "text": [
      "Обработка:  88%|████████▊ | 233/264 [06:21<00:52,  1.68s/it]"
     ]
    },
    {
     "name": "stdout",
     "output_type": "stream",
     "text": [
      "Промежуточный отчет - Используется памяти: 13.21 GB\n"
     ]
    },
    {
     "name": "stderr",
     "output_type": "stream",
     "text": [
      "Обработка:  89%|████████▉ | 235/264 [06:24<00:47,  1.65s/it]"
     ]
    },
    {
     "name": "stdout",
     "output_type": "stream",
     "text": [
      "Промежуточный отчет - Используется памяти: 13.08 GB\n"
     ]
    },
    {
     "name": "stderr",
     "output_type": "stream",
     "text": [
      "Обработка:  90%|████████▉ | 237/264 [06:27<00:42,  1.57s/it]"
     ]
    },
    {
     "name": "stdout",
     "output_type": "stream",
     "text": [
      "Промежуточный отчет - Используется памяти: 13.20 GB\n"
     ]
    },
    {
     "name": "stderr",
     "output_type": "stream",
     "text": [
      "Обработка:  91%|█████████ | 239/264 [06:31<00:43,  1.72s/it]"
     ]
    },
    {
     "name": "stdout",
     "output_type": "stream",
     "text": [
      "Промежуточный отчет - Используется памяти: 13.56 GB\n"
     ]
    },
    {
     "name": "stderr",
     "output_type": "stream",
     "text": [
      "Обработка:  91%|█████████▏| 241/264 [06:34<00:36,  1.58s/it]"
     ]
    },
    {
     "name": "stdout",
     "output_type": "stream",
     "text": [
      "Промежуточный отчет - Используется памяти: 12.59 GB\n"
     ]
    },
    {
     "name": "stderr",
     "output_type": "stream",
     "text": [
      "Обработка:  92%|█████████▏| 243/264 [06:37<00:32,  1.55s/it]"
     ]
    },
    {
     "name": "stdout",
     "output_type": "stream",
     "text": [
      "Промежуточный отчет - Используется памяти: 12.81 GB\n"
     ]
    },
    {
     "name": "stderr",
     "output_type": "stream",
     "text": [
      "Обработка:  93%|█████████▎| 245/264 [06:40<00:30,  1.62s/it]"
     ]
    },
    {
     "name": "stdout",
     "output_type": "stream",
     "text": [
      "Промежуточный отчет - Используется памяти: 13.23 GB\n"
     ]
    },
    {
     "name": "stderr",
     "output_type": "stream",
     "text": [
      "Обработка:  94%|█████████▎| 247/264 [06:43<00:26,  1.54s/it]"
     ]
    },
    {
     "name": "stdout",
     "output_type": "stream",
     "text": [
      "Промежуточный отчет - Используется памяти: 12.70 GB\n"
     ]
    },
    {
     "name": "stderr",
     "output_type": "stream",
     "text": [
      "Обработка:  94%|█████████▍| 249/264 [06:47<00:24,  1.62s/it]"
     ]
    },
    {
     "name": "stdout",
     "output_type": "stream",
     "text": [
      "Промежуточный отчет - Используется памяти: 12.82 GB\n"
     ]
    },
    {
     "name": "stderr",
     "output_type": "stream",
     "text": [
      "Обработка:  95%|█████████▌| 251/264 [06:50<00:21,  1.68s/it]"
     ]
    },
    {
     "name": "stdout",
     "output_type": "stream",
     "text": [
      "Промежуточный отчет - Используется памяти: 13.25 GB\n"
     ]
    },
    {
     "name": "stderr",
     "output_type": "stream",
     "text": [
      "Обработка:  96%|█████████▌| 253/264 [06:53<00:17,  1.56s/it]"
     ]
    },
    {
     "name": "stdout",
     "output_type": "stream",
     "text": [
      "Промежуточный отчет - Используется памяти: 12.82 GB\n"
     ]
    },
    {
     "name": "stderr",
     "output_type": "stream",
     "text": [
      "Обработка:  97%|█████████▋| 255/264 [06:56<00:13,  1.55s/it]"
     ]
    },
    {
     "name": "stdout",
     "output_type": "stream",
     "text": [
      "Промежуточный отчет - Используется памяти: 13.03 GB\n"
     ]
    },
    {
     "name": "stderr",
     "output_type": "stream",
     "text": [
      "Обработка:  97%|█████████▋| 257/264 [07:00<00:11,  1.66s/it]"
     ]
    },
    {
     "name": "stdout",
     "output_type": "stream",
     "text": [
      "Промежуточный отчет - Используется памяти: 13.44 GB\n"
     ]
    },
    {
     "name": "stderr",
     "output_type": "stream",
     "text": [
      "Обработка:  98%|█████████▊| 259/264 [07:03<00:07,  1.60s/it]"
     ]
    },
    {
     "name": "stdout",
     "output_type": "stream",
     "text": [
      "Промежуточный отчет - Используется памяти: 12.97 GB\n"
     ]
    },
    {
     "name": "stderr",
     "output_type": "stream",
     "text": [
      "Обработка:  99%|█████████▉| 261/264 [07:06<00:04,  1.60s/it]"
     ]
    },
    {
     "name": "stdout",
     "output_type": "stream",
     "text": [
      "Промежуточный отчет - Используется памяти: 13.13 GB\n"
     ]
    },
    {
     "name": "stderr",
     "output_type": "stream",
     "text": [
      "Обработка: 100%|█████████▉| 263/264 [07:10<00:01,  1.73s/it]"
     ]
    },
    {
     "name": "stdout",
     "output_type": "stream",
     "text": [
      "Промежуточный отчет - Используется памяти: 13.24 GB\n"
     ]
    },
    {
     "name": "stderr",
     "output_type": "stream",
     "text": [
      "Обработка: 100%|██████████| 264/264 [07:10<00:00,  1.63s/it]"
     ]
    },
    {
     "name": "stdout",
     "output_type": "stream",
     "text": [
      "Завершение работы - Используется памяти: 13.42 GB\n",
      "Результаты сохранены в embeddings.json\n"
     ]
    },
    {
     "name": "stderr",
     "output_type": "stream",
     "text": [
      "\n"
     ]
    }
   ],
   "source": [
    "print(\"\\n3. Расчет IDF...\")\n",
    "    # Расчет IDF по всему датасету\n",
    "doc_counts = defaultdict(int)\n",
    "for item in tqdm(data, desc=\"Анализ документов\"):\n",
    "    if item.get('text') is not None:  # Только документы с текстом\n",
    "        words = set(preprocess_text(item['text']))\n",
    "        for word in words:\n",
    "            if word in vocabulary:\n",
    "                doc_counts[word] += 1\n",
    "                    \n",
    "idf = {word: math.log(len(data)/(cnt+1)) for word, cnt in doc_counts.items()}\n",
    "    \n",
    "print(\"\\n4. Создание эмбеддингов...\")\n",
    "    # Обработка по частям\n",
    "with open(OUTPUT_FILE, 'w', encoding='utf-8') as f:\n",
    "    f.write('[')\n",
    "    first_item = True\n",
    "        \n",
    "    for i in tqdm(range(0, len(data), CHUNK_SIZE), desc=\"Обработка\"):\n",
    "        chunk = data[i:i+CHUNK_SIZE]\n",
    "        embeddings = process_chunk(chunk, vocabulary, idf)\n",
    "            \n",
    "        for item, emb in zip(chunk, embeddings):\n",
    "            result = {\n",
    "                'filename': item['filename'],\n",
    "                'label': item['label'],\n",
    "                'embedding': [float(f\"{v:.4f}\") for v in emb]\n",
    "            }\n",
    "            if KEEP_TEXT and item.get('text') is not None:\n",
    "                result['text'] = item['text']\n",
    "                \n",
    "            if not first_item:\n",
    "                f.write(',\\n')\n",
    "            json.dump(result, f, ensure_ascii=False)\n",
    "            first_item = False\n",
    "            \n",
    "            # Очистка памяти\n",
    "        del embeddings\n",
    "        if i % (CHUNK_SIZE*2) == 0:\n",
    "            print_memory_usage(\"Промежуточный отчет\")\n",
    "        \n",
    "    f.write(']')\n",
    "    \n",
    "print_memory_usage(\"Завершение работы\")\n",
    "print(f\"Результаты сохранены в {OUTPUT_FILE}\")"
   ]
  }
 ],
 "metadata": {
  "colab": {
   "provenance": []
  },
  "kernelspec": {
   "display_name": "Python 3",
   "language": "python",
   "name": "python3"
  },
  "language_info": {
   "codemirror_mode": {
    "name": "ipython",
    "version": 3
   },
   "file_extension": ".py",
   "mimetype": "text/x-python",
   "name": "python",
   "nbconvert_exporter": "python",
   "pygments_lexer": "ipython3",
   "version": "3.10.11"
  }
 },
 "nbformat": 4,
 "nbformat_minor": 5
}
