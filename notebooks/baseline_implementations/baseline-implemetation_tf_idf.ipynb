{
 "cells": [
  {
   "cell_type": "code",
   "execution_count": 1,
   "id": "b5927603",
   "metadata": {
    "execution": {
     "iopub.execute_input": "2025-04-23T08:44:44.448403Z",
     "iopub.status.busy": "2025-04-23T08:44:44.448156Z",
     "iopub.status.idle": "2025-04-23T08:44:47.057117Z",
     "shell.execute_reply": "2025-04-23T08:44:47.056257Z",
     "shell.execute_reply.started": "2025-04-23T08:44:44.448380Z"
    },
    "trusted": true
   },
   "outputs": [],
   "source": [
    "import pandas as pd\n",
    "import numpy as np\n",
    "from sklearn.model_selection import train_test_split\n",
    "from sklearn.preprocessing import LabelEncoder\n",
    "from sklearn.linear_model import LogisticRegression\n",
    "from sklearn.tree import DecisionTreeClassifier\n",
    "from sklearn.metrics import classification_report\n",
    "import json"
   ]
  },
  {
   "cell_type": "code",
   "execution_count": 2,
   "id": "5616c1a6",
   "metadata": {
    "execution": {
     "iopub.execute_input": "2025-04-23T08:44:47.059087Z",
     "iopub.status.busy": "2025-04-23T08:44:47.058753Z",
     "iopub.status.idle": "2025-04-23T08:45:39.340995Z",
     "shell.execute_reply": "2025-04-23T08:45:39.340379Z",
     "shell.execute_reply.started": "2025-04-23T08:44:47.059067Z"
    },
    "trusted": true
   },
   "outputs": [],
   "source": [
    "def load_data(file_path):\n",
    "    with open(file_path, 'r') as f:\n",
    "        data = json.load(f)  \n",
    "    return pd.DataFrame(data)\n",
    "\n",
    "df = load_data('/kaggle/input/kinopoisk-embeddings/embeddings.json')"
   ]
  },
  {
   "cell_type": "code",
   "execution_count": 3,
   "id": "a513999d",
   "metadata": {
    "execution": {
     "iopub.execute_input": "2025-04-21T20:23:19.098205Z",
     "iopub.status.busy": "2025-04-21T20:23:19.097938Z",
     "iopub.status.idle": "2025-04-21T20:23:19.129960Z",
     "shell.execute_reply": "2025-04-21T20:23:19.129304Z",
     "shell.execute_reply.started": "2025-04-21T20:23:19.098185Z"
    },
    "trusted": true
   },
   "outputs": [
    {
     "data": {
      "text/html": [
       "<div>\n",
       "<style scoped>\n",
       "    .dataframe tbody tr th:only-of-type {\n",
       "        vertical-align: middle;\n",
       "    }\n",
       "\n",
       "    .dataframe tbody tr th {\n",
       "        vertical-align: top;\n",
       "    }\n",
       "\n",
       "    .dataframe thead th {\n",
       "        text-align: right;\n",
       "    }\n",
       "</style>\n",
       "<table border=\"1\" class=\"dataframe\">\n",
       "  <thead>\n",
       "    <tr style=\"text-align: right;\">\n",
       "      <th></th>\n",
       "      <th>filename</th>\n",
       "      <th>label</th>\n",
       "      <th>embedding</th>\n",
       "    </tr>\n",
       "  </thead>\n",
       "  <tbody>\n",
       "    <tr>\n",
       "      <th>0</th>\n",
       "      <td>1000083-0.txt</td>\n",
       "      <td>negative</td>\n",
       "      <td>[0.0019, 0.0049, 0.0015, 0.0018, 0.0018, 0.001...</td>\n",
       "    </tr>\n",
       "    <tr>\n",
       "      <th>1</th>\n",
       "      <td>1000083-1.txt</td>\n",
       "      <td>negative</td>\n",
       "      <td>[0.001, 0.0007, 0.0008, 0.0006, 0.0012, 0.0007...</td>\n",
       "    </tr>\n",
       "    <tr>\n",
       "      <th>2</th>\n",
       "      <td>1000125-3.txt</td>\n",
       "      <td>negative</td>\n",
       "      <td>[0.001, 0.0024, 0.0013, 0.0013, 0.0012, 0.0015...</td>\n",
       "    </tr>\n",
       "    <tr>\n",
       "      <th>3</th>\n",
       "      <td>1000125-4.txt</td>\n",
       "      <td>negative</td>\n",
       "      <td>[0.0, 0.0033, 0.0014, 0.0014, 0.0007, 0.0016, ...</td>\n",
       "    </tr>\n",
       "    <tr>\n",
       "      <th>4</th>\n",
       "      <td>1000125-6.txt</td>\n",
       "      <td>negative</td>\n",
       "      <td>[0.0004, 0.0026, 0.0004, 0.0016, 0.0036, 0.003...</td>\n",
       "    </tr>\n",
       "  </tbody>\n",
       "</table>\n",
       "</div>"
      ],
      "text/plain": [
       "        filename     label                                          embedding\n",
       "0  1000083-0.txt  negative  [0.0019, 0.0049, 0.0015, 0.0018, 0.0018, 0.001...\n",
       "1  1000083-1.txt  negative  [0.001, 0.0007, 0.0008, 0.0006, 0.0012, 0.0007...\n",
       "2  1000125-3.txt  negative  [0.001, 0.0024, 0.0013, 0.0013, 0.0012, 0.0015...\n",
       "3  1000125-4.txt  negative  [0.0, 0.0033, 0.0014, 0.0014, 0.0007, 0.0016, ...\n",
       "4  1000125-6.txt  negative  [0.0004, 0.0026, 0.0004, 0.0016, 0.0036, 0.003..."
      ]
     },
     "execution_count": 3,
     "metadata": {},
     "output_type": "execute_result"
    }
   ],
   "source": [
    "df.head()"
   ]
  },
  {
   "cell_type": "code",
   "execution_count": 4,
   "id": "e63f819f",
   "metadata": {
    "execution": {
     "iopub.execute_input": "2025-04-23T08:45:39.383467Z",
     "iopub.status.busy": "2025-04-23T08:45:39.383212Z",
     "iopub.status.idle": "2025-04-23T08:45:39.411605Z",
     "shell.execute_reply": "2025-04-23T08:45:39.410927Z",
     "shell.execute_reply.started": "2025-04-23T08:45:39.383442Z"
    },
    "trusted": true
   },
   "outputs": [],
   "source": [
    "le = LabelEncoder()\n",
    "df['label_encoded'] = le.fit_transform(df['label'])"
   ]
  },
  {
   "cell_type": "code",
   "execution_count": 5,
   "id": "8b6b0425",
   "metadata": {
    "execution": {
     "iopub.execute_input": "2025-04-23T08:45:39.412531Z",
     "iopub.status.busy": "2025-04-23T08:45:39.412268Z",
     "iopub.status.idle": "2025-04-23T08:45:53.492088Z",
     "shell.execute_reply": "2025-04-23T08:45:53.491235Z",
     "shell.execute_reply.started": "2025-04-23T08:45:39.412512Z"
    },
    "trusted": true
   },
   "outputs": [],
   "source": [
    "X = np.array(df['embedding'].tolist())\n",
    "y = df['label_encoded'].values"
   ]
  },
  {
   "cell_type": "code",
   "execution_count": 10,
   "id": "3fb564f4",
   "metadata": {
    "execution": {
     "iopub.execute_input": "2025-04-23T08:46:53.006261Z",
     "iopub.status.busy": "2025-04-23T08:46:53.005974Z",
     "iopub.status.idle": "2025-04-23T08:46:53.433901Z",
     "shell.execute_reply": "2025-04-23T08:46:53.433298Z",
     "shell.execute_reply.started": "2025-04-23T08:46:53.006241Z"
    },
    "trusted": true
   },
   "outputs": [],
   "source": [
    "X_train, X_temp, y_train, y_temp = train_test_split(X, y, test_size=0.3, random_state=42)\n",
    "X_val, X_test, y_val, y_test = train_test_split(X_temp, y_temp, test_size=0.5, random_state=42)"
   ]
  },
  {
   "cell_type": "code",
   "execution_count": 9,
   "id": "98a3ee77",
   "metadata": {
    "execution": {
     "iopub.execute_input": "2025-04-21T20:23:42.743584Z",
     "iopub.status.busy": "2025-04-21T20:23:42.743253Z",
     "iopub.status.idle": "2025-04-21T20:24:02.854789Z",
     "shell.execute_reply": "2025-04-21T20:24:02.853968Z",
     "shell.execute_reply.started": "2025-04-21T20:23:42.743544Z"
    },
    "trusted": true
   },
   "outputs": [
    {
     "name": "stdout",
     "output_type": "stream",
     "text": [
      "Logistic Regression Test Results:\n",
      "              precision    recall  f1-score   support\n",
      "\n",
      "           0       0.76      0.18      0.30      2921\n",
      "           1       0.58      0.02      0.04      3780\n",
      "           2       0.69      1.00      0.81     13050\n",
      "\n",
      "    accuracy                           0.69     19751\n",
      "   macro avg       0.68      0.40      0.39     19751\n",
      "weighted avg       0.68      0.69      0.59     19751\n",
      "\n"
     ]
    }
   ],
   "source": [
    "lr = LogisticRegression(max_iter=1000)\n",
    "lr.fit(X_train, y_train)\n",
    "print(\"Logistic Regression Test Results:\")\n",
    "print(classification_report(y_test, lr.predict(X_test)))"
   ]
  },
  {
   "cell_type": "code",
   "execution_count": 10,
   "id": "a0e164ea",
   "metadata": {
    "execution": {
     "iopub.execute_input": "2025-04-21T20:24:57.075538Z",
     "iopub.status.busy": "2025-04-21T20:24:57.075275Z",
     "iopub.status.idle": "2025-04-21T20:26:36.817309Z",
     "shell.execute_reply": "2025-04-21T20:26:36.816373Z",
     "shell.execute_reply.started": "2025-04-21T20:24:57.075520Z"
    },
    "trusted": true
   },
   "outputs": [
    {
     "name": "stdout",
     "output_type": "stream",
     "text": [
      "Decision Tree Test Results:\n",
      "              precision    recall  f1-score   support\n",
      "\n",
      "           0       0.30      0.29      0.29      2921\n",
      "           1       0.24      0.24      0.24      3780\n",
      "           2       0.73      0.73      0.73     13050\n",
      "\n",
      "    accuracy                           0.57     19751\n",
      "   macro avg       0.42      0.42      0.42     19751\n",
      "weighted avg       0.57      0.57      0.57     19751\n",
      "\n"
     ]
    }
   ],
   "source": [
    "dt = DecisionTreeClassifier(random_state=42)\n",
    "dt.fit(X_train, y_train)\n",
    "print(\"Decision Tree Test Results:\")\n",
    "print(classification_report(y_test, dt.predict(X_test)))"
   ]
  },
  {
   "cell_type": "code",
   "execution_count": 11,
   "id": "6b3eb736-13c3-4daf-872c-16b34932386f",
   "metadata": {
    "execution": {
     "iopub.execute_input": "2025-04-21T20:27:04.843162Z",
     "iopub.status.busy": "2025-04-21T20:27:04.842890Z",
     "iopub.status.idle": "2025-04-21T20:27:23.640172Z",
     "shell.execute_reply": "2025-04-21T20:27:23.639359Z",
     "shell.execute_reply.started": "2025-04-21T20:27:04.843142Z"
    },
    "trusted": true
   },
   "outputs": [
    {
     "name": "stdout",
     "output_type": "stream",
     "text": [
      "Balanced Logistic Regression Test Results:\n",
      "              precision    recall  f1-score   support\n",
      "\n",
      "           0       0.52      0.73      0.61      2921\n",
      "           1       0.35      0.42      0.38      3780\n",
      "           2       0.87      0.75      0.80     13050\n",
      "\n",
      "    accuracy                           0.68     19751\n",
      "   macro avg       0.58      0.63      0.60     19751\n",
      "weighted avg       0.72      0.68      0.69     19751\n",
      "\n"
     ]
    }
   ],
   "source": [
    "lr_balanced = LogisticRegression(max_iter=1000, class_weight='balanced')\n",
    "lr_balanced.fit(X_train, y_train)\n",
    "print(\"Balanced Logistic Regression Test Results:\")\n",
    "print(classification_report(y_test, lr_balanced.predict(X_test)))"
   ]
  },
  {
   "cell_type": "code",
   "execution_count": 12,
   "id": "a833a9ff-263a-438e-94f1-af9c72d34fdc",
   "metadata": {
    "execution": {
     "iopub.execute_input": "2025-04-21T20:27:41.972603Z",
     "iopub.status.busy": "2025-04-21T20:27:41.971884Z",
     "iopub.status.idle": "2025-04-21T20:28:48.917487Z",
     "shell.execute_reply": "2025-04-21T20:28:48.916863Z",
     "shell.execute_reply.started": "2025-04-21T20:27:41.972552Z"
    },
    "trusted": true
   },
   "outputs": [
    {
     "name": "stdout",
     "output_type": "stream",
     "text": [
      "Balanced Decision Tree Test Results:\n",
      "              precision    recall  f1-score   support\n",
      "\n",
      "           0       0.29      0.31      0.30      2921\n",
      "           1       0.23      0.25      0.24      3780\n",
      "           2       0.73      0.70      0.71     13050\n",
      "\n",
      "    accuracy                           0.55     19751\n",
      "   macro avg       0.42      0.42      0.42     19751\n",
      "weighted avg       0.57      0.55      0.56     19751\n",
      "\n"
     ]
    }
   ],
   "source": [
    "dt_balanced = DecisionTreeClassifier(random_state=42, class_weight='balanced')\n",
    "dt_balanced.fit(X_train, y_train)\n",
    "print(\"Balanced Decision Tree Test Results:\")\n",
    "print(classification_report(y_test, dt_balanced.predict(X_test)))"
   ]
  },
  {
   "cell_type": "code",
   "execution_count": null,
   "id": "08fda346-ee24-4053-8543-077adcb932eb",
   "metadata": {
    "execution": {
     "iopub.execute_input": "2025-04-23T08:47:01.362256Z",
     "iopub.status.busy": "2025-04-23T08:47:01.361970Z",
     "iopub.status.idle": "2025-04-23T08:47:14.460813Z",
     "shell.execute_reply": "2025-04-23T08:47:14.460100Z",
     "shell.execute_reply.started": "2025-04-23T08:47:01.362236Z"
    },
    "trusted": true
   },
   "outputs": [],
   "source": [
    "X = np.array(df['embedding'].tolist(), dtype=np.float32)  # Add dtype=np.float32\n",
    "y = df['label_encoded'].values"
   ]
  },
  {
   "cell_type": "code",
   "execution_count": 12,
   "id": "e8b6f5e6-ff12-4b90-b67b-3ae89d4ac623",
   "metadata": {
    "execution": {
     "iopub.execute_input": "2025-04-23T08:47:14.462514Z",
     "iopub.status.busy": "2025-04-23T08:47:14.462100Z",
     "iopub.status.idle": "2025-04-23T08:47:14.909928Z",
     "shell.execute_reply": "2025-04-23T08:47:14.908848Z",
     "shell.execute_reply.started": "2025-04-23T08:47:14.462494Z"
    },
    "trusted": true
   },
   "outputs": [],
   "source": [
    "X_train, X_temp, y_train, y_temp = train_test_split(X, y, test_size=0.3, random_state=42)\n",
    "X_val, X_test, y_val, y_test = train_test_split(X_temp, y_temp, test_size=0.5, random_state=42)"
   ]
  },
  {
   "cell_type": "code",
   "execution_count": 13,
   "id": "d269e8d9",
   "metadata": {
    "execution": {
     "iopub.execute_input": "2025-04-23T08:47:14.912077Z",
     "iopub.status.busy": "2025-04-23T08:47:14.911573Z",
     "iopub.status.idle": "2025-04-23T08:47:19.154411Z",
     "shell.execute_reply": "2025-04-23T08:47:19.153579Z",
     "shell.execute_reply.started": "2025-04-23T08:47:14.912031Z"
    },
    "trusted": true
   },
   "outputs": [],
   "source": [
    "import torch\n",
    "from torch import nn, optim\n",
    "from torch.utils.data import DataLoader, TensorDataset\n",
    "\n",
    "train_dataset = TensorDataset(torch.tensor(X_train), torch.tensor(y_train))\n",
    "val_dataset = TensorDataset(torch.tensor(X_val), torch.tensor(y_val))\n",
    "test_dataset = TensorDataset(torch.tensor(X_test), torch.tensor(y_test))"
   ]
  },
  {
   "cell_type": "code",
   "execution_count": 19,
   "id": "c0e53eef",
   "metadata": {
    "execution": {
     "iopub.execute_input": "2025-04-21T20:31:00.691310Z",
     "iopub.status.busy": "2025-04-21T20:31:00.690937Z",
     "iopub.status.idle": "2025-04-21T20:31:00.696006Z",
     "shell.execute_reply": "2025-04-21T20:31:00.695258Z",
     "shell.execute_reply.started": "2025-04-21T20:31:00.691292Z"
    },
    "trusted": true
   },
   "outputs": [],
   "source": [
    "class NeuralNetwork(nn.Module):\n",
    "    def __init__(self, input_size, num_classes):\n",
    "        super().__init__()\n",
    "        self.layers = nn.Sequential(\n",
    "            nn.Linear(input_size, 64),\n",
    "            nn.ReLU(),\n",
    "            nn.Dropout(0.3),\n",
    "            nn.Linear(64, 32),\n",
    "            nn.ReLU(),\n",
    "            nn.Linear(32, num_classes)\n",
    "        )\n",
    "    \n",
    "    def forward(self, x):\n",
    "        return self.layers(x)"
   ]
  },
  {
   "cell_type": "code",
   "execution_count": 8,
   "id": "6aabc4a7",
   "metadata": {
    "execution": {
     "iopub.execute_input": "2025-04-23T08:46:06.776495Z",
     "iopub.status.busy": "2025-04-23T08:46:06.776246Z",
     "iopub.status.idle": "2025-04-23T08:46:06.780781Z",
     "shell.execute_reply": "2025-04-23T08:46:06.779979Z",
     "shell.execute_reply.started": "2025-04-23T08:46:06.776476Z"
    },
    "trusted": true
   },
   "outputs": [],
   "source": [
    "input_size = X_train.shape[1]\n",
    "num_classes = len(le.classes_)\n",
    "batch_size = 32\n",
    "epochs = 20\n",
    "learning_rate = 0.001"
   ]
  },
  {
   "cell_type": "code",
   "execution_count": 21,
   "id": "6a6eb4d4",
   "metadata": {
    "execution": {
     "iopub.execute_input": "2025-04-21T20:31:10.674764Z",
     "iopub.status.busy": "2025-04-21T20:31:10.674030Z",
     "iopub.status.idle": "2025-04-21T20:31:15.306949Z",
     "shell.execute_reply": "2025-04-21T20:31:15.306409Z",
     "shell.execute_reply.started": "2025-04-21T20:31:10.674742Z"
    },
    "trusted": true
   },
   "outputs": [],
   "source": [
    "model = NeuralNetwork(input_size, num_classes)\n",
    "criterion = nn.CrossEntropyLoss()\n",
    "optimizer = optim.Adam(model.parameters(), lr=learning_rate)"
   ]
  },
  {
   "cell_type": "code",
   "execution_count": 14,
   "id": "f51a81f3",
   "metadata": {
    "execution": {
     "iopub.execute_input": "2025-04-23T08:47:19.156234Z",
     "iopub.status.busy": "2025-04-23T08:47:19.155789Z",
     "iopub.status.idle": "2025-04-23T08:47:19.160566Z",
     "shell.execute_reply": "2025-04-23T08:47:19.159894Z",
     "shell.execute_reply.started": "2025-04-23T08:47:19.156214Z"
    },
    "trusted": true
   },
   "outputs": [],
   "source": [
    "train_loader = DataLoader(train_dataset, batch_size=batch_size, shuffle=True)\n",
    "val_loader = DataLoader(val_dataset, batch_size=batch_size)\n",
    "test_loader = DataLoader(test_dataset, batch_size=batch_size)"
   ]
  },
  {
   "cell_type": "code",
   "execution_count": 23,
   "id": "36c0b4b0",
   "metadata": {
    "execution": {
     "iopub.execute_input": "2025-04-21T20:31:29.329126Z",
     "iopub.status.busy": "2025-04-21T20:31:29.328412Z",
     "iopub.status.idle": "2025-04-21T20:34:09.498489Z",
     "shell.execute_reply": "2025-04-21T20:34:09.497721Z",
     "shell.execute_reply.started": "2025-04-21T20:31:29.329102Z"
    },
    "trusted": true
   },
   "outputs": [
    {
     "name": "stdout",
     "output_type": "stream",
     "text": [
      "Epoch 1/20 | Val Accuracy: 0.7364\n",
      "Epoch 2/20 | Val Accuracy: 0.7442\n",
      "Epoch 3/20 | Val Accuracy: 0.7475\n",
      "Epoch 4/20 | Val Accuracy: 0.7470\n",
      "Epoch 5/20 | Val Accuracy: 0.7480\n",
      "Epoch 6/20 | Val Accuracy: 0.7487\n",
      "Epoch 7/20 | Val Accuracy: 0.7477\n",
      "Epoch 8/20 | Val Accuracy: 0.7473\n",
      "Epoch 9/20 | Val Accuracy: 0.7484\n",
      "Epoch 10/20 | Val Accuracy: 0.7475\n",
      "Epoch 11/20 | Val Accuracy: 0.7460\n",
      "Epoch 12/20 | Val Accuracy: 0.7456\n",
      "Epoch 13/20 | Val Accuracy: 0.7447\n",
      "Epoch 14/20 | Val Accuracy: 0.7438\n",
      "Epoch 15/20 | Val Accuracy: 0.7424\n",
      "Epoch 16/20 | Val Accuracy: 0.7388\n",
      "Epoch 17/20 | Val Accuracy: 0.7407\n",
      "Epoch 18/20 | Val Accuracy: 0.7400\n",
      "Epoch 19/20 | Val Accuracy: 0.7367\n",
      "Epoch 20/20 | Val Accuracy: 0.7356\n"
     ]
    }
   ],
   "source": [
    "for epoch in range(epochs):\n",
    "    model.train()\n",
    "    for inputs, labels in train_loader:\n",
    "        optimizer.zero_grad()\n",
    "        outputs = model(inputs)\n",
    "        loss = criterion(outputs, labels)\n",
    "        loss.backward()\n",
    "        optimizer.step()\n",
    "    \n",
    "    \n",
    "    model.eval()\n",
    "    val_loss = 0\n",
    "    correct = 0\n",
    "    with torch.no_grad():\n",
    "        for inputs, labels in val_loader:\n",
    "            outputs = model(inputs)\n",
    "            val_loss += criterion(outputs, labels).item()\n",
    "            preds = outputs.argmax(dim=1)\n",
    "            correct += (preds == labels).sum().item()\n",
    "    \n",
    "    val_acc = correct / len(val_dataset)\n",
    "    print(f\"Epoch {epoch+1}/{epochs} | Val Accuracy: {val_acc:.4f}\")"
   ]
  },
  {
   "cell_type": "code",
   "execution_count": 24,
   "id": "99d851cb",
   "metadata": {
    "execution": {
     "iopub.execute_input": "2025-04-21T20:34:09.499803Z",
     "iopub.status.busy": "2025-04-21T20:34:09.499552Z",
     "iopub.status.idle": "2025-04-21T20:34:09.922293Z",
     "shell.execute_reply": "2025-04-21T20:34:09.921527Z",
     "shell.execute_reply.started": "2025-04-21T20:34:09.499787Z"
    },
    "trusted": true
   },
   "outputs": [
    {
     "name": "stdout",
     "output_type": "stream",
     "text": [
      "\n",
      "Neural Network Test Results:\n",
      "              precision    recall  f1-score   support\n",
      "\n",
      "           0       0.61      0.61      0.61      2921\n",
      "           1       0.43      0.22      0.29      3780\n",
      "           2       0.80      0.92      0.86     13050\n",
      "\n",
      "    accuracy                           0.74     19751\n",
      "   macro avg       0.61      0.58      0.58     19751\n",
      "weighted avg       0.70      0.74      0.71     19751\n",
      "\n"
     ]
    }
   ],
   "source": [
    "model.eval()\n",
    "all_preds = []\n",
    "all_labels = []\n",
    "with torch.no_grad():\n",
    "    for inputs, labels in test_loader:\n",
    "        outputs = model(inputs)\n",
    "        preds = outputs.argmax(dim=1)\n",
    "        all_preds.extend(preds.numpy())\n",
    "        all_labels.extend(labels.numpy())\n",
    "\n",
    "print(\"\\nNeural Network Test Results:\")\n",
    "print(classification_report(all_labels, all_preds))"
   ]
  },
  {
   "cell_type": "code",
   "execution_count": 32,
   "id": "246614ec-a56c-453e-92b9-463de4937ea5",
   "metadata": {
    "execution": {
     "iopub.execute_input": "2025-04-21T20:40:39.313048Z",
     "iopub.status.busy": "2025-04-21T20:40:39.312360Z",
     "iopub.status.idle": "2025-04-21T20:40:39.319347Z",
     "shell.execute_reply": "2025-04-21T20:40:39.318742Z",
     "shell.execute_reply.started": "2025-04-21T20:40:39.313025Z"
    },
    "trusted": true
   },
   "outputs": [],
   "source": [
    "class_counts = np.bincount(y_train)\n",
    "class_weights = 1. / class_counts\n",
    "class_weights = torch.tensor(class_weights, dtype=torch.float32)\n",
    "criterion_b = nn.CrossEntropyLoss(weight=class_weights)\n",
    "model_balanced = NeuralNetwork(input_size, num_classes)\n",
    "optimizer = optim.Adam(model_balanced.parameters(), lr=0.00001)"
   ]
  },
  {
   "cell_type": "code",
   "execution_count": 33,
   "id": "9346a491-7c20-49de-a878-84d94a7a799d",
   "metadata": {
    "execution": {
     "iopub.execute_input": "2025-04-21T20:40:42.105494Z",
     "iopub.status.busy": "2025-04-21T20:40:42.105242Z",
     "iopub.status.idle": "2025-04-21T20:43:05.974560Z",
     "shell.execute_reply": "2025-04-21T20:43:05.973560Z",
     "shell.execute_reply.started": "2025-04-21T20:40:42.105476Z"
    },
    "trusted": true
   },
   "outputs": [
    {
     "name": "stdout",
     "output_type": "stream",
     "text": [
      "Epoch 1/20 | Val Accuracy: 0.6595\n",
      "Epoch 2/20 | Val Accuracy: 0.6595\n",
      "Epoch 3/20 | Val Accuracy: 0.6595\n",
      "Epoch 4/20 | Val Accuracy: 0.6596\n",
      "Epoch 5/20 | Val Accuracy: 0.6838\n",
      "Epoch 6/20 | Val Accuracy: 0.7185\n",
      "Epoch 7/20 | Val Accuracy: 0.7139\n",
      "Epoch 8/20 | Val Accuracy: 0.6977\n",
      "Epoch 9/20 | Val Accuracy: 0.6905\n",
      "Epoch 10/20 | Val Accuracy: 0.6892\n",
      "Epoch 11/20 | Val Accuracy: 0.6920\n",
      "Epoch 12/20 | Val Accuracy: 0.6848\n",
      "Epoch 13/20 | Val Accuracy: 0.6892\n",
      "Epoch 14/20 | Val Accuracy: 0.6866\n",
      "Epoch 15/20 | Val Accuracy: 0.6870\n",
      "Epoch 16/20 | Val Accuracy: 0.6905\n",
      "Epoch 17/20 | Val Accuracy: 0.6884\n",
      "Epoch 18/20 | Val Accuracy: 0.6883\n",
      "Epoch 19/20 | Val Accuracy: 0.6790\n",
      "Epoch 20/20 | Val Accuracy: 0.6855\n"
     ]
    }
   ],
   "source": [
    "for epoch in range(epochs):\n",
    "    model_balanced.train()\n",
    "    for inputs, labels in train_loader:\n",
    "        optimizer.zero_grad()\n",
    "        outputs = model_balanced(inputs)\n",
    "        loss = criterion_b(outputs, labels)\n",
    "        loss.backward()\n",
    "        optimizer.step()\n",
    "    \n",
    "    \n",
    "    model_balanced.eval()\n",
    "    val_loss = 0\n",
    "    correct_balanced = 0\n",
    "    with torch.no_grad():\n",
    "        for inputs, labels in val_loader:\n",
    "            outputs = model_balanced(inputs)\n",
    "            val_loss += criterion_b(outputs, labels).item()\n",
    "            preds_balanced = outputs.argmax(dim=1)\n",
    "            correct_balanced += (preds_balanced == labels).sum().item()\n",
    "    \n",
    "    val_acc = correct_balanced / len(val_dataset)\n",
    "    print(f\"Epoch {epoch+1}/{epochs} | Val Accuracy: {val_acc:.4f}\")"
   ]
  },
  {
   "cell_type": "code",
   "execution_count": 34,
   "id": "9c55e64a-e272-466f-8654-4e8acde35404",
   "metadata": {
    "execution": {
     "iopub.execute_input": "2025-04-21T20:43:09.926229Z",
     "iopub.status.busy": "2025-04-21T20:43:09.925660Z",
     "iopub.status.idle": "2025-04-21T20:43:10.370340Z",
     "shell.execute_reply": "2025-04-21T20:43:10.369601Z",
     "shell.execute_reply.started": "2025-04-21T20:43:09.926205Z"
    },
    "trusted": true
   },
   "outputs": [
    {
     "name": "stdout",
     "output_type": "stream",
     "text": [
      "\n",
      "Neural Network Test Results:\n",
      "              precision    recall  f1-score   support\n",
      "\n",
      "           0       0.49      0.75      0.59      2921\n",
      "           1       0.29      0.23      0.26      3780\n",
      "           2       0.85      0.80      0.82     13050\n",
      "\n",
      "    accuracy                           0.68     19751\n",
      "   macro avg       0.54      0.59      0.56     19751\n",
      "weighted avg       0.69      0.68      0.68     19751\n",
      "\n"
     ]
    }
   ],
   "source": [
    "model_balanced.eval()\n",
    "all_preds_balanced = []\n",
    "all_labels = []\n",
    "with torch.no_grad():\n",
    "    for inputs, labels in test_loader:\n",
    "        outputs = model_balanced(inputs)\n",
    "        preds_balanced = outputs.argmax(dim=1)\n",
    "        all_preds_balanced.extend(preds_balanced.numpy())\n",
    "        all_labels.extend(labels.numpy())\n",
    "\n",
    "print(\"\\nNeural Network Test Results:\")\n",
    "print(classification_report(all_labels, all_preds_balanced))"
   ]
  },
  {
   "cell_type": "code",
   "execution_count": 29,
   "id": "40adb638",
   "metadata": {
    "execution": {
     "iopub.execute_input": "2025-04-21T20:39:56.402908Z",
     "iopub.status.busy": "2025-04-21T20:39:56.402643Z",
     "iopub.status.idle": "2025-04-21T20:39:56.571083Z",
     "shell.execute_reply": "2025-04-21T20:39:56.570009Z",
     "shell.execute_reply.started": "2025-04-21T20:39:56.402891Z"
    },
    "trusted": true
   },
   "outputs": [
    {
     "name": "stdout",
     "output_type": "stream",
     "text": [
      "\n",
      "Model Comparison:\n",
      "Logistic Regression Accuracy: 0.6894\n",
      "Decision Tree Accuracy: 0.5690\n",
      "Neural Network Accuracy: 0.7395\n"
     ]
    }
   ],
   "source": [
    "print(\"\\nModel Comparison:\")\n",
    "print(f\"Logistic Regression Accuracy: {lr.score(X_test, y_test):.4f}\")\n",
    "print(f\"Decision Tree Accuracy: {dt.score(X_test, y_test):.4f}\")\n",
    "print(f\"Neural Network Accuracy: {(np.array(all_preds) == np.array(all_labels)).mean():.4f}\") "
   ]
  },
  {
   "cell_type": "code",
   "execution_count": 35,
   "id": "04d3a328-df20-423a-8a19-403f09a7fe0b",
   "metadata": {
    "execution": {
     "iopub.execute_input": "2025-04-21T20:43:19.696299Z",
     "iopub.status.busy": "2025-04-21T20:43:19.695637Z",
     "iopub.status.idle": "2025-04-21T20:43:19.851989Z",
     "shell.execute_reply": "2025-04-21T20:43:19.851398Z",
     "shell.execute_reply.started": "2025-04-21T20:43:19.696278Z"
    },
    "trusted": true
   },
   "outputs": [
    {
     "name": "stdout",
     "output_type": "stream",
     "text": [
      "\n",
      "Balanced Model Comparison:\n",
      "Logistic Regression Accuracy: 0.6811\n",
      "Decision Tree Accuracy: 0.5548\n",
      "Neural Network Accuracy: 0.6832\n"
     ]
    }
   ],
   "source": [
    "print(\"\\nBalanced Model Comparison:\")\n",
    "print(f\"Logistic Regression Accuracy: {lr_balanced.score(X_test, y_test):.4f}\")\n",
    "print(f\"Decision Tree Accuracy: {dt_balanced.score(X_test, y_test):.4f}\")\n",
    "print(f\"Neural Network Accuracy: {(np.array(all_preds_balanced) == np.array(all_labels)).mean():.4f}\") "
   ]
  },
  {
   "cell_type": "markdown",
   "id": "b4feac41-874f-4525-b75d-280f5fdfdcb0",
   "metadata": {},
   "source": [
    "Using Minority class oversampling"
   ]
  },
  {
   "cell_type": "code",
   "execution_count": null,
   "id": "d7bdbf0a-1fec-467e-8c18-19ddb6f972f7",
   "metadata": {
    "execution": {
     "iopub.execute_input": "2025-04-21T21:02:48.268631Z",
     "iopub.status.busy": "2025-04-21T21:02:48.268305Z",
     "iopub.status.idle": "2025-04-21T21:02:49.655442Z",
     "shell.execute_reply": "2025-04-21T21:02:49.654886Z",
     "shell.execute_reply.started": "2025-04-21T21:02:48.268606Z"
    },
    "trusted": true
   },
   "outputs": [],
   "source": [
    "unique_classes, class_counts = np.unique(y_train, return_counts=True)\n",
    "max_count = np.max(class_counts)\n",
    "\n",
    "X_train_balanced = []\n",
    "y_train_balanced = []\n",
    "\n",
    "for cls in unique_classes:\n",
    "    cls_indices = np.where(y_train == cls)[0]\n",
    "    n_samples = max_count - len(cls_indices)\n",
    "    if n_samples > 0:\n",
    "        selected_indices = np.random.choice(cls_indices, size=n_samples, replace=True)\n",
    "        X_train_balanced.append(X_train[selected_indices])\n",
    "        y_train_balanced.append(y_train[selected_indices])\n",
    "    X_train_balanced.append(X_train[cls_indices])\n",
    "    y_train_balanced.append(y_train[cls_indices])\n",
    "\n",
    "X_train_balanced = np.concatenate(X_train_balanced)\n",
    "y_train_balanced = np.concatenate(y_train_balanced)\n",
    "shuffle_idx = np.random.permutation(len(X_train_balanced))\n",
    "X_train_balanced = X_train_balanced[shuffle_idx]\n",
    "y_train_balanced = y_train_balanced[shuffle_idx]"
   ]
  },
  {
   "cell_type": "code",
   "execution_count": 56,
   "id": "b170f88a-e165-4447-b056-89d595938024",
   "metadata": {
    "execution": {
     "iopub.execute_input": "2025-04-21T21:03:33.103049Z",
     "iopub.status.busy": "2025-04-21T21:03:33.102412Z",
     "iopub.status.idle": "2025-04-21T21:04:34.124142Z",
     "shell.execute_reply": "2025-04-21T21:04:34.123233Z",
     "shell.execute_reply.started": "2025-04-21T21:03:33.103021Z"
    },
    "trusted": true
   },
   "outputs": [
    {
     "name": "stdout",
     "output_type": "stream",
     "text": [
      "Logistic Regression Test Results:\n",
      "              precision    recall  f1-score   support\n",
      "\n",
      "           0       0.53      0.73      0.61      2921\n",
      "           1       0.35      0.44      0.39      3780\n",
      "           2       0.88      0.74      0.80     13050\n",
      "\n",
      "    accuracy                           0.68     19751\n",
      "   macro avg       0.59      0.64      0.60     19751\n",
      "weighted avg       0.73      0.68      0.70     19751\n",
      "\n"
     ]
    }
   ],
   "source": [
    "lr = LogisticRegression(max_iter=1000)\n",
    "lr.fit(X_train_balanced, y_train_balanced)\n",
    "print(\"Logistic Regression Test Results:\")\n",
    "print(classification_report(y_test, lr.predict(X_test)))"
   ]
  },
  {
   "cell_type": "code",
   "execution_count": 59,
   "id": "4d76d869-0524-4618-907e-f281b01147c3",
   "metadata": {
    "execution": {
     "iopub.execute_input": "2025-04-21T21:07:35.283216Z",
     "iopub.status.busy": "2025-04-21T21:07:35.282943Z",
     "iopub.status.idle": "2025-04-21T21:09:52.615647Z",
     "shell.execute_reply": "2025-04-21T21:09:52.614931Z",
     "shell.execute_reply.started": "2025-04-21T21:07:35.283196Z"
    },
    "trusted": true
   },
   "outputs": [
    {
     "name": "stdout",
     "output_type": "stream",
     "text": [
      "Balanced Decision Tree Test Results:\n",
      "              precision    recall  f1-score   support\n",
      "\n",
      "           0       0.27      0.28      0.28      2921\n",
      "           1       0.22      0.24      0.23      3780\n",
      "           2       0.72      0.70      0.71     13050\n",
      "\n",
      "    accuracy                           0.55     19751\n",
      "   macro avg       0.40      0.41      0.40     19751\n",
      "weighted avg       0.56      0.55      0.55     19751\n",
      "\n"
     ]
    }
   ],
   "source": [
    "dt = DecisionTreeClassifier(random_state=42, class_weight='balanced')\n",
    "dt.fit(X_train_balanced, y_train_balanced)\n",
    "print(\"Balanced Decision Tree Test Results:\")\n",
    "print(classification_report(y_test, dt.predict(X_test)))"
   ]
  },
  {
   "cell_type": "code",
   "execution_count": null,
   "id": "28bf0826-04ca-4e4b-8dab-e4a30957f8eb",
   "metadata": {
    "execution": {
     "iopub.execute_input": "2025-04-23T08:52:28.997477Z",
     "iopub.status.busy": "2025-04-23T08:52:28.996441Z",
     "iopub.status.idle": "2025-04-23T08:53:04.683864Z",
     "shell.execute_reply": "2025-04-23T08:53:04.683184Z",
     "shell.execute_reply.started": "2025-04-23T08:52:28.997450Z"
    },
    "trusted": true
   },
   "outputs": [
    {
     "name": "stdout",
     "output_type": "stream",
     "text": [
      "Epoch 1/20 | Time: 7.06s\n",
      "Train Loss: 0.7384 | Val Loss: 0.6366\n",
      "Val Accuracy: 0.7417\n",
      "              precision    recall  f1-score   support\n",
      "\n",
      "           0     0.6162    0.6195    0.6179      3012\n",
      "           1     0.4723    0.0918    0.1538      3713\n",
      "           2     0.7776    0.9552    0.8573     13025\n",
      "\n",
      "    accuracy                         0.7417     19750\n",
      "   macro avg     0.6221    0.5555    0.5430     19750\n",
      "weighted avg     0.6956    0.7417    0.6885     19750\n",
      "\n",
      "------------------------------------------------------------\n",
      "Epoch 2/20 | Time: 6.79s\n",
      "Train Loss: 0.6164 | Val Loss: 0.6265\n",
      "Val Accuracy: 0.7460\n",
      "              precision    recall  f1-score   support\n",
      "\n",
      "           0     0.6517    0.5963    0.6227      3012\n",
      "           1     0.4687    0.1772    0.2572      3713\n",
      "           2     0.7876    0.9427    0.8582     13025\n",
      "\n",
      "    accuracy                         0.7460     19750\n",
      "   macro avg     0.6360    0.5721    0.5794     19750\n",
      "weighted avg     0.7069    0.7460    0.7093     19750\n",
      "\n",
      "------------------------------------------------------------\n",
      "Epoch 3/20 | Time: 6.82s\n",
      "Train Loss: 0.6060 | Val Loss: 0.6273\n",
      "Val Accuracy: 0.7460\n",
      "              precision    recall  f1-score   support\n",
      "\n",
      "           0     0.6672    0.5657    0.6123      3012\n",
      "           1     0.4667    0.2117    0.2913      3713\n",
      "           2     0.7893    0.9400    0.8581     13025\n",
      "\n",
      "    accuracy                         0.7460     19750\n",
      "   macro avg     0.6411    0.5725    0.5872     19750\n",
      "weighted avg     0.7101    0.7460    0.7141     19750\n",
      "\n",
      "------------------------------------------------------------\n",
      "Epoch 4/20 | Time: 6.67s\n",
      "Train Loss: 0.6020 | Val Loss: 0.6280\n",
      "Val Accuracy: 0.7454\n",
      "              precision    recall  f1-score   support\n",
      "\n",
      "           0     0.6514    0.5837    0.6157      3012\n",
      "           1     0.4771    0.1627    0.2426      3713\n",
      "           2     0.7830    0.9489    0.8580     13025\n",
      "\n",
      "    accuracy                         0.7454     19750\n",
      "   macro avg     0.6371    0.5651    0.5721     19750\n",
      "weighted avg     0.7054    0.7454    0.7053     19750\n",
      "\n",
      "------------------------------------------------------------\n",
      "Epoch 5/20 | Time: 7.12s\n",
      "Train Loss: 0.5990 | Val Loss: 0.6294\n",
      "Val Accuracy: 0.7453\n",
      "              precision    recall  f1-score   support\n",
      "\n",
      "           0     0.6638    0.5624    0.6089      3012\n",
      "           1     0.4718    0.1918    0.2727      3713\n",
      "           2     0.7849    0.9454    0.8577     13025\n",
      "\n",
      "    accuracy                         0.7453     19750\n",
      "   macro avg     0.6402    0.5665    0.5798     19750\n",
      "weighted avg     0.7076    0.7453    0.7098     19750\n",
      "\n",
      "------------------------------------------------------------\n",
      "Early stopping at epoch 5\n"
     ]
    },
    {
     "name": "stderr",
     "output_type": "stream",
     "text": [
      "/tmp/ipykernel_31/2282389762.py:164: FutureWarning: You are using `torch.load` with `weights_only=False` (the current default value), which uses the default pickle module implicitly. It is possible to construct malicious pickle data which will execute arbitrary code during unpickling (See https://github.com/pytorch/pytorch/blob/main/SECURITY.md#untrusted-models for more details). In a future release, the default value for `weights_only` will be flipped to `True`. This limits the functions that could be executed during unpickling. Arbitrary objects will no longer be allowed to be loaded via this mode unless they are explicitly allowlisted by the user via `torch.serialization.add_safe_globals`. We recommend you start setting `weights_only=True` for any use case where you don't have full control of the loaded file. Please open an issue on GitHub for any issues related to this experimental feature.\n",
      "  model.load_state_dict(torch.load('best_model.pth'))\n"
     ]
    },
    {
     "name": "stdout",
     "output_type": "stream",
     "text": [
      "\n",
      "Final Test Results:\n",
      "              precision    recall  f1-score   support\n",
      "\n",
      "           0     0.6360    0.6029    0.6190      2921\n",
      "           1     0.4774    0.1735    0.2546      3780\n",
      "           2     0.7881    0.9425    0.8584     13050\n",
      "\n",
      "    accuracy                         0.7451     19751\n",
      "   macro avg     0.6338    0.5730    0.5773     19751\n",
      "weighted avg     0.7061    0.7451    0.7074     19751\n",
      "\n"
     ]
    }
   ],
   "source": [
    "import torch\n",
    "import torch.nn as nn\n",
    "from torch.utils.data import DataLoader, TensorDataset\n",
    "from sklearn.metrics import classification_report\n",
    "import time\n",
    "import numpy as np\n",
    "\n",
    "\n",
    "class BidirectionalLSTM(nn.Module):\n",
    "    def __init__(self, input_size, hidden_size, num_layers, output_size, dropout_prob=0.3):\n",
    "        super().__init__()\n",
    "        self.hidden_size = hidden_size\n",
    "        self.num_layers = num_layers\n",
    "\n",
    "       \n",
    "        self.lstm = nn.LSTM(\n",
    "            input_size,\n",
    "            hidden_size // 2, \n",
    "            num_layers,\n",
    "            batch_first=True,\n",
    "            bidirectional=True,\n",
    "            dropout=dropout_prob if num_layers > 1 else 0\n",
    "        )\n",
    "        \n",
    "       \n",
    "        self.batch_norm = nn.BatchNorm1d(hidden_size)\n",
    "        self.fc = nn.Linear(hidden_size, output_size)\n",
    "        \n",
    "      \n",
    "        self.init_weights()\n",
    "\n",
    "    def init_weights(self):\n",
    "        for name, param in self.lstm.named_parameters():\n",
    "            if 'weight_ih' in name:\n",
    "                nn.init.xavier_normal_(param.data)\n",
    "            elif 'weight_hh' in name:\n",
    "                nn.init.orthogonal_(param.data)\n",
    "            elif 'bias' in name:\n",
    "                param.data.fill_(0)\n",
    "\n",
    "    def forward(self, x):\n",
    "        \n",
    "        x = x.unsqueeze(1)\n",
    "        \n",
    "       \n",
    "        lstm_out, _ = self.lstm(x) \n",
    "        \n",
    "        \n",
    "        out = lstm_out[:, -1, :]\n",
    "        \n",
    "       \n",
    "        out = self.batch_norm(out)\n",
    "        \n",
    "   \n",
    "        out = self.fc(out)\n",
    "        return out\n",
    "\n",
    "\n",
    "def initialize_model(X_train, num_classes):\n",
    "    device = torch.device('cuda' if torch.cuda.is_available() else 'cpu')\n",
    "    \n",
    "    model_config = {\n",
    "        'input_size': X_train.shape[1],\n",
    "        'hidden_size': 128,\n",
    "        'num_layers': 2,\n",
    "        'output_size': num_classes,\n",
    "        'dropout_prob': 0.1\n",
    "    }\n",
    "    \n",
    "    model = BidirectionalLSTM(**model_config).to(device)\n",
    "    \n",
    "    training_config = {\n",
    "        'learning_rate': 0.0001,\n",
    "        'weight_decay': 1e-4,\n",
    "        'clip_value': 0.5\n",
    "    }\n",
    "    \n",
    "    optimizer = torch.optim.AdamW(\n",
    "        model.parameters(),\n",
    "        lr=training_config['learning_rate'],\n",
    "        weight_decay=training_config['weight_decay']\n",
    "    )\n",
    "    \n",
    "    criterion = nn.CrossEntropyLoss()\n",
    "    scheduler = torch.optim.lr_scheduler.ReduceLROnPlateau(optimizer, 'min', patience=2)\n",
    "    \n",
    "    return device, model, optimizer, criterion, scheduler\n",
    "\n",
    "\n",
    "def train_model(model, train_loader, val_loader, optimizer, criterion, device, \n",
    "                scheduler=None, epochs=20, clip_value=0.5, patience=3):\n",
    "    best_val_loss = float('inf')\n",
    "    no_improve = 0\n",
    "    \n",
    "    for epoch in range(epochs):\n",
    "        start_time = time.time()\n",
    "        model.train()\n",
    "        train_loss = 0\n",
    "        \n",
    "       \n",
    "        for inputs, labels in train_loader:\n",
    "            inputs, labels = inputs.to(device), labels.to(device)\n",
    "            \n",
    "            optimizer.zero_grad()\n",
    "            outputs = model(inputs)\n",
    "            loss = criterion(outputs, labels)\n",
    "            \n",
    "            torch.nn.utils.clip_grad_norm_(model.parameters(), clip_value)\n",
    "            loss.backward()\n",
    "            optimizer.step()\n",
    "            \n",
    "            train_loss += loss.item() * inputs.size(0)\n",
    "        \n",
    "       \n",
    "        model.eval()\n",
    "        val_loss = 0\n",
    "        correct = 0\n",
    "        all_preds = []\n",
    "        all_labels = []\n",
    "        \n",
    "        with torch.no_grad():\n",
    "            for inputs, labels in val_loader:\n",
    "                inputs, labels = inputs.to(device), labels.to(device)\n",
    "                outputs = model(inputs)\n",
    "                loss = criterion(outputs, labels)\n",
    "                \n",
    "                val_loss += loss.item() * inputs.size(0)\n",
    "                _, preds = torch.max(outputs, 1)\n",
    "                correct += (preds == labels).sum().item()\n",
    "                \n",
    "                all_preds.extend(preds.cpu().numpy())\n",
    "                all_labels.extend(labels.cpu().numpy())\n",
    "        \n",
    "      \n",
    "        train_loss /= len(train_loader.dataset)\n",
    "        val_loss /= len(val_loader.dataset)\n",
    "        val_acc = correct / len(val_loader.dataset)\n",
    "        \n",
    "   \n",
    "        if scheduler:\n",
    "            scheduler.step(val_loss)\n",
    "        \n",
    "       \n",
    "        epoch_time = time.time() - start_time\n",
    "        print(f'Epoch {epoch+1}/{epochs} | Time: {epoch_time:.2f}s')\n",
    "        print(f'Train Loss: {train_loss:.4f} | Val Loss: {val_loss:.4f}')\n",
    "        print(f'Val Accuracy: {val_acc:.4f}')\n",
    "        print(classification_report(all_labels, all_preds, digits=4))\n",
    "        print('-' * 60)\n",
    "        \n",
    "        \n",
    "        if val_loss < best_val_loss:\n",
    "            best_val_loss = val_loss\n",
    "            no_improve = 0\n",
    "            torch.save(model.state_dict(), 'best_model.pth')\n",
    "        else:\n",
    "            no_improve += 1\n",
    "            if no_improve >= patience:\n",
    "                print(f'Early stopping at epoch {epoch+1}')\n",
    "                break\n",
    "\n",
    "\n",
    "def evaluate_model(model, test_loader, device):\n",
    "    model.load_state_dict(torch.load('best_model.pth'))\n",
    "    model.eval()\n",
    "    all_preds = []\n",
    "    all_labels = []\n",
    "    \n",
    "    with torch.no_grad():\n",
    "        for inputs, labels in test_loader:\n",
    "            inputs, labels = inputs.to(device), labels.to(device)\n",
    "            outputs = model(inputs)\n",
    "            _, preds = torch.max(outputs, 1)\n",
    "            \n",
    "            all_preds.extend(preds.cpu().numpy())\n",
    "            all_labels.extend(labels.cpu().numpy())\n",
    "    \n",
    "    print(\"\\nFinal Test Results:\")\n",
    "    print(classification_report(all_labels, all_preds, digits=4))\n",
    "    return all_preds, all_labels\n",
    "\n",
    "\n",
    "if __name__ == \"__main__\":\n",
    "    train_dataset = TensorDataset(torch.tensor(X_train), torch.tensor(y_train))\n",
    "    val_dataset = TensorDataset(torch.tensor(X_val), torch.tensor(y_val))\n",
    "    test_dataset = TensorDataset(torch.tensor(X_test), torch.tensor(y_test))\n",
    "\n",
    "  \n",
    "    batch_size = 64\n",
    "    train_loader = DataLoader(train_dataset, batch_size=batch_size, shuffle=True)\n",
    "    val_loader = DataLoader(val_dataset, batch_size=batch_size)\n",
    "    test_loader = DataLoader(test_dataset, batch_size=batch_size)\n",
    "    \n",
    "\n",
    "    device, model, optimizer, criterion, scheduler = initialize_model(\n",
    "        X_train=X_train,\n",
    "        num_classes=len(np.unique(y_train)))\n",
    "    \n",
    "    train_model(\n",
    "        model=model,\n",
    "        train_loader=train_loader,\n",
    "        val_loader=val_loader,\n",
    "        optimizer=optimizer,\n",
    "        criterion=criterion,\n",
    "        device=device,\n",
    "        scheduler=scheduler,\n",
    "        epochs=20,\n",
    "        clip_value=0.5,\n",
    "        patience=3\n",
    "    )\n",
    "    \n",
    "    test_preds, test_labels = evaluate_model(model, test_loader, device)"
   ]
  },
  {
   "cell_type": "code",
   "execution_count": null,
   "id": "1f2698ff-ffd1-4605-8e37-b660fbc95aa2",
   "metadata": {
    "execution": {
     "iopub.execute_input": "2025-04-23T09:01:51.237017Z",
     "iopub.status.busy": "2025-04-23T09:01:51.236462Z",
     "iopub.status.idle": "2025-04-23T09:01:51.241274Z",
     "shell.execute_reply": "2025-04-23T09:01:51.240555Z",
     "shell.execute_reply.started": "2025-04-23T09:01:51.236993Z"
    },
    "trusted": true
   },
   "outputs": [],
   "source": [
    "class_counts = np.bincount(y_train)\n",
    "class_weights = 1. / class_counts\n",
    "class_weights = torch.tensor(class_weights, dtype=torch.float32)"
   ]
  }
 ],
 "metadata": {
  "kaggle": {
   "accelerator": "none",
   "dataSources": [
    {
     "datasetId": 7156195,
     "sourceId": 11426138,
     "sourceType": "datasetVersion"
    }
   ],
   "dockerImageVersionId": 31012,
   "isGpuEnabled": false,
   "isInternetEnabled": true,
   "language": "python",
   "sourceType": "notebook"
  },
  "kernelspec": {
   "display_name": "Python 3",
   "language": "python",
   "name": "python3"
  },
  "language_info": {
   "codemirror_mode": {
    "name": "ipython",
    "version": 3
   },
   "file_extension": ".py",
   "mimetype": "text/x-python",
   "name": "python",
   "nbconvert_exporter": "python",
   "pygments_lexer": "ipython3",
   "version": "3.11.11"
  }
 },
 "nbformat": 4,
 "nbformat_minor": 5
}
