{
 "cells": [
  {
   "cell_type": "code",
   "execution_count": 1,
   "id": "7dcc10ce",
   "metadata": {},
   "outputs": [
    {
     "name": "stdout",
     "output_type": "stream",
     "text": [
      "MPS backend is available.\n"
     ]
    }
   ],
   "source": [
    "import torch\n",
    "\n",
    "if torch.backends.mps.is_available():\n",
    "    print(\"MPS backend is available.\")\n",
    "else:\n",
    "    print(\"MPS backend is not available.\")"
   ]
  },
  {
   "cell_type": "code",
   "execution_count": 1,
   "id": "8fe27451",
   "metadata": {},
   "outputs": [],
   "source": [
    "import pandas as pd\n",
    "import numpy as np\n",
    "from sklearn.model_selection import train_test_split\n",
    "from sklearn.preprocessing import LabelEncoder\n",
    "import json\n",
    "import torch\n",
    "import torch.nn as nn\n",
    "import torch.nn.functional as F\n",
    "import torch.optim as optim\n",
    "from torch.utils.data import DataLoader, TensorDataset"
   ]
  },
  {
   "cell_type": "code",
   "execution_count": 2,
   "id": "4ea29918",
   "metadata": {},
   "outputs": [],
   "source": [
    "def load_data(file_path):\n",
    "    with open(file_path, 'r') as f:\n",
    "        data = json.load(f)  \n",
    "    return pd.DataFrame(data)\n",
    "\n",
    "df = load_data('../fast_russian_embeddings.json')"
   ]
  },
  {
   "cell_type": "code",
   "execution_count": 3,
   "id": "962200a7",
   "metadata": {},
   "outputs": [],
   "source": [
    "le = LabelEncoder()\n",
    "df['label_encoded'] = le.fit_transform(df['label'])\n",
    "X = np.array(df['embedding'].tolist(), dtype=np.float32) \n",
    "y = df['label_encoded'].values"
   ]
  },
  {
   "cell_type": "code",
   "execution_count": 4,
   "id": "4edb03bb",
   "metadata": {},
   "outputs": [],
   "source": [
    "X_train, X_temp, y_train, y_temp = train_test_split(X, y, test_size=0.3, random_state=42)\n",
    "X_val, X_test, y_val, y_test = train_test_split(X_temp, y_temp, test_size=0.5, random_state=42)"
   ]
  },
  {
   "cell_type": "code",
   "execution_count": 5,
   "id": "c2a37f6f",
   "metadata": {},
   "outputs": [],
   "source": [
    "EMBEDDING_DIM = 312\n",
    "NUM_CLASSES = 3\n",
    "BATCH_SIZE =64\n",
    "\n",
    "train_dataset = TensorDataset(\n",
    "        torch.tensor(X_train, dtype=torch.float32),\n",
    "        torch.tensor(y_train, dtype=torch.int32)\n",
    "    )\n",
    "val_dataset = TensorDataset(\n",
    "        torch.tensor(X_val, dtype=torch.float32),\n",
    "        torch.tensor(y_val, dtype=torch.int32)\n",
    "    )\n",
    "test_dataset = TensorDataset(\n",
    "        torch.tensor(X_test, dtype=torch.float32),\n",
    "        torch.tensor(y_test, dtype=torch.int32)\n",
    "    )\n",
    "\n",
    "train_loader = DataLoader(train_dataset, batch_size=BATCH_SIZE, shuffle=True)\n",
    "val_loader = DataLoader(val_dataset, batch_size=BATCH_SIZE)\n",
    "test_loader = DataLoader(test_dataset, batch_size=BATCH_SIZE)"
   ]
  },
  {
   "cell_type": "code",
   "execution_count": 6,
   "id": "e3d74e88",
   "metadata": {},
   "outputs": [],
   "source": [
    "from sklearn.utils.class_weight import compute_class_weight\n",
    "\n",
    "class_weights = compute_class_weight(\n",
    "    class_weight='balanced',\n",
    "    classes=np.unique(y_train),\n",
    "    y=y_train \n",
    ")\n",
    "device = torch.device('mps' if torch.backends.mps.is_available() else 'cpu')\n",
    "class_weights = torch.tensor(np.log(class_weights + 1) * 0.5, dtype=torch.float32).to(device)\n",
    "criterion = nn.CrossEntropyLoss(weight=class_weights)"
   ]
  },
  {
   "cell_type": "code",
   "execution_count": 7,
   "id": "52ef2b57",
   "metadata": {},
   "outputs": [],
   "source": [
    "class BiLSTM_CNN(nn.Module):\n",
    "    def __init__(self, \n",
    "                 embedding_dim=312,\n",
    "                 hidden_dim=512,  \n",
    "                 num_classes=3,\n",
    "                 n_filters=100,\n",
    "                 filter_sizes=[1, 3, 5],\n",
    "                 dropout=0.3):\n",
    "        super().__init__()\n",
    "        \n",
    "        self.lstm = nn.LSTM(\n",
    "            embedding_dim, \n",
    "            hidden_dim,\n",
    "            bidirectional=True,\n",
    "            batch_first=True,\n",
    "            dropout=0.3 \n",
    "        )\n",
    "        \n",
    "        self.convs = nn.ModuleList([\n",
    "            nn.Conv1d(\n",
    "                2 * hidden_dim, \n",
    "                n_filters, \n",
    "                kernel_size=fs,\n",
    "                padding=(fs - 1) // 2  # Паддинг для сохранения размера\n",
    "            ) \n",
    "            for fs in filter_sizes\n",
    "        ])\n",
    "        \n",
    "        self.bn = nn.BatchNorm1d(len(filter_sizes) * n_filters)\n",
    "        self.fc = nn.Linear(len(filter_sizes) * n_filters, num_classes)\n",
    "        self.dropout = nn.Dropout(dropout)\n",
    "\n",
    "    def forward(self, x):\n",
    "        if x.dim() == 2:\n",
    "            x = x.unsqueeze(1)\n",
    "            \n",
    "        lstm_out, _ = self.lstm(x)\n",
    "        lstm_out = lstm_out.permute(0, 2, 1)  # (batch, channels, seq_len)\n",
    "        \n",
    "        pooled = []\n",
    "        for conv in self.convs:\n",
    "            conv_out = F.relu(conv(lstm_out))\n",
    "            pooled_out = F.max_pool1d(conv_out, conv_out.size(2))\n",
    "            pooled.append(pooled_out)\n",
    "            \n",
    "        cat = self.bn(torch.cat(pooled, dim=1).squeeze(2))\n",
    "        return self.fc(self.dropout(cat))"
   ]
  },
  {
   "cell_type": "code",
   "execution_count": 8,
   "id": "7d03c1e3",
   "metadata": {},
   "outputs": [],
   "source": [
    "def train(model, iterator, optimizer, criterion):\n",
    "    model.train()\n",
    "    epoch_loss = 0\n",
    "    correct = 0\n",
    "    total = 0\n",
    "    \n",
    "    for batch in iterator:\n",
    "        x, y = batch\n",
    "        x, y = x.to(device), y.to(device)\n",
    "        \n",
    "        optimizer.zero_grad()\n",
    "        predictions = model(x)\n",
    "        loss = criterion(predictions, y)\n",
    "        loss.backward()\n",
    "        optimizer.step()\n",
    "        \n",
    "        _, preds = torch.max(predictions, 1)\n",
    "        correct += (preds == y).sum().item()\n",
    "        total += y.size(0)\n",
    "        epoch_loss += loss.item()\n",
    "        \n",
    "    acc = correct / total\n",
    "    return epoch_loss / len(iterator), acc"
   ]
  },
  {
   "cell_type": "code",
   "execution_count": 9,
   "id": "be3ae019",
   "metadata": {},
   "outputs": [],
   "source": [
    "def evaluate(model, iterator, criterion):\n",
    "    model.eval()\n",
    "    epoch_loss = 0\n",
    "    all_preds = []\n",
    "    all_labels = []\n",
    "    \n",
    "    with torch.no_grad():\n",
    "        for batch in iterator:\n",
    "            x, y = batch\n",
    "            x, y = x.to(device), y.to(device)\n",
    "            \n",
    "            predictions = model(x)\n",
    "            loss = criterion(predictions, y)\n",
    "            epoch_loss += loss.item()\n",
    "            \n",
    "            _, preds = torch.max(predictions, 1)\n",
    "            all_preds.extend(preds.cpu().numpy())\n",
    "            all_labels.extend(y.cpu().numpy())\n",
    "    \n",
    "    acc = (np.array(all_preds) == np.array(all_labels)).mean()\n",
    "    return epoch_loss / len(iterator), acc"
   ]
  },
  {
   "cell_type": "code",
   "execution_count": 10,
   "id": "762fbd3c",
   "metadata": {},
   "outputs": [
    {
     "name": "stderr",
     "output_type": "stream",
     "text": [
      "/Library/Frameworks/Python.framework/Versions/3.13/lib/python3.13/site-packages/torch/nn/modules/rnn.py:123: UserWarning: dropout option adds dropout after all but last recurrent layer, so non-zero dropout expects num_layers greater than 1, but got dropout=0.3 and num_layers=1\n",
      "  warnings.warn(\n"
     ]
    }
   ],
   "source": [
    "model = BiLSTM_CNN(\n",
    "    embedding_dim=EMBEDDING_DIM,\n",
    "    hidden_dim=256,\n",
    "    num_classes=NUM_CLASSES,\n",
    "    n_filters=100,\n",
    "    filter_sizes=[3,5,7],\n",
    "    dropout=0.1\n",
    ")\n",
    "model = model.to(device)"
   ]
  },
  {
   "cell_type": "code",
   "execution_count": 28,
   "id": "a059d421",
   "metadata": {},
   "outputs": [],
   "source": [
    "# optimizer = optim.Adam(model.parameters(), lr=0.000001, weight_decay=1e-4)\n",
    "\n",
    "optimizer = optim.SGD(\n",
    "    model.parameters(), \n",
    "    lr=0.001, \n",
    "    momentum=0.9, \n",
    "    nesterov=True, \n",
    "    weight_decay=1e-4\n",
    ")\n",
    "\n",
    "# scheduler = optim.lr_scheduler.ReduceLROnPlateau(\n",
    "#     optimizer, \n",
    "#     mode='min', \n",
    "#     factor=0.1, \n",
    "#     patience=1\n",
    "# )\n",
    "scheduler = optim.lr_scheduler.CyclicLR(\n",
    "    optimizer, \n",
    "    base_lr=0.00001, \n",
    "    max_lr=0.1, \n",
    "    step_size_up=2000\n",
    "\n",
    ")"
   ]
  },
  {
   "cell_type": "code",
   "execution_count": 12,
   "id": "c748e38c",
   "metadata": {},
   "outputs": [],
   "source": [
    "class EarlyStopping:\n",
    "    def __init__(self, patience=5, delta=0):\n",
    "        self.patience = patience\n",
    "        self.delta = delta\n",
    "        self.counter = 0\n",
    "        self.best_loss = None\n",
    "        self.early_stop = False\n",
    "\n",
    "    def __call__(self, val_loss):\n",
    "        if self.best_loss is None:\n",
    "            self.best_loss = val_loss\n",
    "        elif val_loss > self.best_loss - self.delta:\n",
    "            self.counter += 1\n",
    "            if self.counter >= self.patience:\n",
    "                self.early_stop = True\n",
    "        else:\n",
    "            self.best_loss = val_loss\n",
    "            self.counter = 0"
   ]
  },
  {
   "cell_type": "code",
   "execution_count": 31,
   "id": "74c74064",
   "metadata": {},
   "outputs": [
    {
     "name": "stderr",
     "output_type": "stream",
     "text": [
      "/Library/Frameworks/Python.framework/Versions/3.13/lib/python3.13/site-packages/torch/optim/lr_scheduler.py:198: UserWarning: The epoch parameter in `scheduler.step()` was not necessary and is being deprecated where possible. Please use `scheduler.step()` to step the scheduler. During the deprecation, if epoch is different from None, the closed form is used instead of the new chainable form, where available. Please open an issue if you are unable to replicate your use case: https://github.com/pytorch/pytorch/issues/new/choose.\n",
      "  warnings.warn(EPOCH_DEPRECATION_WARNING, UserWarning)\n"
     ]
    },
    {
     "name": "stdout",
     "output_type": "stream",
     "text": [
      "Epoch 01\n",
      "\tTrain Loss: 0.7700 Acc: 70.62%\n",
      "\tVal Loss: 0.7787 Acc: 72.62%\n",
      "Epoch 02\n",
      "\tTrain Loss: 0.7700 Acc: 70.65%\n",
      "\tVal Loss: 0.7723 Acc: 71.61%\n",
      "Epoch 03\n",
      "\tTrain Loss: 0.7707 Acc: 70.57%\n",
      "\tVal Loss: 0.7730 Acc: 71.51%\n",
      "Epoch 04\n",
      "\tTrain Loss: 0.7696 Acc: 70.70%\n",
      "\tVal Loss: 0.7719 Acc: 69.28%\n",
      "Epoch 05\n",
      "\tTrain Loss: 0.7716 Acc: 70.70%\n",
      "\tVal Loss: 0.7725 Acc: 68.34%\n",
      "Epoch 06\n",
      "\tTrain Loss: 0.7711 Acc: 70.70%\n",
      "\tVal Loss: 0.7697 Acc: 70.88%\n",
      "Epoch 07\n",
      "\tTrain Loss: 0.7720 Acc: 70.61%\n",
      "\tVal Loss: 0.7727 Acc: 71.21%\n",
      "Epoch 08\n",
      "\tTrain Loss: 0.7707 Acc: 70.66%\n",
      "\tVal Loss: 0.7692 Acc: 69.89%\n",
      "Epoch 09\n",
      "\tTrain Loss: 0.7696 Acc: 70.71%\n",
      "\tVal Loss: 0.7690 Acc: 70.26%\n",
      "Epoch 10\n",
      "\tTrain Loss: 0.7694 Acc: 70.83%\n",
      "\tVal Loss: 0.7723 Acc: 71.46%\n",
      "Epoch 11\n",
      "\tTrain Loss: 0.7701 Acc: 70.63%\n",
      "\tVal Loss: 0.7721 Acc: 69.16%\n",
      "Epoch 12\n",
      "\tTrain Loss: 0.7728 Acc: 70.78%\n",
      "\tVal Loss: 0.7708 Acc: 71.05%\n",
      "Epoch 13\n",
      "\tTrain Loss: 0.7723 Acc: 70.86%\n",
      "\tVal Loss: 0.7715 Acc: 71.41%\n",
      "Early stopping triggered\n"
     ]
    }
   ],
   "source": [
    "early_stopping = EarlyStopping(patience=5)\n",
    "N_EPOCHS = 20\n",
    "\n",
    "for epoch in range(N_EPOCHS):\n",
    "    train_loss, train_acc = train(model, train_loader, optimizer, criterion)\n",
    "    valid_loss, valid_acc = evaluate(model, val_loader, criterion)\n",
    "    \n",
    "    scheduler.step(valid_loss)\n",
    "    \n",
    "    early_stopping(valid_loss)\n",
    "    if early_stopping.early_stop:\n",
    "        print(\"Early stopping triggered\")\n",
    "        break\n",
    "    \n",
    "   \n",
    "    if valid_loss == early_stopping.best_loss:\n",
    "        torch.save(model.state_dict(), 'best_model.pth')\n",
    "    \n",
    "\n",
    "    print(f\"Epoch {epoch+1:02}\")\n",
    "    print(f\"\\tTrain Loss: {train_loss:.4f} Acc: {train_acc*100:.2f}%\")\n",
    "    print(f\"\\tVal Loss: {valid_loss:.4f} Acc: {valid_acc*100:.2f}%\")"
   ]
  },
  {
   "cell_type": "code",
   "execution_count": 33,
   "id": "60cc5639",
   "metadata": {},
   "outputs": [
    {
     "name": "stdout",
     "output_type": "stream",
     "text": [
      "Test Loss: 0.7661\n",
      "Accuracy: 70.27%\n",
      "\n",
      "Classification Report:\n",
      "              precision    recall  f1-score   support\n",
      "\n",
      "    Negative       0.52      0.72      0.61      2921\n",
      "     Neutral       0.38      0.40      0.39      3780\n",
      "    Positive       0.87      0.79      0.83     13050\n",
      "\n",
      "    accuracy                           0.70     19751\n",
      "   macro avg       0.59      0.64      0.61     19751\n",
      "weighted avg       0.73      0.70      0.71     19751\n",
      "\n"
     ]
    },
    {
     "data": {
      "image/png": "[encoded data removed]",
      "text/plain": [
       "<Figure size 800x600 with 2 Axes>"
      ]
     },
     "metadata": {},
     "output_type": "display_data"
    }
   ],
   "source": [
    "import matplotlib.pyplot as plt\n",
    "from sklearn.metrics import classification_report, confusion_matrix, ConfusionMatrixDisplay\n",
    "\n",
    "def evaluate_model(model, test_loader, device, class_names=None):\n",
    "    model.eval()\n",
    "    all_preds = []\n",
    "    all_labels = []\n",
    "    test_loss = 0.0\n",
    "    criterion = nn.CrossEntropyLoss(weight=class_weights)\n",
    "    \n",
    "    with torch.no_grad():\n",
    "        for batch in test_loader:\n",
    "            x, y = batch\n",
    "            x = x.to(device).float()\n",
    "            y = y.to(device).long()\n",
    "            \n",
    "            \n",
    "            if x.dim() == 2:\n",
    "                x = x.unsqueeze(1)\n",
    "                \n",
    "            outputs = model(x)\n",
    "            loss = criterion(outputs, y)\n",
    "            test_loss += loss.item()\n",
    "            \n",
    "            _, preds = torch.max(outputs, 1)\n",
    "            all_preds.extend(preds.cpu().numpy())\n",
    "            all_labels.extend(y.cpu().numpy())\n",
    "    \n",
    "    \n",
    "    test_loss /= len(test_loader)\n",
    "    accuracy = (np.array(all_preds) == np.array(all_labels)).mean()\n",
    "    \n",
    "    print(f\"Test Loss: {test_loss:.4f}\")\n",
    "    print(f\"Accuracy: {accuracy * 100:.2f}%\")\n",
    "    print(\"\\nClassification Report:\")\n",
    "    print(classification_report(all_labels, all_preds, target_names=class_names))\n",
    "    \n",
    "    \n",
    "    cm = confusion_matrix(all_labels, all_preds)\n",
    "    disp = ConfusionMatrixDisplay(confusion_matrix=cm, display_labels=class_names)\n",
    "    fig, ax = plt.subplots(figsize=(8,6))\n",
    "    disp.plot(ax=ax, cmap='Blues')\n",
    "    plt.title('Confusion Matrix')\n",
    "    plt.show()\n",
    "    \n",
    "    return test_loss, accuracy\n",
    "\n",
    "\n",
    "class_names = ['Negative', 'Neutral', 'Positive']  \n",
    "model.load_state_dict(torch.load('best_model.pth'))\n",
    "model = model.to(device)\n",
    "\n",
    "test_loss, test_acc = evaluate_model(model, test_loader, device, class_names)"
   ]
  }
 ],
 "metadata": {
  "kernelspec": {
   "display_name": "Python 3",
   "language": "python",
   "name": "python3"
  },
  "language_info": {
   "codemirror_mode": {
    "name": "ipython",
    "version": 3
   },
   "file_extension": ".py",
   "mimetype": "text/x-python",
   "name": "python",
   "nbconvert_exporter": "python",
   "pygments_lexer": "ipython3",
   "version": "3.13.3"
  }
 },
 "nbformat": 4,
 "nbformat_minor": 5
}
