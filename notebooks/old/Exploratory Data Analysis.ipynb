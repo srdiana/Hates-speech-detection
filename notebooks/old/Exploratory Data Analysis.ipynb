{
  "cells": [
    {
      "cell_type": "code",
      "execution_count": 1,
      "metadata": {
        "id": "2rsFXrbKjdGn"
      },
      "outputs": [],
      "source": [
        "import pandas as pd\n",
        "import matplotlib.pyplot as plt\n",
        "import seaborn as sns"
      ]
    },
    {
      "cell_type": "code",
      "execution_count": null,
      "metadata": {
        "id": "FqjJXMiHlzyw"
      },
      "outputs": [],
      "source": [
        "file_path = 'data/HateSpeechDataset.csv'\n",
        "df = pd.read_csv(file_path)"
      ]
    },
    {
      "cell_type": "code",
      "execution_count": 3,
      "metadata": {
        "colab": {
          "base_uri": "https://localhost:8080/",
          "height": 258
        },
        "id": "QBSLHB-Cn-bl",
        "outputId": "9de509ad-6255-4109-a6f8-bc3e5e9f5e01"
      },
      "outputs": [
        {
          "name": "stdout",
          "output_type": "stream",
          "text": [
            "Dataset Shape: (440906, 3)\n",
            "\n",
            "Dataset Columns: Index(['Content', 'Label', 'Content_int'], dtype='object')\n"
          ]
        },
        {
          "data": {
            "text/html": [
              "<div>\n",
              "<style scoped>\n",
              "    .dataframe tbody tr th:only-of-type {\n",
              "        vertical-align: middle;\n",
              "    }\n",
              "\n",
              "    .dataframe tbody tr th {\n",
              "        vertical-align: top;\n",
              "    }\n",
              "\n",
              "    .dataframe thead th {\n",
              "        text-align: right;\n",
              "    }\n",
              "</style>\n",
              "<table border=\"1\" class=\"dataframe\">\n",
              "  <thead>\n",
              "    <tr style=\"text-align: right;\">\n",
              "      <th></th>\n",
              "      <th>Content</th>\n",
              "      <th>Label</th>\n",
              "      <th>Content_int</th>\n",
              "    </tr>\n",
              "  </thead>\n",
              "  <tbody>\n",
              "    <tr>\n",
              "      <th>0</th>\n",
              "      <td>denial of normal the con be asked to comment o...</td>\n",
              "      <td>1</td>\n",
              "      <td>[146715, 0, 1, 2, 3, 4, 5, 6, 7, 8, 9, 10, 11,...</td>\n",
              "    </tr>\n",
              "    <tr>\n",
              "      <th>1</th>\n",
              "      <td>just by being able to tweet this insufferable ...</td>\n",
              "      <td>1</td>\n",
              "      <td>[146715, 14, 15, 16, 17, 7, 18, 19, 20, 21, 22...</td>\n",
              "    </tr>\n",
              "    <tr>\n",
              "      <th>2</th>\n",
              "      <td>that is retarded you too cute to be single tha...</td>\n",
              "      <td>1</td>\n",
              "      <td>[146715, 28, 29, 30, 26, 31, 32, 7, 5, 33, 28,...</td>\n",
              "    </tr>\n",
              "    <tr>\n",
              "      <th>3</th>\n",
              "      <td>thought of a real badass mongol style declarat...</td>\n",
              "      <td>1</td>\n",
              "      <td>[146715, 35, 1, 24, 36, 37, 38, 39, 40, 1, 41,...</td>\n",
              "    </tr>\n",
              "    <tr>\n",
              "      <th>4</th>\n",
              "      <td>afro american basho</td>\n",
              "      <td>1</td>\n",
              "      <td>[146715, 46, 47, 48, 146714]</td>\n",
              "    </tr>\n",
              "  </tbody>\n",
              "</table>\n",
              "</div>"
            ],
            "text/plain": [
              "                                             Content Label  \\\n",
              "0  denial of normal the con be asked to comment o...     1   \n",
              "1  just by being able to tweet this insufferable ...     1   \n",
              "2  that is retarded you too cute to be single tha...     1   \n",
              "3  thought of a real badass mongol style declarat...     1   \n",
              "4                                afro american basho     1   \n",
              "\n",
              "                                         Content_int  \n",
              "0  [146715, 0, 1, 2, 3, 4, 5, 6, 7, 8, 9, 10, 11,...  \n",
              "1  [146715, 14, 15, 16, 17, 7, 18, 19, 20, 21, 22...  \n",
              "2  [146715, 28, 29, 30, 26, 31, 32, 7, 5, 33, 28,...  \n",
              "3  [146715, 35, 1, 24, 36, 37, 38, 39, 40, 1, 41,...  \n",
              "4                       [146715, 46, 47, 48, 146714]  "
            ]
          },
          "execution_count": 3,
          "metadata": {},
          "output_type": "execute_result"
        }
      ],
      "source": [
        "print(\"Dataset Shape:\", df.shape)\n",
        "print(\"\\nDataset Columns:\", df.columns)\n",
        "df.head()"
      ]
    },
    {
      "cell_type": "code",
      "execution_count": 4,
      "metadata": {
        "colab": {
          "base_uri": "https://localhost:8080/"
        },
        "id": "eksQmCY9l3aN",
        "outputId": "41cbf6ec-2073-4a1e-91d3-363e460d1f44"
      },
      "outputs": [
        {
          "name": "stdout",
          "output_type": "stream",
          "text": [
            "<class 'pandas.core.frame.DataFrame'>\n",
            "RangeIndex: 111824 entries, 0 to 111823\n",
            "Data columns (total 3 columns):\n",
            " #   Column       Non-Null Count   Dtype  \n",
            "---  ------       --------------   -----  \n",
            " 0   Content      111824 non-null  object \n",
            " 1   Label        111823 non-null  float64\n",
            " 2   Content_int  111823 non-null  object \n",
            "dtypes: float64(1), object(2)\n",
            "memory usage: 2.6+ MB\n"
          ]
        }
      ],
      "source": [
        "df.info()"
      ]
    },
    {
      "cell_type": "code",
      "execution_count": 9,
      "metadata": {
        "colab": {
          "base_uri": "https://localhost:8080/",
          "height": 178
        },
        "id": "DnRrdIsvmeLU",
        "outputId": "c0aed1bd-bb9c-402c-b0ff-c20ef7664991"
      },
      "outputs": [
        {
          "data": {
            "text/html": [
              "<div>\n",
              "<style scoped>\n",
              "    .dataframe tbody tr th:only-of-type {\n",
              "        vertical-align: middle;\n",
              "    }\n",
              "\n",
              "    .dataframe tbody tr th {\n",
              "        vertical-align: top;\n",
              "    }\n",
              "\n",
              "    .dataframe thead th {\n",
              "        text-align: right;\n",
              "    }\n",
              "</style>\n",
              "<table border=\"1\" class=\"dataframe\">\n",
              "  <thead>\n",
              "    <tr style=\"text-align: right;\">\n",
              "      <th></th>\n",
              "      <th>0</th>\n",
              "    </tr>\n",
              "  </thead>\n",
              "  <tbody>\n",
              "    <tr>\n",
              "      <th>Content</th>\n",
              "      <td>0</td>\n",
              "    </tr>\n",
              "    <tr>\n",
              "      <th>Label</th>\n",
              "      <td>1</td>\n",
              "    </tr>\n",
              "    <tr>\n",
              "      <th>Content_int</th>\n",
              "      <td>1</td>\n",
              "    </tr>\n",
              "  </tbody>\n",
              "</table>\n",
              "</div><br><label><b>dtype:</b> int64</label>"
            ],
            "text/plain": [
              "Content        0\n",
              "Label          1\n",
              "Content_int    1\n",
              "dtype: int64"
            ]
          },
          "execution_count": 9,
          "metadata": {},
          "output_type": "execute_result"
        }
      ],
      "source": [
        "df.isnull().sum()"
      ]
    },
    {
      "cell_type": "code",
      "execution_count": 22,
      "metadata": {
        "colab": {
          "base_uri": "https://localhost:8080/",
          "height": 576
        },
        "id": "-h4KGMieoPNv",
        "outputId": "f96ec301-5fa1-4861-9267-4f1cdef55676"
      },
      "outputs": [
        {
          "name": "stdout",
          "output_type": "stream",
          "text": [
            "\n",
            "Class Distribution:\n",
            " Label\n",
            "0.0    73126\n",
            "1.0    38697\n",
            "Name: count, dtype: int64\n"
          ]
        },
        {
          "data": {
            "image/png": "[encoded data removed]",
            "text/plain": [
              "<Figure size 640x480 with 1 Axes>"
            ]
          },
          "metadata": {},
          "output_type": "display_data"
        }
      ],
      "source": [
        "if 'Label' in df.columns:\n",
        "    print(\"\\nClass Distribution:\\n\", df['Label'].value_counts())\n",
        "    sns.countplot(x='Label', data=df)\n",
        "    plt.title(\"Distribution of Hate vs Non-Hate\")\n",
        "    plt.show()"
      ]
    },
    {
      "cell_type": "code",
      "execution_count": 25,
      "metadata": {
        "id": "C5ek2pRCoa9C"
      },
      "outputs": [],
      "source": [
        "df['text_length'] = df['Content'].apply(len)"
      ]
    },
    {
      "cell_type": "code",
      "execution_count": 26,
      "metadata": {
        "colab": {
          "base_uri": "https://localhost:8080/"
        },
        "id": "uVi9XexqpAJN",
        "outputId": "9cd87da9-c643-4cc4-a7f0-78d161cb7e8c"
      },
      "outputs": [
        {
          "name": "stdout",
          "output_type": "stream",
          "text": [
            "\n",
            "Text Length Stats:\n",
            " count    111824.000000\n",
            "mean         94.964534\n",
            "std          84.300414\n",
            "min           1.000000\n",
            "25%          44.000000\n",
            "50%          74.000000\n",
            "75%         120.000000\n",
            "max        8299.000000\n",
            "Name: text_length, dtype: float64\n"
          ]
        }
      ],
      "source": [
        "print(\"\\nText Length Stats:\\n\", df['text_length'].describe())"
      ]
    },
    {
      "cell_type": "code",
      "execution_count": 27,
      "metadata": {
        "colab": {
          "base_uri": "https://localhost:8080/",
          "height": 472
        },
        "id": "73_bDg3-pE0E",
        "outputId": "fb9e739d-8d2a-42cc-a0f5-fbe1d437d170"
      },
      "outputs": [
        {
          "data": {
            "image/png": "[encoded data removed]",
            "text/plain": [
              "<Figure size 640x480 with 1 Axes>"
            ]
          },
          "metadata": {},
          "output_type": "display_data"
        }
      ],
      "source": [
        "sns.histplot(df['text_length'], bins=50, kde=True)\n",
        "plt.title(\"Distribution of Text Lengths\")\n",
        "plt.xlabel(\"Number of Characters\")\n",
        "plt.ylabel(\"Frequency\")\n",
        "plt.show()"
      ]
    }
  ],
  "metadata": {
    "colab": {
      "provenance": []
    },
    "kernelspec": {
      "display_name": "Python 3",
      "name": "python3"
    },
    "language_info": {
      "codemirror_mode": {
        "name": "ipython",
        "version": 3
      },
      "file_extension": ".py",
      "mimetype": "text/x-python",
      "name": "python",
      "nbconvert_exporter": "python",
      "pygments_lexer": "ipython3",
      "version": "3.13.1"
    }
  },
  "nbformat": 4,
  "nbformat_minor": 0
}
