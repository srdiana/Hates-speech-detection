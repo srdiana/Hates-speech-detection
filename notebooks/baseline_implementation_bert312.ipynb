{
 "cells": [
  {
   "cell_type": "code",
   "execution_count": 4,
   "metadata": {
    "_cell_guid": "b1076dfc-b9ad-4769-8c92-a6c4dae69d19",
    "_uuid": "8f2839f25d086af736a60e9eeb907d3b93b6e0e5",
    "execution": {
     "iopub.execute_input": "2025-04-23T05:39:53.755042Z",
     "iopub.status.busy": "2025-04-23T05:39:53.754737Z",
     "iopub.status.idle": "2025-04-23T05:39:53.760480Z",
     "shell.execute_reply": "2025-04-23T05:39:53.759428Z",
     "shell.execute_reply.started": "2025-04-23T05:39:53.755020Z"
    },
    "trusted": true
   },
   "outputs": [],
   "source": [
    "import pandas as pd\n",
    "import numpy as np\n",
    "from sklearn.model_selection import train_test_split\n",
    "from sklearn.preprocessing import LabelEncoder\n",
    "from sklearn.linear_model import LogisticRegression\n",
    "from sklearn.tree import DecisionTreeClassifier\n",
    "from sklearn.metrics import classification_report\n",
    "import json"
   ]
  },
  {
   "cell_type": "code",
   "execution_count": 5,
   "metadata": {
    "execution": {
     "iopub.execute_input": "2025-04-23T05:39:56.545384Z",
     "iopub.status.busy": "2025-04-23T05:39:56.544963Z",
     "iopub.status.idle": "2025-04-23T05:40:27.709433Z",
     "shell.execute_reply": "2025-04-23T05:40:27.708444Z",
     "shell.execute_reply.started": "2025-04-23T05:39:56.545349Z"
    },
    "trusted": true
   },
   "outputs": [],
   "source": [
    "def load_data(file_path):\n",
    "    with open(file_path, 'r') as f:\n",
    "        data = json.load(f)  \n",
    "    return pd.DataFrame(data)\n",
    "\n",
    "df = load_data('/kaggle/input/fast-russian-embeddings/fast_russian_embeddings.json')"
   ]
  },
  {
   "cell_type": "code",
   "execution_count": 3,
   "metadata": {
    "execution": {
     "iopub.execute_input": "2025-04-22T17:07:03.284039Z",
     "iopub.status.busy": "2025-04-22T17:07:03.283683Z",
     "iopub.status.idle": "2025-04-22T17:07:03.316900Z",
     "shell.execute_reply": "2025-04-22T17:07:03.316035Z",
     "shell.execute_reply.started": "2025-04-22T17:07:03.284017Z"
    },
    "trusted": true
   },
   "outputs": [
    {
     "data": {
      "text/html": [
       "<div>\n",
       "<style scoped>\n",
       "    .dataframe tbody tr th:only-of-type {\n",
       "        vertical-align: middle;\n",
       "    }\n",
       "\n",
       "    .dataframe tbody tr th {\n",
       "        vertical-align: top;\n",
       "    }\n",
       "\n",
       "    .dataframe thead th {\n",
       "        text-align: right;\n",
       "    }\n",
       "</style>\n",
       "<table border=\"1\" class=\"dataframe\">\n",
       "  <thead>\n",
       "    <tr style=\"text-align: right;\">\n",
       "      <th></th>\n",
       "      <th>filename</th>\n",
       "      <th>label</th>\n",
       "      <th>embedding</th>\n",
       "    </tr>\n",
       "  </thead>\n",
       "  <tbody>\n",
       "    <tr>\n",
       "      <th>0</th>\n",
       "      <td>252099-79.txt</td>\n",
       "      <td>0</td>\n",
       "      <td>[-0.012139108963310719, 0.02229919657111168, 0...</td>\n",
       "    </tr>\n",
       "    <tr>\n",
       "      <th>1</th>\n",
       "      <td>842673-37.txt</td>\n",
       "      <td>0</td>\n",
       "      <td>[-0.027081843465566635, 0.023928195238113403, ...</td>\n",
       "    </tr>\n",
       "    <tr>\n",
       "      <th>2</th>\n",
       "      <td>843784-82.txt</td>\n",
       "      <td>0</td>\n",
       "      <td>[0.01613425277173519, 0.025259848684072495, -0...</td>\n",
       "    </tr>\n",
       "    <tr>\n",
       "      <th>3</th>\n",
       "      <td>521607-8.txt</td>\n",
       "      <td>0</td>\n",
       "      <td>[-0.03023727424442768, -0.0032445243559777737,...</td>\n",
       "    </tr>\n",
       "    <tr>\n",
       "      <th>4</th>\n",
       "      <td>406175-82.txt</td>\n",
       "      <td>0</td>\n",
       "      <td>[0.021884415298700333, 0.014899949543178082, 0...</td>\n",
       "    </tr>\n",
       "  </tbody>\n",
       "</table>\n",
       "</div>"
      ],
      "text/plain": [
       "        filename  label                                          embedding\n",
       "0  252099-79.txt      0  [-0.012139108963310719, 0.02229919657111168, 0...\n",
       "1  842673-37.txt      0  [-0.027081843465566635, 0.023928195238113403, ...\n",
       "2  843784-82.txt      0  [0.01613425277173519, 0.025259848684072495, -0...\n",
       "3   521607-8.txt      0  [-0.03023727424442768, -0.0032445243559777737,...\n",
       "4  406175-82.txt      0  [0.021884415298700333, 0.014899949543178082, 0..."
      ]
     },
     "execution_count": 3,
     "metadata": {},
     "output_type": "execute_result"
    }
   ],
   "source": [
    "df.head()"
   ]
  },
  {
   "cell_type": "code",
   "execution_count": 6,
   "metadata": {
    "execution": {
     "iopub.execute_input": "2025-04-23T05:40:49.505613Z",
     "iopub.status.busy": "2025-04-23T05:40:49.505242Z",
     "iopub.status.idle": "2025-04-23T05:40:52.390619Z",
     "shell.execute_reply": "2025-04-23T05:40:52.389601Z",
     "shell.execute_reply.started": "2025-04-23T05:40:49.505581Z"
    },
    "trusted": true
   },
   "outputs": [],
   "source": [
    "le = LabelEncoder()\n",
    "df['label_encoded'] = le.fit_transform(df['label'])\n",
    "X = np.array(df['embedding'].tolist())\n",
    "y = df['label_encoded'].values"
   ]
  },
  {
   "cell_type": "code",
   "execution_count": 7,
   "metadata": {
    "execution": {
     "iopub.execute_input": "2025-04-23T05:40:52.392548Z",
     "iopub.status.busy": "2025-04-23T05:40:52.392197Z",
     "iopub.status.idle": "2025-04-23T05:40:52.581937Z",
     "shell.execute_reply": "2025-04-23T05:40:52.580762Z",
     "shell.execute_reply.started": "2025-04-23T05:40:52.392522Z"
    },
    "trusted": true
   },
   "outputs": [],
   "source": [
    "X_train, X_temp, y_train, y_temp = train_test_split(X, y, test_size=0.3, random_state=42)\n",
    "X_val, X_test, y_val, y_test = train_test_split(X_temp, y_temp, test_size=0.5, random_state=42)"
   ]
  },
  {
   "cell_type": "code",
   "execution_count": 6,
   "metadata": {
    "execution": {
     "iopub.execute_input": "2025-04-22T17:07:38.696415Z",
     "iopub.status.busy": "2025-04-22T17:07:38.696063Z",
     "iopub.status.idle": "2025-04-22T17:08:28.632759Z",
     "shell.execute_reply": "2025-04-22T17:08:28.631814Z",
     "shell.execute_reply.started": "2025-04-22T17:07:38.696387Z"
    },
    "trusted": true
   },
   "outputs": [
    {
     "name": "stdout",
     "output_type": "stream",
     "text": [
      "Logistic Regression Test Results:\n",
      "              precision    recall  f1-score   support\n",
      "\n",
      "           0       0.62      0.55      0.58      2921\n",
      "           1       0.45      0.15      0.22      3780\n",
      "           2       0.77      0.94      0.85     13050\n",
      "\n",
      "    accuracy                           0.73     19751\n",
      "   macro avg       0.62      0.55      0.55     19751\n",
      "weighted avg       0.69      0.73      0.69     19751\n",
      "\n"
     ]
    }
   ],
   "source": [
    "lr = LogisticRegression(max_iter=1000)\n",
    "lr.fit(X_train, y_train)\n",
    "print(\"Logistic Regression Test Results:\")\n",
    "print(classification_report(y_test, lr.predict(X_test)))"
   ]
  },
  {
   "cell_type": "code",
   "execution_count": 7,
   "metadata": {
    "execution": {
     "iopub.execute_input": "2025-04-22T17:09:22.977592Z",
     "iopub.status.busy": "2025-04-22T17:09:22.977216Z",
     "iopub.status.idle": "2025-04-22T17:10:14.034303Z",
     "shell.execute_reply": "2025-04-22T17:10:14.033250Z",
     "shell.execute_reply.started": "2025-04-22T17:09:22.977563Z"
    },
    "trusted": true
   },
   "outputs": [
    {
     "name": "stdout",
     "output_type": "stream",
     "text": [
      "Balanced Logistic Regression Test Results:\n",
      "              precision    recall  f1-score   support\n",
      "\n",
      "           0       0.50      0.72      0.59      2921\n",
      "           1       0.35      0.49      0.41      3780\n",
      "           2       0.89      0.70      0.78     13050\n",
      "\n",
      "    accuracy                           0.66     19751\n",
      "   macro avg       0.58      0.64      0.59     19751\n",
      "weighted avg       0.73      0.66      0.68     19751\n",
      "\n"
     ]
    }
   ],
   "source": [
    "lr_balanced = LogisticRegression(max_iter=1000, class_weight='balanced')\n",
    "lr_balanced.fit(X_train, y_train)\n",
    "print(\"Balanced Logistic Regression Test Results:\")\n",
    "print(classification_report(y_test, lr_balanced.predict(X_test)))"
   ]
  },
  {
   "cell_type": "code",
   "execution_count": 8,
   "metadata": {
    "execution": {
     "iopub.execute_input": "2025-04-22T17:13:20.963683Z",
     "iopub.status.busy": "2025-04-22T17:13:20.963016Z",
     "iopub.status.idle": "2025-04-22T17:14:57.399488Z",
     "shell.execute_reply": "2025-04-22T17:14:57.398792Z",
     "shell.execute_reply.started": "2025-04-22T17:13:20.963646Z"
    },
    "trusted": true
   },
   "outputs": [
    {
     "name": "stdout",
     "output_type": "stream",
     "text": [
      "Decision Tree Test Results:\n",
      "              precision    recall  f1-score   support\n",
      "\n",
      "           0       0.30      0.31      0.31      2921\n",
      "           1       0.23      0.24      0.24      3780\n",
      "           2       0.73      0.72      0.73     13050\n",
      "\n",
      "    accuracy                           0.57     19751\n",
      "   macro avg       0.42      0.43      0.42     19751\n",
      "weighted avg       0.57      0.57      0.57     19751\n",
      "\n"
     ]
    }
   ],
   "source": [
    "dt = DecisionTreeClassifier(random_state=42)\n",
    "dt.fit(X_train, y_train)\n",
    "print(\"Decision Tree Test Results:\")\n",
    "print(classification_report(y_test, dt.predict(X_test)))"
   ]
  },
  {
   "cell_type": "code",
   "execution_count": 9,
   "metadata": {
    "execution": {
     "iopub.execute_input": "2025-04-22T17:17:24.807357Z",
     "iopub.status.busy": "2025-04-22T17:17:24.807072Z",
     "iopub.status.idle": "2025-04-22T17:18:43.163924Z",
     "shell.execute_reply": "2025-04-22T17:18:43.163161Z",
     "shell.execute_reply.started": "2025-04-22T17:17:24.807337Z"
    },
    "trusted": true
   },
   "outputs": [
    {
     "name": "stdout",
     "output_type": "stream",
     "text": [
      "Balanced Decision Tree Test Results:\n",
      "              precision    recall  f1-score   support\n",
      "\n",
      "           0       0.30      0.31      0.30      2921\n",
      "           1       0.24      0.24      0.24      3780\n",
      "           2       0.73      0.72      0.73     13050\n",
      "\n",
      "    accuracy                           0.57     19751\n",
      "   macro avg       0.42      0.42      0.42     19751\n",
      "weighted avg       0.57      0.57      0.57     19751\n",
      "\n"
     ]
    }
   ],
   "source": [
    "dt_balanced = DecisionTreeClassifier(random_state=42, class_weight='balanced')\n",
    "dt_balanced.fit(X_train, y_train)\n",
    "print(\"Balanced Decision Tree Test Results:\")\n",
    "print(classification_report(y_test, dt_balanced.predict(X_test)))"
   ]
  },
  {
   "cell_type": "code",
   "execution_count": 8,
   "metadata": {
    "execution": {
     "iopub.execute_input": "2025-04-23T05:40:59.898952Z",
     "iopub.status.busy": "2025-04-23T05:40:59.897930Z",
     "iopub.status.idle": "2025-04-23T05:41:02.559262Z",
     "shell.execute_reply": "2025-04-23T05:41:02.558109Z",
     "shell.execute_reply.started": "2025-04-23T05:40:59.898918Z"
    },
    "trusted": true
   },
   "outputs": [],
   "source": [
    "# Modify the code where X is defined\n",
    "X = np.array(df['embedding'].tolist(), dtype=np.float32)  # Add dtype=np.float32\n",
    "y = df['label_encoded'].values"
   ]
  },
  {
   "cell_type": "code",
   "execution_count": 9,
   "metadata": {
    "execution": {
     "iopub.execute_input": "2025-04-23T05:41:05.497508Z",
     "iopub.status.busy": "2025-04-23T05:41:05.497184Z",
     "iopub.status.idle": "2025-04-23T05:41:05.613413Z",
     "shell.execute_reply": "2025-04-23T05:41:05.612325Z",
     "shell.execute_reply.started": "2025-04-23T05:41:05.497484Z"
    },
    "trusted": true
   },
   "outputs": [],
   "source": [
    "X_train, X_temp, y_train, y_temp = train_test_split(X, y, test_size=0.3, random_state=42)\n",
    "X_val, X_test, y_val, y_test = train_test_split(X_temp, y_temp, test_size=0.5, random_state=42)"
   ]
  },
  {
   "cell_type": "code",
   "execution_count": 10,
   "metadata": {
    "execution": {
     "iopub.execute_input": "2025-04-23T05:41:08.923965Z",
     "iopub.status.busy": "2025-04-23T05:41:08.923614Z",
     "iopub.status.idle": "2025-04-23T05:41:14.566768Z",
     "shell.execute_reply": "2025-04-23T05:41:14.565510Z",
     "shell.execute_reply.started": "2025-04-23T05:41:08.923927Z"
    },
    "trusted": true
   },
   "outputs": [],
   "source": [
    "import torch\n",
    "from torch import nn, optim\n",
    "from torch.utils.data import DataLoader, TensorDataset\n",
    "\n",
    "train_dataset = TensorDataset(torch.tensor(X_train), torch.tensor(y_train))\n",
    "val_dataset = TensorDataset(torch.tensor(X_val), torch.tensor(y_val))\n",
    "test_dataset = TensorDataset(torch.tensor(X_test), torch.tensor(y_test))"
   ]
  },
  {
   "cell_type": "code",
   "execution_count": 12,
   "metadata": {
    "execution": {
     "iopub.execute_input": "2025-04-22T17:19:21.726447Z",
     "iopub.status.busy": "2025-04-22T17:19:21.725616Z",
     "iopub.status.idle": "2025-04-22T17:19:21.731971Z",
     "shell.execute_reply": "2025-04-22T17:19:21.731184Z",
     "shell.execute_reply.started": "2025-04-22T17:19:21.726421Z"
    },
    "trusted": true
   },
   "outputs": [],
   "source": [
    "class NeuralNetwork(nn.Module):\n",
    "    def __init__(self, input_size, num_classes):\n",
    "        super().__init__()\n",
    "        self.layers = nn.Sequential(\n",
    "            nn.Linear(input_size, 64),\n",
    "            nn.ReLU(),\n",
    "            nn.Dropout(0.3),\n",
    "            nn.Linear(64, 32),\n",
    "            nn.ReLU(),\n",
    "            nn.Linear(32, num_classes)\n",
    "        )\n",
    "    \n",
    "    def forward(self, x):\n",
    "        return self.layers(x)"
   ]
  },
  {
   "cell_type": "code",
   "execution_count": 12,
   "metadata": {
    "execution": {
     "iopub.execute_input": "2025-04-23T05:41:28.087477Z",
     "iopub.status.busy": "2025-04-23T05:41:28.087165Z",
     "iopub.status.idle": "2025-04-23T05:41:28.092249Z",
     "shell.execute_reply": "2025-04-23T05:41:28.091033Z",
     "shell.execute_reply.started": "2025-04-23T05:41:28.087456Z"
    },
    "trusted": true
   },
   "outputs": [],
   "source": [
    "input_size = X_train.shape[1]\n",
    "num_classes = len(le.classes_)\n",
    "batch_size = 32\n",
    "epochs = 20\n",
    "learning_rate = 0.001\n",
    "model = NeuralNetwork(input_size, num_classes)\n",
    "criterion = nn.CrossEntropyLoss()\n",
    "optimizer = optim.Adam(model.parameters(), lr=learning_rate)"
   ]
  },
  {
   "cell_type": "code",
   "execution_count": 13,
   "metadata": {
    "execution": {
     "iopub.execute_input": "2025-04-23T05:41:42.417783Z",
     "iopub.status.busy": "2025-04-23T05:41:42.417360Z",
     "iopub.status.idle": "2025-04-23T05:41:42.423250Z",
     "shell.execute_reply": "2025-04-23T05:41:42.422053Z",
     "shell.execute_reply.started": "2025-04-23T05:41:42.417751Z"
    },
    "trusted": true
   },
   "outputs": [],
   "source": [
    "train_loader = DataLoader(train_dataset, batch_size=batch_size, shuffle=True)\n",
    "val_loader = DataLoader(val_dataset, batch_size=batch_size)\n",
    "test_loader = DataLoader(test_dataset, batch_size=batch_size)"
   ]
  },
  {
   "cell_type": "code",
   "execution_count": 21,
   "metadata": {
    "execution": {
     "iopub.execute_input": "2025-04-22T17:21:11.723829Z",
     "iopub.status.busy": "2025-04-22T17:21:11.723409Z",
     "iopub.status.idle": "2025-04-22T17:23:23.620159Z",
     "shell.execute_reply": "2025-04-22T17:23:23.619094Z",
     "shell.execute_reply.started": "2025-04-22T17:21:11.723798Z"
    },
    "trusted": true
   },
   "outputs": [
    {
     "name": "stdout",
     "output_type": "stream",
     "text": [
      "Epoch 1/20 | Val Accuracy: 0.7221\n",
      "Epoch 2/20 | Val Accuracy: 0.7310\n",
      "Epoch 3/20 | Val Accuracy: 0.7343\n",
      "Epoch 4/20 | Val Accuracy: 0.7363\n",
      "Epoch 5/20 | Val Accuracy: 0.7343\n",
      "Epoch 6/20 | Val Accuracy: 0.7311\n",
      "Epoch 7/20 | Val Accuracy: 0.7321\n",
      "Epoch 8/20 | Val Accuracy: 0.7379\n",
      "Epoch 9/20 | Val Accuracy: 0.7389\n",
      "Epoch 10/20 | Val Accuracy: 0.7422\n",
      "Epoch 11/20 | Val Accuracy: 0.7370\n",
      "Epoch 12/20 | Val Accuracy: 0.7387\n",
      "Epoch 13/20 | Val Accuracy: 0.7405\n",
      "Epoch 14/20 | Val Accuracy: 0.7406\n",
      "Epoch 15/20 | Val Accuracy: 0.7393\n",
      "Epoch 16/20 | Val Accuracy: 0.7415\n",
      "Epoch 17/20 | Val Accuracy: 0.7362\n",
      "Epoch 18/20 | Val Accuracy: 0.7355\n",
      "Epoch 19/20 | Val Accuracy: 0.7404\n",
      "Epoch 20/20 | Val Accuracy: 0.7376\n"
     ]
    }
   ],
   "source": [
    "for epoch in range(epochs):\n",
    "    model.train()\n",
    "    for inputs, labels in train_loader:\n",
    "        optimizer.zero_grad()\n",
    "        outputs = model(inputs)\n",
    "        loss = criterion(outputs, labels)\n",
    "        loss.backward()\n",
    "        optimizer.step()\n",
    "    \n",
    "    \n",
    "    model.eval()\n",
    "    val_loss = 0\n",
    "    correct = 0\n",
    "    with torch.no_grad():\n",
    "        for inputs, labels in val_loader:\n",
    "            outputs = model(inputs)\n",
    "            val_loss += criterion(outputs, labels).item()\n",
    "            preds = outputs.argmax(dim=1)\n",
    "            correct += (preds == labels).sum().item()\n",
    "    \n",
    "    val_acc = correct / len(val_dataset)\n",
    "    print(f\"Epoch {epoch+1}/{epochs} | Val Accuracy: {val_acc:.4f}\")"
   ]
  },
  {
   "cell_type": "code",
   "execution_count": 22,
   "metadata": {
    "execution": {
     "iopub.execute_input": "2025-04-22T17:25:35.667561Z",
     "iopub.status.busy": "2025-04-22T17:25:35.667208Z",
     "iopub.status.idle": "2025-04-22T17:25:36.065472Z",
     "shell.execute_reply": "2025-04-22T17:25:36.064493Z",
     "shell.execute_reply.started": "2025-04-22T17:25:35.667536Z"
    },
    "trusted": true
   },
   "outputs": [
    {
     "name": "stdout",
     "output_type": "stream",
     "text": [
      "\n",
      "Neural Network Test Results:\n",
      "              precision    recall  f1-score   support\n",
      "\n",
      "           0       0.65      0.55      0.60      2921\n",
      "           1       0.44      0.27      0.34      3780\n",
      "           2       0.80      0.92      0.86     13050\n",
      "\n",
      "    accuracy                           0.74     19751\n",
      "   macro avg       0.63      0.58      0.60     19751\n",
      "weighted avg       0.71      0.74      0.72     19751\n",
      "\n"
     ]
    }
   ],
   "source": [
    "model.eval()\n",
    "all_preds = []\n",
    "all_labels = []\n",
    "with torch.no_grad():\n",
    "    for inputs, labels in test_loader:\n",
    "        outputs = model(inputs)\n",
    "        preds = outputs.argmax(dim=1)\n",
    "        all_preds.extend(preds.numpy())\n",
    "        all_labels.extend(labels.numpy())\n",
    "\n",
    "print(\"\\nNeural Network Test Results:\")\n",
    "print(classification_report(all_labels, all_preds))"
   ]
  },
  {
   "cell_type": "code",
   "execution_count": 25,
   "metadata": {
    "execution": {
     "iopub.execute_input": "2025-04-22T18:08:31.869555Z",
     "iopub.status.busy": "2025-04-22T18:08:31.869256Z",
     "iopub.status.idle": "2025-04-22T18:10:43.054044Z",
     "shell.execute_reply": "2025-04-22T18:10:43.053005Z",
     "shell.execute_reply.started": "2025-04-22T18:08:31.869532Z"
    },
    "trusted": true
   },
   "outputs": [
    {
     "name": "stdout",
     "output_type": "stream",
     "text": [
      "Epoch 1/20 | Val Accuracy: 0.6595\n",
      "Epoch 2/20 | Val Accuracy: 0.6788\n",
      "Epoch 3/20 | Val Accuracy: 0.6892\n",
      "Epoch 4/20 | Val Accuracy: 0.6656\n",
      "Epoch 5/20 | Val Accuracy: 0.6452\n",
      "Epoch 6/20 | Val Accuracy: 0.6373\n",
      "Epoch 7/20 | Val Accuracy: 0.6382\n",
      "Epoch 8/20 | Val Accuracy: 0.6346\n",
      "Epoch 9/20 | Val Accuracy: 0.6363\n",
      "Epoch 10/20 | Val Accuracy: 0.6421\n",
      "Epoch 11/20 | Val Accuracy: 0.6382\n",
      "Epoch 12/20 | Val Accuracy: 0.6369\n",
      "Epoch 13/20 | Val Accuracy: 0.6393\n",
      "Epoch 14/20 | Val Accuracy: 0.6413\n",
      "Epoch 15/20 | Val Accuracy: 0.6428\n",
      "Epoch 16/20 | Val Accuracy: 0.6366\n",
      "Epoch 17/20 | Val Accuracy: 0.6408\n",
      "Epoch 18/20 | Val Accuracy: 0.6357\n",
      "Epoch 19/20 | Val Accuracy: 0.6409\n",
      "Epoch 20/20 | Val Accuracy: 0.6392\n"
     ]
    }
   ],
   "source": [
    "class_counts = np.bincount(y_train)\n",
    "class_weights = 1. / class_counts\n",
    "class_weights = torch.tensor(class_weights, dtype=torch.float32)\n",
    "criterion_b = nn.CrossEntropyLoss(weight=class_weights)\n",
    "model_balanced = NeuralNetwork(input_size, num_classes)\n",
    "optimizer = optim.Adam(model_balanced.parameters(), lr=0.00001)\n",
    "for epoch in range(epochs):\n",
    "    model_balanced.train()\n",
    "    for inputs, labels in train_loader:\n",
    "        optimizer.zero_grad()\n",
    "        outputs = model_balanced(inputs)\n",
    "        loss = criterion_b(outputs, labels)\n",
    "        loss.backward()\n",
    "        optimizer.step()\n",
    "    \n",
    "    \n",
    "    model_balanced.eval()\n",
    "    val_loss = 0\n",
    "    correct_balanced = 0\n",
    "    with torch.no_grad():\n",
    "        for inputs, labels in val_loader:\n",
    "            outputs = model_balanced(inputs)\n",
    "            val_loss += criterion_b(outputs, labels).item()\n",
    "            preds_balanced = outputs.argmax(dim=1)\n",
    "            correct_balanced += (preds_balanced == labels).sum().item()\n",
    "    \n",
    "    val_acc = correct_balanced / len(val_dataset)\n",
    "    print(f\"Epoch {epoch+1}/{epochs} | Val Accuracy: {val_acc:.4f}\")"
   ]
  },
  {
   "cell_type": "code",
   "execution_count": 27,
   "metadata": {
    "execution": {
     "iopub.execute_input": "2025-04-22T18:12:07.847707Z",
     "iopub.status.busy": "2025-04-22T18:12:07.847321Z",
     "iopub.status.idle": "2025-04-22T18:12:08.282220Z",
     "shell.execute_reply": "2025-04-22T18:12:08.281174Z",
     "shell.execute_reply.started": "2025-04-22T18:12:07.847680Z"
    },
    "trusted": true
   },
   "outputs": [
    {
     "name": "stdout",
     "output_type": "stream",
     "text": [
      "\n",
      "Neural Network Test Results:\n",
      "              precision    recall  f1-score   support\n",
      "\n",
      "           0       0.44      0.72      0.55      2921\n",
      "           1       0.28      0.32      0.30      3780\n",
      "           2       0.87      0.71      0.78     13050\n",
      "\n",
      "    accuracy                           0.64     19751\n",
      "   macro avg       0.53      0.58      0.54     19751\n",
      "weighted avg       0.69      0.64      0.65     19751\n",
      "\n"
     ]
    }
   ],
   "source": [
    "model_balanced.eval()\n",
    "all_preds_balanced = []\n",
    "all_labels = []\n",
    "with torch.no_grad():\n",
    "    for inputs, labels in test_loader:\n",
    "        outputs = model_balanced(inputs)\n",
    "        preds_balanced = outputs.argmax(dim=1)\n",
    "        all_preds_balanced.extend(preds_balanced.numpy())\n",
    "        all_labels.extend(labels.numpy())\n",
    "\n",
    "print(\"\\nNeural Network Test Results:\")\n",
    "print(classification_report(all_labels, all_preds_balanced))"
   ]
  },
  {
   "cell_type": "code",
   "execution_count": null,
   "metadata": {
    "execution": {
     "iopub.execute_input": "2025-04-22T18:31:29.725017Z",
     "iopub.status.busy": "2025-04-22T18:31:29.724029Z",
     "iopub.status.idle": "2025-04-22T18:31:29.735973Z",
     "shell.execute_reply": "2025-04-22T18:31:29.734844Z",
     "shell.execute_reply.started": "2025-04-22T18:31:29.724976Z"
    },
    "trusted": true
   },
   "outputs": [],
   "source": [
    "class LSTMModel(nn.Module):\n",
    "    def __init__(self, input_size, hidden_size, num_layers, output_size):\n",
    "        super().__init__()\n",
    "        self.hidden_size = hiadden_size\n",
    "        self.num_layers = num_layers\n",
    "        self.lstm = nn.LSTM(input_size, hidden_size, num_layers, batch_first=True)\n",
    "        self.fc = nn.Linear(hidden_size, output_size)\n",
    "\n",
    "    def forward(self, x):\n",
    "        x = x.unsqueeze(1) \n",
    "        out, _ = self.lstm(x)\n",
    "        out = out[:, -1, :] \n",
    "        out = self.fc(out)\n",
    "        return out\n",
    "\n",
    "input_size = X_train.shape[1]\n",
    "num_classes = len(le.classes_)\n",
    "device = torch.device('cuda' if torch.cuda.is_available() else 'cpu')\n",
    "\n",
    "model = LSTMModel(input_size=input_size, \n",
    "                 hidden_size=64, \n",
    "                 num_layers=1,  \n",
    "                 output_size=num_classes).to(device)\n",
    "criterion = nn.CrossEntropyLoss()\n",
    "optimizer = torch.optim.Adam(model.parameters(), lr=0.001)\n"
   ]
  },
  {
   "cell_type": "code",
   "execution_count": null,
   "metadata": {
    "execution": {
     "iopub.execute_input": "2025-04-22T18:33:40.781624Z",
     "iopub.status.busy": "2025-04-22T18:33:40.781245Z",
     "iopub.status.idle": "2025-04-22T18:35:38.180912Z",
     "shell.execute_reply": "2025-04-22T18:35:38.180025Z",
     "shell.execute_reply.started": "2025-04-22T18:33:40.781596Z"
    },
    "trusted": true
   },
   "outputs": [
    {
     "name": "stdout",
     "output_type": "stream",
     "text": [
      "Epoch 1/10 | Val Accuracy: 0.7402\n",
      "Epoch 2/10 | Val Accuracy: 0.7403\n",
      "Epoch 3/10 | Val Accuracy: 0.7411\n",
      "Epoch 4/10 | Val Accuracy: 0.7378\n",
      "Epoch 5/10 | Val Accuracy: 0.7423\n",
      "Epoch 6/10 | Val Accuracy: 0.7395\n",
      "Epoch 7/10 | Val Accuracy: 0.7370\n",
      "Epoch 8/10 | Val Accuracy: 0.7418\n",
      "Epoch 9/10 | Val Accuracy: 0.7424\n",
      "Epoch 10/10 | Val Accuracy: 0.7433\n"
     ]
    }
   ],
   "source": [
    "epochs = 10\n",
    "for epoch in range(epochs):\n",
    "    model.train()\n",
    "    for inputs, labels in train_loader:\n",
    "        inputs, labels = inputs.to(device), labels.to(device)\n",
    "        \n",
    "        optimizer.zero_grad()\n",
    "        outputs = model(inputs)\n",
    "        loss = criterion(outputs, labels)\n",
    "        loss.backward()\n",
    "        optimizer.step()\n",
    "\n",
    "    model.eval()\n",
    "    correct = 0\n",
    "    with torch.no_grad():\n",
    "        for inputs, labels in val_loader:\n",
    "            inputs, labels = inputs.to(device), labels.to(device)\n",
    "            outputs = model(inputs)\n",
    "            _, predicted = torch.max(outputs.data, 1)\n",
    "            correct += (predicted == labels).sum().item()\n",
    "    \n",
    "    val_acc = correct / len(val_dataset)\n",
    "    print(f\"Epoch {epoch+1}/{epochs} | Val Accuracy: {val_acc:.4f}\")"
   ]
  },
  {
   "cell_type": "code",
   "execution_count": null,
   "metadata": {
    "execution": {
     "iopub.execute_input": "2025-04-22T18:39:45.927447Z",
     "iopub.status.busy": "2025-04-22T18:39:45.927104Z",
     "iopub.status.idle": "2025-04-22T18:39:46.607647Z",
     "shell.execute_reply": "2025-04-22T18:39:46.606676Z",
     "shell.execute_reply.started": "2025-04-22T18:39:45.927421Z"
    },
    "trusted": true
   },
   "outputs": [
    {
     "name": "stdout",
     "output_type": "stream",
     "text": [
      "\n",
      "Neural Network Test Results:\n",
      "              precision    recall  f1-score   support\n",
      "\n",
      "           0       0.63      0.59      0.61      2921\n",
      "           1       0.47      0.22      0.30      3780\n",
      "           2       0.80      0.93      0.86     13050\n",
      "\n",
      "    accuracy                           0.74     19751\n",
      "   macro avg       0.63      0.58      0.59     19751\n",
      "weighted avg       0.71      0.74      0.72     19751\n",
      "\n"
     ]
    }
   ],
   "source": [
    "model.eval()\n",
    "all_preds = []\n",
    "all_labels = []\n",
    "with torch.no_grad():\n",
    "    for inputs, labels in test_loader:\n",
    "        outputs = model(inputs)\n",
    "        preds = outputs.argmax(dim=1)\n",
    "        all_preds.extend(preds.numpy())\n",
    "        all_labels.extend(labels.numpy())\n",
    "\n",
    "print(\"\\nNeural Network Test Results:\")\n",
    "print(classification_report(all_labels, all_preds))"
   ]
  },
  {
   "cell_type": "code",
   "execution_count": null,
   "metadata": {
    "execution": {
     "iopub.execute_input": "2025-04-23T05:51:04.552046Z",
     "iopub.status.busy": "2025-04-23T05:51:04.551690Z",
     "iopub.status.idle": "2025-04-23T05:51:04.586612Z",
     "shell.execute_reply": "2025-04-23T05:51:04.585606Z",
     "shell.execute_reply.started": "2025-04-23T05:51:04.552007Z"
    },
    "trusted": true
   },
   "outputs": [],
   "source": [
    "import torch\n",
    "import torch.nn as nn\n",
    "\n",
    "class EnhancedLSTM(nn.Module):\n",
    "    def __init__(self, input_size, hidden_size, num_layers, output_size, dropout_prob=0.3):\n",
    "        super().__init__()\n",
    "        \n",
    "        self.hidden_size = hidden_size // 2 * 2 if hidden_size % 2 != 0 else hidden_size\n",
    "        \n",
    "        self.num_layers = num_layers\n",
    "        \n",
    "       \n",
    "        self.lstm = nn.LSTM(\n",
    "            input_size,\n",
    "            self.hidden_size // 2,  # Split for bidirectional\n",
    "            num_layers,\n",
    "            batch_first=True,\n",
    "            bidirectional=True,\n",
    "            dropout=dropout_prob if num_layers > 1 else 0\n",
    "        )\n",
    "        \n",
    "        self.attention = nn.Sequential(\n",
    "            nn.Linear(self.hidden_size, self.hidden_size),  # Fixed input dimension\n",
    "            nn.Tanh(),\n",
    "            nn.Linear(self.hidden_size, 1, bias=False)\n",
    "        )\n",
    "        \n",
    "        self.batch_norm = nn.BatchNorm1d(self.hidden_size)\n",
    "        self.fc_layers = nn.Sequential(\n",
    "            nn.Linear(self.hidden_size, self.hidden_size),  # Fixed input dimension\n",
    "            nn.ReLU(),\n",
    "            nn.Dropout(dropout_prob),\n",
    "            nn.Linear(self.hidden_size, output_size)\n",
    "        )\n",
    "        \n",
    "        self.init_weights()\n",
    "\n",
    "    def init_weights(self):\n",
    "        for name, param in self.lstm.named_parameters():\n",
    "            if 'weight_ih' in name:\n",
    "                nn.init.xavier_normal_(param.data)\n",
    "            elif 'weight_hh' in name:\n",
    "                nn.init.orthogonal_(param.data)\n",
    "            elif 'bias' in name:\n",
    "                param.data.fill_(0)\n",
    "\n",
    "    def forward(self, x):\n",
    "\n",
    "        x = x.unsqueeze(1)\n",
    "    \n",
    "        lstm_out, _ = self.lstm(x)\n",
    "        \n",
    "        # Attention mechanism\n",
    "        attention_weights = torch.softmax(self.attention(lstm_out), dim=1)\n",
    "        context_vector = torch.sum(attention_weights * lstm_out, dim=1)\n",
    "        \n",
    "        # Batch normalization\n",
    "        context_vector = self.batch_norm(context_vector)\n",
    "        \n",
    "        # Final classification\n",
    "        out = self.fc_layers(context_vector)\n",
    "        return out"
   ]
  },
  {
   "cell_type": "code",
   "execution_count": null,
   "metadata": {
    "execution": {
     "iopub.execute_input": "2025-04-23T05:56:07.968798Z",
     "iopub.status.busy": "2025-04-23T05:56:07.968406Z",
     "iopub.status.idle": "2025-04-23T05:56:07.991309Z",
     "shell.execute_reply": "2025-04-23T05:56:07.989842Z",
     "shell.execute_reply.started": "2025-04-23T05:56:07.968754Z"
    },
    "trusted": true
   },
   "outputs": [],
   "source": [
    "input_dim = X_train.shape[1]\n",
    "\n",
    "model_config = {\n",
    "    'input_size': input_dim,\n",
    "    'hidden_size': 128,  \n",
    "    'num_layers': 2,\n",
    "    'output_size': len(le.classes_),\n",
    "    'dropout_prob': 0.4\n",
    "}\n",
    "\n",
    "\n",
    "model = EnhancedLSTM(**model_config).to(device)\n",
    "training_config = {\n",
    "    'learning_rate': 0.001,\n",
    "    'weight_decay': 1e-4,\n",
    "    'clip_value': 0.5\n",
    "}\n",
    "\n",
    "# Initialize optimizer\n",
    "optimizer = torch.optim.AdamW(\n",
    "    model.parameters(),\n",
    "    lr=training_config['learning_rate'],\n",
    "    weight_decay=training_config['weight_decay']\n",
    ")"
   ]
  },
  {
   "cell_type": "code",
   "execution_count": 18,
   "metadata": {
    "execution": {
     "iopub.execute_input": "2025-04-23T05:47:03.841451Z",
     "iopub.status.busy": "2025-04-23T05:47:03.841144Z",
     "iopub.status.idle": "2025-04-23T05:47:03.858694Z",
     "shell.execute_reply": "2025-04-23T05:47:03.857337Z",
     "shell.execute_reply.started": "2025-04-23T05:47:03.841432Z"
    },
    "trusted": true
   },
   "outputs": [
    {
     "ename": "NameError",
     "evalue": "name 'compute_class_weight' is not defined",
     "output_type": "error",
     "traceback": [
      "\u001b[0;31m---------------------------------------------------------------------------\u001b[0m",
      "\u001b[0;31mNameError\u001b[0m                                 Traceback (most recent call last)",
      "\u001b[0;32m/tmp/ipykernel_31/2019134938.py\u001b[0m in \u001b[0;36m<cell line: 0>\u001b[0;34m()\u001b[0m\n\u001b[0;32m----> 1\u001b[0;31m \u001b[0mclass_weights\u001b[0m \u001b[0;34m=\u001b[0m \u001b[0mcompute_class_weight\u001b[0m\u001b[0;34m(\u001b[0m\u001b[0;34m'balanced'\u001b[0m\u001b[0;34m,\u001b[0m \u001b[0mclasses\u001b[0m\u001b[0;34m=\u001b[0m\u001b[0mnp\u001b[0m\u001b[0;34m.\u001b[0m\u001b[0munique\u001b[0m\u001b[0;34m(\u001b[0m\u001b[0my_train\u001b[0m\u001b[0;34m)\u001b[0m\u001b[0;34m,\u001b[0m \u001b[0my\u001b[0m\u001b[0;34m=\u001b[0m\u001b[0my_train\u001b[0m\u001b[0;34m)\u001b[0m\u001b[0;34m\u001b[0m\u001b[0;34m\u001b[0m\u001b[0m\n\u001b[0m\u001b[1;32m      2\u001b[0m \u001b[0mcriterion\u001b[0m \u001b[0;34m=\u001b[0m \u001b[0mnn\u001b[0m\u001b[0;34m.\u001b[0m\u001b[0mCrossEntropyLoss\u001b[0m\u001b[0;34m(\u001b[0m\u001b[0mweight\u001b[0m\u001b[0;34m=\u001b[0m\u001b[0mtorch\u001b[0m\u001b[0;34m.\u001b[0m\u001b[0mtensor\u001b[0m\u001b[0;34m(\u001b[0m\u001b[0mclass_weights\u001b[0m\u001b[0;34m,\u001b[0m \u001b[0mdtype\u001b[0m\u001b[0;34m=\u001b[0m\u001b[0mtorch\u001b[0m\u001b[0;34m.\u001b[0m\u001b[0mfloat32\u001b[0m\u001b[0;34m)\u001b[0m\u001b[0;34m.\u001b[0m\u001b[0mto\u001b[0m\u001b[0;34m(\u001b[0m\u001b[0mdevice\u001b[0m\u001b[0;34m)\u001b[0m\u001b[0;34m)\u001b[0m\u001b[0;34m\u001b[0m\u001b[0;34m\u001b[0m\u001b[0m\n",
      "\u001b[0;31mNameError\u001b[0m: name 'compute_class_weight' is not defined"
     ]
    }
   ],
   "source": [
    "class_weights = compute_class_weight('balanced', classes=np.unique(y_train), y=y_train)\n",
    "criterion = nn.CrossEntropyLoss(weight=torch.tensor(class_weights, dtype=torch.float32).to(device))"
   ]
  },
  {
   "cell_type": "code",
   "execution_count": null,
   "metadata": {
    "execution": {
     "iopub.execute_input": "2025-04-23T06:09:07.699728Z",
     "iopub.status.busy": "2025-04-23T06:09:07.699426Z",
     "iopub.status.idle": "2025-04-23T06:12:30.392513Z",
     "shell.execute_reply": "2025-04-23T06:12:30.391489Z",
     "shell.execute_reply.started": "2025-04-23T06:09:07.699709Z"
    },
    "trusted": true
   },
   "outputs": [
    {
     "name": "stdout",
     "output_type": "stream",
     "text": [
      "Epoch 1/20 | Time: 16.74s\n",
      "Train Loss: 0.6925 | Val Loss: 0.6616\n",
      "Val Accuracy: 0.7201\n",
      "              precision    recall  f1-score   support\n",
      "\n",
      "           0     0.5074    0.7128    0.5928      3012\n",
      "           1     0.4466    0.1048    0.1697      3713\n",
      "           2     0.7978    0.8972    0.8446     13025\n",
      "\n",
      "    accuracy                         0.7201     19750\n",
      "   macro avg     0.5839    0.5716    0.5357     19750\n",
      "weighted avg     0.6875    0.7201    0.6793     19750\n",
      "\n",
      "------------------------------------------------------------\n",
      "Epoch 2/20 | Time: 16.77s\n",
      "Train Loss: 0.6511 | Val Loss: 0.6432\n",
      "Val Accuracy: 0.7289\n",
      "              precision    recall  f1-score   support\n",
      "\n",
      "           0     0.6461    0.5169    0.5743      3012\n",
      "           1     0.4696    0.0978    0.1618      3713\n",
      "           2     0.7531    0.9579    0.8432     13025\n",
      "\n",
      "    accuracy                         0.7289     19750\n",
      "   macro avg     0.6229    0.5242    0.5265     19750\n",
      "weighted avg     0.6835    0.7289    0.6741     19750\n",
      "\n",
      "------------------------------------------------------------\n",
      "Epoch 3/20 | Time: 16.40s\n",
      "Train Loss: 0.6420 | Val Loss: 0.6717\n",
      "Val Accuracy: 0.7144\n",
      "              precision    recall  f1-score   support\n",
      "\n",
      "           0     0.7841    0.2978    0.4317      3012\n",
      "           1     0.3847    0.1689    0.2347      3713\n",
      "           2     0.7413    0.9662    0.8390     13025\n",
      "\n",
      "    accuracy                         0.7144     19750\n",
      "   macro avg     0.6367    0.4776    0.5018     19750\n",
      "weighted avg     0.6808    0.7144    0.6633     19750\n",
      "\n",
      "------------------------------------------------------------\n",
      "Epoch 4/20 | Time: 16.78s\n",
      "Train Loss: 0.6369 | Val Loss: 0.6454\n",
      "Val Accuracy: 0.7275\n",
      "              precision    recall  f1-score   support\n",
      "\n",
      "           0     0.7025    0.4452    0.5450      3012\n",
      "           1     0.4432    0.1145    0.1819      3713\n",
      "           2     0.7465    0.9675    0.8427     13025\n",
      "\n",
      "    accuracy                         0.7275     19750\n",
      "   macro avg     0.6307    0.5091    0.5232     19750\n",
      "weighted avg     0.6827    0.7275    0.6731     19750\n",
      "\n",
      "------------------------------------------------------------\n",
      "Epoch 5/20 | Time: 16.37s\n",
      "Train Loss: 0.6316 | Val Loss: 0.6358\n",
      "Val Accuracy: 0.7324\n",
      "              precision    recall  f1-score   support\n",
      "\n",
      "           0     0.6975    0.4761    0.5659      3012\n",
      "           1     0.4548    0.1597    0.2364      3713\n",
      "           2     0.7588    0.9549    0.8456     13025\n",
      "\n",
      "    accuracy                         0.7324     19750\n",
      "   macro avg     0.6370    0.5302    0.5493     19750\n",
      "weighted avg     0.6923    0.7324    0.6884     19750\n",
      "\n",
      "------------------------------------------------------------\n",
      "Epoch 6/20 | Time: 17.21s\n",
      "Train Loss: 0.6284 | Val Loss: 0.6259\n",
      "Val Accuracy: 0.7364\n",
      "              precision    recall  f1-score   support\n",
      "\n",
      "           0     0.5820    0.6726    0.6241      3012\n",
      "           1     0.4543    0.1511    0.2268      3713\n",
      "           2     0.7953    0.9179    0.8522     13025\n",
      "\n",
      "    accuracy                         0.7364     19750\n",
      "   macro avg     0.6105    0.5806    0.5677     19750\n",
      "weighted avg     0.6986    0.7364    0.6998     19750\n",
      "\n",
      "------------------------------------------------------------\n",
      "Epoch 7/20 | Time: 16.97s\n",
      "Train Loss: 0.6247 | Val Loss: 0.6306\n",
      "Val Accuracy: 0.7305\n",
      "              precision    recall  f1-score   support\n",
      "\n",
      "           0     0.7346    0.4163    0.5315      3012\n",
      "           1     0.4168    0.2241    0.2915      3713\n",
      "           2     0.7691    0.9476    0.8491     13025\n",
      "\n",
      "    accuracy                         0.7305     19750\n",
      "   macro avg     0.6402    0.5293    0.5573     19750\n",
      "weighted avg     0.6976    0.7305    0.6958     19750\n",
      "\n",
      "------------------------------------------------------------\n",
      "Epoch 8/20 | Time: 16.88s\n",
      "Train Loss: 0.6219 | Val Loss: 0.6243\n",
      "Val Accuracy: 0.7355\n",
      "              precision    recall  f1-score   support\n",
      "\n",
      "           0     0.6174    0.5900    0.6034      3012\n",
      "           1     0.4925    0.0883    0.1498      3713\n",
      "           2     0.7664    0.9536    0.8499     13025\n",
      "\n",
      "    accuracy                         0.7355     19750\n",
      "   macro avg     0.6255    0.5440    0.5344     19750\n",
      "weighted avg     0.6922    0.7355    0.6807     19750\n",
      "\n",
      "------------------------------------------------------------\n",
      "Epoch 9/20 | Time: 16.47s\n",
      "Train Loss: 0.6189 | Val Loss: 0.6161\n",
      "Val Accuracy: 0.7387\n",
      "              precision    recall  f1-score   support\n",
      "\n",
      "           0     0.6112    0.6315    0.6212      3012\n",
      "           1     0.4635    0.1489    0.2254      3713\n",
      "           2     0.7856    0.9316    0.8524     13025\n",
      "\n",
      "    accuracy                         0.7387     19750\n",
      "   macro avg     0.6201    0.5707    0.5663     19750\n",
      "weighted avg     0.6985    0.7387    0.6993     19750\n",
      "\n",
      "------------------------------------------------------------\n",
      "Epoch 10/20 | Time: 17.21s\n",
      "Train Loss: 0.6166 | Val Loss: 0.6165\n",
      "Val Accuracy: 0.7399\n",
      "              precision    recall  f1-score   support\n",
      "\n",
      "           0     0.6204    0.6218    0.6211      3012\n",
      "           1     0.4646    0.1697    0.2486      3713\n",
      "           2     0.7876    0.9298    0.8528     13025\n",
      "\n",
      "    accuracy                         0.7399     19750\n",
      "   macro avg     0.6242    0.5738    0.5742     19750\n",
      "weighted avg     0.7014    0.7399    0.7039     19750\n",
      "\n",
      "------------------------------------------------------------\n",
      "Epoch 11/20 | Time: 16.73s\n",
      "Train Loss: 0.6133 | Val Loss: 0.6422\n",
      "Val Accuracy: 0.7300\n",
      "              precision    recall  f1-score   support\n",
      "\n",
      "           0     0.7464    0.4183    0.5362      3012\n",
      "           1     0.4486    0.1411    0.2147      3713\n",
      "           2     0.7478    0.9700    0.8445     13025\n",
      "\n",
      "    accuracy                         0.7300     19750\n",
      "   macro avg     0.6476    0.5098    0.5318     19750\n",
      "weighted avg     0.6914    0.7300    0.6791     19750\n",
      "\n",
      "------------------------------------------------------------\n",
      "Epoch 12/20 | Time: 16.71s\n",
      "Train Loss: 0.6122 | Val Loss: 0.6267\n",
      "Val Accuracy: 0.7362\n",
      "              precision    recall  f1-score   support\n",
      "\n",
      "           0     0.6944    0.5040    0.5841      3012\n",
      "           1     0.4978    0.1234    0.1977      3713\n",
      "           2     0.7549    0.9646    0.8469     13025\n",
      "\n",
      "    accuracy                         0.7362     19750\n",
      "   macro avg     0.6490    0.5306    0.5429     19750\n",
      "weighted avg     0.6973    0.7362    0.6848     19750\n",
      "\n",
      "------------------------------------------------------------\n",
      "Early stopping at epoch 12\n"
     ]
    },
    {
     "name": "stderr",
     "output_type": "stream",
     "text": [
      "/tmp/ipykernel_31/3690151945.py:164: FutureWarning: You are using `torch.load` with `weights_only=False` (the current default value), which uses the default pickle module implicitly. It is possible to construct malicious pickle data which will execute arbitrary code during unpickling (See https://github.com/pytorch/pytorch/blob/main/SECURITY.md#untrusted-models for more details). In a future release, the default value for `weights_only` will be flipped to `True`. This limits the functions that could be executed during unpickling. Arbitrary objects will no longer be allowed to be loaded via this mode unless they are explicitly allowlisted by the user via `torch.serialization.add_safe_globals`. We recommend you start setting `weights_only=True` for any use case where you don't have full control of the loaded file. Please open an issue on GitHub for any issues related to this experimental feature.\n",
      "  model.load_state_dict(torch.load('best_model.pth'))\n"
     ]
    },
    {
     "name": "stdout",
     "output_type": "stream",
     "text": [
      "\n",
      "Final Test Results:\n",
      "              precision    recall  f1-score   support\n",
      "\n",
      "           0     0.5924    0.6354    0.6131      2921\n",
      "           1     0.4731    0.1585    0.2374      3780\n",
      "           2     0.7930    0.9329    0.8573     13050\n",
      "\n",
      "    accuracy                         0.7407     19751\n",
      "   macro avg     0.6195    0.5756    0.5693     19751\n",
      "weighted avg     0.7021    0.7407    0.7025     19751\n",
      "\n"
     ]
    }
   ],
   "source": [
    "import torch\n",
    "import torch.nn as nn\n",
    "from torch.utils.data import DataLoader, TensorDataset\n",
    "from sklearn.metrics import classification_report\n",
    "import time\n",
    "import numpy as np\n",
    "\n",
    "class BidirectionalLSTM(nn.Module):\n",
    "    def __init__(self, input_size, hidden_size, num_layers, output_size, dropout_prob=0.3):\n",
    "        super().__init__()\n",
    "        self.hidden_size = hidden_size\n",
    "        self.num_layers = num_layers\n",
    "\n",
    "        # Bidirectional LSTM\n",
    "        self.lstm = nn.LSTM(\n",
    "            input_size,\n",
    "            hidden_size // 2,  # Split hidden size for bidirectional\n",
    "            num_layers,\n",
    "            batch_first=True,\n",
    "            bidirectional=True,\n",
    "            dropout=dropout_prob if num_layers > 1 else 0\n",
    "        )\n",
    "        \n",
    "        self.batch_norm = nn.BatchNorm1d(hidden_size)\n",
    "        self.fc = nn.Linear(hidden_size, output_size)\n",
    "        \n",
    "        self.init_weights()\n",
    "\n",
    "    def init_weights(self):\n",
    "        for name, param in self.lstm.named_parameters():\n",
    "            if 'weight_ih' in name:\n",
    "                nn.init.xavier_normal_(param.data)\n",
    "            elif 'weight_hh' in name:\n",
    "                nn.init.orthogonal_(param.data)\n",
    "            elif 'bias' in name:\n",
    "                param.data.fill_(0)\n",
    "\n",
    "    def forward(self, x):\n",
    "        x = x.unsqueeze(1)\n",
    "        \n",
    "        lstm_out, _ = self.lstm(x)  # (batch_size, 1, hidden_size)\n",
    "        out = lstm_out[:, -1, :]\n",
    "        \n",
    "        out = self.batch_norm(out)\n",
    "        \n",
    "        out = self.fc(out)\n",
    "        return out\n",
    "\n",
    "def initialize_model(X_train, num_classes):\n",
    "    device = torch.device('cuda' if torch.cuda.is_available() else 'cpu')\n",
    "    \n",
    "    model_config = {\n",
    "        'input_size': X_train.shape[1],\n",
    "        'hidden_size': 128,\n",
    "        'num_layers': 2,\n",
    "        'output_size': num_classes,\n",
    "        'dropout_prob': 0.4\n",
    "    }\n",
    "    \n",
    "    model = BidirectionalLSTM(**model_config).to(device)\n",
    "    \n",
    "    training_config = {\n",
    "        'learning_rate': 0.001,\n",
    "        'weight_decay': 1e-4,\n",
    "        'clip_value': 0.5\n",
    "    }\n",
    "    \n",
    "    optimizer = torch.optim.AdamW(\n",
    "        model.parameters(),\n",
    "        lr=training_config['learning_rate'],\n",
    "        weight_decay=training_config['weight_decay']\n",
    "    )\n",
    "    \n",
    "    criterion = nn.CrossEntropyLoss()\n",
    "    scheduler = torch.optim.lr_scheduler.ReduceLROnPlateau(optimizer, 'min', patience=2)\n",
    "    \n",
    "    return device, model, optimizer, criterion, scheduler\n",
    "\n",
    "# 3. Training Function\n",
    "def train_model(model, train_loader, val_loader, optimizer, criterion, device, \n",
    "                scheduler=None, epochs=20, clip_value=0.5, patience=3):\n",
    "    best_val_loss = float('inf')\n",
    "    no_improve = 0\n",
    "    \n",
    "    for epoch in range(epochs):\n",
    "        start_time = time.time()\n",
    "        model.train()\n",
    "        train_loss = 0\n",
    "        \n",
    "        # Training\n",
    "        for inputs, labels in train_loader:\n",
    "            inputs, labels = inputs.to(device), labels.to(device)\n",
    "            \n",
    "            optimizer.zero_grad()\n",
    "            outputs = model(inputs)\n",
    "            loss = criterion(outputs, labels)\n",
    "            \n",
    "            torch.nn.utils.clip_grad_norm_(model.parameters(), clip_value)\n",
    "            loss.backward()\n",
    "            optimizer.step()\n",
    "            \n",
    "            train_loss += loss.item() * inputs.size(0)\n",
    "        \n",
    "        # Validation\n",
    "        model.eval()\n",
    "        val_loss = 0\n",
    "        correct = 0\n",
    "        all_preds = []\n",
    "        all_labels = []\n",
    "        \n",
    "        with torch.no_grad():\n",
    "            for inputs, labels in val_loader:\n",
    "                inputs, labels = inputs.to(device), labels.to(device)\n",
    "                outputs = model(inputs)\n",
    "                loss = criterion(outputs, labels)\n",
    "                \n",
    "                val_loss += loss.item() * inputs.size(0)\n",
    "                _, preds = torch.max(outputs, 1)\n",
    "                correct += (preds == labels).sum().item()\n",
    "                \n",
    "                all_preds.extend(preds.cpu().numpy())\n",
    "                all_labels.extend(labels.cpu().numpy())\n",
    "        \n",
    "    \n",
    "        train_loss /= len(train_loader.dataset)\n",
    "        val_loss /= len(val_loader.dataset)\n",
    "        val_acc = correct / len(val_loader.dataset)\n",
    "        \n",
    "        \n",
    "        if scheduler:\n",
    "            scheduler.step(val_loss)\n",
    "        \n",
    "    \n",
    "        epoch_time = time.time() - start_time\n",
    "        print(f'Epoch {epoch+1}/{epochs} | Time: {epoch_time:.2f}s')\n",
    "        print(f'Train Loss: {train_loss:.4f} | Val Loss: {val_loss:.4f}')\n",
    "        print(f'Val Accuracy: {val_acc:.4f}')\n",
    "        print(classification_report(all_labels, all_preds, digits=4))\n",
    "        print('-' * 60)\n",
    "        \n",
    "        if val_loss < best_val_loss:\n",
    "            best_val_loss = val_loss\n",
    "            no_improve = 0\n",
    "            torch.save(model.state_dict(), 'best_model.pth')\n",
    "        else:\n",
    "            no_improve += 1\n",
    "            if no_improve >= patience:\n",
    "                print(f'Early stopping at epoch {epoch+1}')\n",
    "                break\n",
    "\n",
    "def evaluate_model(model, test_loader, device):\n",
    "    model.load_state_dict(torch.load('best_model.pth'))\n",
    "    model.eval()\n",
    "    all_preds = []\n",
    "    all_labels = []\n",
    "    \n",
    "    with torch.no_grad():\n",
    "        for inputs, labels in test_loader:\n",
    "            inputs, labels = inputs.to(device), labels.to(device)\n",
    "            outputs = model(inputs)\n",
    "            _, preds = torch.max(outputs, 1)\n",
    "            \n",
    "            all_preds.extend(preds.cpu().numpy())\n",
    "            all_labels.extend(labels.cpu().numpy())\n",
    "    \n",
    "    print(\"\\nFinal Test Results:\")\n",
    "    print(classification_report(all_labels, all_preds, digits=4))\n",
    "    return all_preds, all_labels\n",
    "\n",
    "\n",
    "if __name__ == \"__main__\":\n",
    "    train_dataset = TensorDataset(torch.tensor(X_train), torch.tensor(y_train))\n",
    "    val_dataset = TensorDataset(torch.tensor(X_val), torch.tensor(y_val))\n",
    "    test_dataset = TensorDataset(torch.tensor(X_test), torch.tensor(y_test))\n",
    "\n",
    "    batch_size = 64\n",
    "    train_loader = DataLoader(train_dataset, batch_size=batch_size, shuffle=True)\n",
    "    val_loader = DataLoader(val_dataset, batch_size=batch_size)\n",
    "    test_loader = DataLoader(test_dataset, batch_size=batch_size)\n",
    "\n",
    "    device, model, optimizer, criterion, scheduler = initialize_model(\n",
    "        X_train=X_train,\n",
    "        num_classes=len(np.unique(y_train)))\n",
    "    \n",
    "    train_model(\n",
    "        model=model,\n",
    "        train_loader=train_loader,\n",
    "        val_loader=val_loader,\n",
    "        optimizer=optimizer,\n",
    "        criterion=criterion,\n",
    "        device=device,\n",
    "        scheduler=scheduler,\n",
    "        epochs=20,\n",
    "        clip_value=0.5,\n",
    "        patience=3\n",
    "    )\n",
    "    \n",
    "    test_preds, test_labels = evaluate_model(model, test_loader, device)"
   ]
  },
  {
   "cell_type": "code",
   "execution_count": 28,
   "metadata": {
    "execution": {
     "iopub.execute_input": "2025-04-23T06:12:40.165346Z",
     "iopub.status.busy": "2025-04-23T06:12:40.165002Z",
     "iopub.status.idle": "2025-04-23T06:12:40.489424Z",
     "shell.execute_reply": "2025-04-23T06:12:40.488549Z",
     "shell.execute_reply.started": "2025-04-23T06:12:40.165324Z"
    },
    "trusted": true
   },
   "outputs": [
    {
     "data": {
      "text/plain": [
       "<sklearn.metrics._plot.confusion_matrix.ConfusionMatrixDisplay at 0x793df3d63e10>"
      ]
     },
     "execution_count": 28,
     "metadata": {},
     "output_type": "execute_result"
    },
    {
     "data": {
      "image/png": "[encoded data removed]",
      "text/plain": [
       "<Figure size 640x480 with 2 Axes>"
      ]
     },
     "metadata": {},
     "output_type": "display_data"
    }
   ],
   "source": [
    "from sklearn.metrics import confusion_matrix, ConfusionMatrixDisplay\n",
    "cm = confusion_matrix(test_labels, test_preds)\n",
    "disp = ConfusionMatrixDisplay(confusion_matrix=cm)\n",
    "disp.plot()"
   ]
  }
 ],
 "metadata": {
  "kaggle": {
   "accelerator": "none",
   "dataSources": [
    {
     "datasetId": 7223218,
     "sourceId": 11517724,
     "sourceType": "datasetVersion"
    }
   ],
   "dockerImageVersionId": 31012,
   "isGpuEnabled": false,
   "isInternetEnabled": true,
   "language": "python",
   "sourceType": "notebook"
  },
  "kernelspec": {
   "display_name": "Python 3",
   "language": "python",
   "name": "python3"
  },
  "language_info": {
   "codemirror_mode": {
    "name": "ipython",
    "version": 3
   },
   "file_extension": ".py",
   "mimetype": "text/x-python",
   "name": "python",
   "nbconvert_exporter": "python",
   "pygments_lexer": "ipython3",
   "version": "3.11.11"
  }
 },
 "nbformat": 4,
 "nbformat_minor": 4
}
